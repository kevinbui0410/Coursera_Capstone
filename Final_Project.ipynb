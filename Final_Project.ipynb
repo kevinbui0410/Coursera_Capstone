{
  "nbformat": 4,
  "nbformat_minor": 0,
  "metadata": {
    "colab": {
      "name": "Final Project.ipynb",
      "provenance": [],
      "authorship_tag": "ABX9TyOuGIS8t+UhO6T8NGZDj86G",
      "include_colab_link": true
    },
    "kernelspec": {
      "name": "python3",
      "display_name": "Python 3"
    }
  },
  "cells": [
    {
      "cell_type": "markdown",
      "metadata": {
        "id": "view-in-github",
        "colab_type": "text"
      },
      "source": [
        "<a href=\"https://colab.research.google.com/github/kevinbui0410/Coursera_Capstone/blob/main/Final_Project.ipynb\" target=\"_parent\"><img src=\"https://colab.research.google.com/assets/colab-badge.svg\" alt=\"Open In Colab\"/></a>"
      ]
    },
    {
      "cell_type": "markdown",
      "metadata": {
        "id": "biAQfHmtVI6I"
      },
      "source": [
        "#Introduction/Business Problem\r\n",
        "\r\n",
        "#### We will move to Chilliwack - BC - Canada in next year. \r\n",
        "\r\n",
        "Immigation is not a simple process.\r\n",
        "\r\n",
        "We need to find out and understand a lot of things about the destination, including population, education, economic, housing price,...\r\n",
        "\r\n",
        "There are some major items I choose to collect and analyst to have an overview and make a best preparation for our journey.\r\n",
        "\r\n",
        "\r\n",
        "1.   The geometry and population information\r\n",
        "\r\n",
        "2.   Schools, languages and transpotation\r\n",
        "\r\n",
        "3.   We have a plan to setup a local restaurant or a baker, so we need to check and find out how many restaurants are there, and their location based on Foursquare databases.\r\n",
        "\r\n",
        "\r\n",
        "#### **Project Goals**:\r\n",
        "\r\n",
        "Find suitable area that we can live based on our future income.\r\n",
        "\r\n",
        "Find school for our children\r\n",
        "\r\n",
        "Report and cluster neighborhood to check if we should open a restaurant or not, \r\n",
        "\r\n",
        "and if yes, where we can open it.\r\n",
        "\r\n",
        "\r\n",
        "\r\n",
        "\r\n",
        "\r\n",
        " \r\n",
        "\r\n",
        "\r\n",
        "\r\n",
        "\r\n"
      ]
    },
    {
      "cell_type": "markdown",
      "metadata": {
        "id": "h6Km6SrO1qbU"
      },
      "source": [
        "# Data\r\n",
        "#### There are some data sources that we can use to do this project, here are the list of them:\r\n",
        "\r\n",
        "\r\n",
        "*   The Chilliwack Official Open Data: https://www.chilliwack.com/main/page.cfm?id=2329\r\n",
        "\r\n",
        "*   The BC Official Data: https://data.gov.bc.ca/\r\n",
        "\r\n",
        "*   Wikipedia: https://en.wikipedia.org/wiki/Chilliwack\r\n",
        "\r\n",
        "#### **Data Formation**:\r\n",
        "\r\n",
        "\r\n",
        "*   CSV\r\n",
        "*   JSON\r\n",
        "\r\n",
        "\r\n",
        "#### Some steps that we need to do:\r\n",
        "\r\n",
        "Create a dataframe contains Chilliwack's neighborhood info, including location, school, languague and population information.\r\n",
        "\r\n",
        "Report and visual data => this can help us to have a deeper overivew about Chilliwack.\r\n",
        "\r\n",
        "Call Foursquare API to explore Chilliwack's venues.\r\n",
        "\r\n",
        "\r\n",
        "\r\n",
        "\r\n",
        "\r\n",
        "\r\n",
        "\r\n"
      ]
    },
    {
      "cell_type": "code",
      "metadata": {
        "id": "HEonP_GJVFe_"
      },
      "source": [
        ""
      ],
      "execution_count": null,
      "outputs": []
    },
    {
      "cell_type": "code",
      "metadata": {
        "id": "HmEAFWtZVNsq"
      },
      "source": [
        ""
      ],
      "execution_count": null,
      "outputs": []
    }
  ]
}