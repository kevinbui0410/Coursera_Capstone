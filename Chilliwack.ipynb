{
  "nbformat": 4,
  "nbformat_minor": 0,
  "metadata": {
    "colab": {
      "name": "Chilliwack.ipynb",
      "provenance": [],
      "authorship_tag": "ABX9TyNmBQdoLuTlQNHiOtWr3Asl",
      "include_colab_link": true
    },
    "kernelspec": {
      "name": "python3",
      "display_name": "Python 3"
    }
  },
  "cells": [
    {
      "cell_type": "markdown",
      "metadata": {
        "id": "view-in-github",
        "colab_type": "text"
      },
      "source": [
        "<a href=\"https://colab.research.google.com/github/kevinbui0410/Coursera_Capstone/blob/main/Chilliwack.ipynb\" target=\"_parent\"><img src=\"https://colab.research.google.com/assets/colab-badge.svg\" alt=\"Open In Colab\"/></a>"
      ]
    },
    {
      "cell_type": "markdown",
      "metadata": {
        "id": "9aLL7lBRqA8K"
      },
      "source": [
        "**Collect data from wiki and Chillwack open data => Data Frame contain Chilliwack neighbourhoods, latitude, longitude**"
      ]
    },
    {
      "cell_type": "markdown",
      "metadata": {
        "id": "e_0Gp97X5dMu"
      },
      "source": [
        "**Getting neighborhood geo location from https://www.chilliwack.com/main/page.cfm?id=2331&odAction=viewItem&odID=154**"
      ]
    },
    {
      "cell_type": "code",
      "metadata": {
        "colab": {
          "base_uri": "https://localhost:8080/"
        },
        "id": "Qrhr7bWDp6Dc",
        "outputId": "64da1f0f-88c6-4a4a-a73f-738eb48ace1e"
      },
      "source": [
        "import warnings\r\n",
        "warnings.filterwarnings('ignore')\r\n",
        "\r\n",
        "import numpy as np\r\n",
        "import pandas as pd\r\n",
        "\r\n",
        "pd.set_option('display.max_columns', None)\r\n",
        "pd.set_option('display.max_rows', None)\r\n",
        "\r\n",
        "import json # library to handle JSON files\r\n",
        "\r\n",
        "from geopy.geocoders import Nominatim # convert an address into latitude and longitude values\r\n",
        "\r\n",
        "import requests # library to handle requests\r\n",
        "from pandas.io.json import json_normalize # tranform JSON file into a pandas dataframe\r\n",
        "\r\n",
        "# Matplotlib and associated plotting modules\r\n",
        "import matplotlib.cm as cm\r\n",
        "import matplotlib.colors as colors\r\n",
        "import matplotlib.pyplot as plt\r\n",
        "import seaborn as sns\r\n",
        "\r\n",
        "\r\n",
        "# import k-means from clustering stage\r\n",
        "from sklearn.cluster import KMeans\r\n",
        "\r\n",
        "#!conda install -c conda-forge folium=0.5.0 --yes # uncomment this line if you haven't completed the Foursquare API lab\r\n",
        "import folium # map rendering library\r\n",
        "\r\n",
        "print('Libraries imported.')"
      ],
      "execution_count": 1,
      "outputs": [
        {
          "output_type": "stream",
          "text": [
            "Libraries imported.\n"
          ],
          "name": "stdout"
        }
      ]
    },
    {
      "cell_type": "code",
      "metadata": {
        "colab": {
          "base_uri": "https://localhost:8080/"
        },
        "id": "9AX7BHak51sW",
        "outputId": "cffcd956-a152-4697-8eef-87eb72adbcd2"
      },
      "source": [
        "pip install geopandas"
      ],
      "execution_count": 2,
      "outputs": [
        {
          "output_type": "stream",
          "text": [
            "Collecting geopandas\n",
            "\u001b[?25l  Downloading https://files.pythonhosted.org/packages/f7/a4/e66aafbefcbb717813bf3a355c8c4fc3ed04ea1dd7feb2920f2f4f868921/geopandas-0.8.1-py2.py3-none-any.whl (962kB)\n",
            "\u001b[K     |████████████████████████████████| 972kB 5.5MB/s \n",
            "\u001b[?25hRequirement already satisfied: shapely in /usr/local/lib/python3.6/dist-packages (from geopandas) (1.7.1)\n",
            "Collecting pyproj>=2.2.0\n",
            "\u001b[?25l  Downloading https://files.pythonhosted.org/packages/e4/ab/280e80a67cfc109d15428c0ec56391fc03a65857b7727cf4e6e6f99a4204/pyproj-3.0.0.post1-cp36-cp36m-manylinux2010_x86_64.whl (6.4MB)\n",
            "\u001b[K     |████████████████████████████████| 6.5MB 11.5MB/s \n",
            "\u001b[?25hCollecting fiona\n",
            "\u001b[?25l  Downloading https://files.pythonhosted.org/packages/37/94/4910fd55246c1d963727b03885ead6ef1cd3748a465f7b0239ab25dfc9a3/Fiona-1.8.18-cp36-cp36m-manylinux1_x86_64.whl (14.8MB)\n",
            "\u001b[K     |████████████████████████████████| 14.8MB 302kB/s \n",
            "\u001b[?25hRequirement already satisfied: pandas>=0.23.0 in /usr/local/lib/python3.6/dist-packages (from geopandas) (1.1.5)\n",
            "Requirement already satisfied: certifi in /usr/local/lib/python3.6/dist-packages (from pyproj>=2.2.0->geopandas) (2020.12.5)\n",
            "Requirement already satisfied: click<8,>=4.0 in /usr/local/lib/python3.6/dist-packages (from fiona->geopandas) (7.1.2)\n",
            "Requirement already satisfied: attrs>=17 in /usr/local/lib/python3.6/dist-packages (from fiona->geopandas) (20.3.0)\n",
            "Requirement already satisfied: six>=1.7 in /usr/local/lib/python3.6/dist-packages (from fiona->geopandas) (1.15.0)\n",
            "Collecting munch\n",
            "  Downloading https://files.pythonhosted.org/packages/cc/ab/85d8da5c9a45e072301beb37ad7f833cd344e04c817d97e0cc75681d248f/munch-2.5.0-py2.py3-none-any.whl\n",
            "Collecting cligj>=0.5\n",
            "  Downloading https://files.pythonhosted.org/packages/42/1e/947eadf10d6804bf276eb8a038bd5307996dceaaa41cfd21b7a15ec62f5d/cligj-0.7.1-py3-none-any.whl\n",
            "Collecting click-plugins>=1.0\n",
            "  Downloading https://files.pythonhosted.org/packages/e9/da/824b92d9942f4e472702488857914bdd50f73021efea15b4cad9aca8ecef/click_plugins-1.1.1-py2.py3-none-any.whl\n",
            "Requirement already satisfied: python-dateutil>=2.7.3 in /usr/local/lib/python3.6/dist-packages (from pandas>=0.23.0->geopandas) (2.8.1)\n",
            "Requirement already satisfied: numpy>=1.15.4 in /usr/local/lib/python3.6/dist-packages (from pandas>=0.23.0->geopandas) (1.19.4)\n",
            "Requirement already satisfied: pytz>=2017.2 in /usr/local/lib/python3.6/dist-packages (from pandas>=0.23.0->geopandas) (2018.9)\n",
            "Installing collected packages: pyproj, munch, cligj, click-plugins, fiona, geopandas\n",
            "Successfully installed click-plugins-1.1.1 cligj-0.7.1 fiona-1.8.18 geopandas-0.8.1 munch-2.5.0 pyproj-3.0.0.post1\n"
          ],
          "name": "stdout"
        }
      ]
    },
    {
      "cell_type": "code",
      "metadata": {
        "colab": {
          "base_uri": "https://localhost:8080/"
        },
        "id": "0EC_KLfx5Fej",
        "outputId": "8f055c8d-cc77-4aeb-8e36-93f394f8641b"
      },
      "source": [
        "import geopandas as gpd\r\n",
        "ds_geo = gpd.read_file('http://www.kevin-bui.com/chilliwack/Neighbourhoods.JSON',orient='values')\r\n",
        "print(ds_geo.head())"
      ],
      "execution_count": 3,
      "outputs": [
        {
          "output_type": "stream",
          "text": [
            "                NAME                                           geometry\n",
            "0  Chilliwack Proper  POLYGON ((-121.93030 49.18599, -121.93037 49.1...\n",
            "1           Rosedale  POLYGON ((-121.79852 49.18495, -121.79840 49.1...\n",
            "2    Sardis - Vedder  POLYGON ((-121.96565 49.12280, -121.96608 49.1...\n",
            "3             Yarrow  POLYGON ((-122.06512 49.08816, -122.06519 49.0...\n",
            "4       Village West  POLYGON ((-121.98166 49.15912, -121.98187 49.1...\n"
          ],
          "name": "stdout"
        }
      ]
    },
    {
      "cell_type": "code",
      "metadata": {
        "colab": {
          "base_uri": "https://localhost:8080/",
          "height": 204
        },
        "id": "7--0_fNQ87x1",
        "outputId": "f9bf1fac-e616-4ba6-92e1-e6be76d08b62"
      },
      "source": [
        "ds_geo['longitude'] = ds_geo['geometry'].centroid.apply(lambda p: p.x)\r\n",
        "ds_geo['latitude'] = ds_geo['geometry'].centroid.apply(lambda p: p.y)\r\n",
        "ds_geo['area'] = ds_geo['geometry'].area\r\n",
        "ds_geo.head()"
      ],
      "execution_count": 4,
      "outputs": [
        {
          "output_type": "execute_result",
          "data": {
            "text/html": [
              "<div>\n",
              "<style scoped>\n",
              "    .dataframe tbody tr th:only-of-type {\n",
              "        vertical-align: middle;\n",
              "    }\n",
              "\n",
              "    .dataframe tbody tr th {\n",
              "        vertical-align: top;\n",
              "    }\n",
              "\n",
              "    .dataframe thead th {\n",
              "        text-align: right;\n",
              "    }\n",
              "</style>\n",
              "<table border=\"1\" class=\"dataframe\">\n",
              "  <thead>\n",
              "    <tr style=\"text-align: right;\">\n",
              "      <th></th>\n",
              "      <th>NAME</th>\n",
              "      <th>geometry</th>\n",
              "      <th>longitude</th>\n",
              "      <th>latitude</th>\n",
              "      <th>area</th>\n",
              "    </tr>\n",
              "  </thead>\n",
              "  <tbody>\n",
              "    <tr>\n",
              "      <th>0</th>\n",
              "      <td>Chilliwack Proper</td>\n",
              "      <td>POLYGON ((-121.93030 49.18599, -121.93037 49.1...</td>\n",
              "      <td>-121.944413</td>\n",
              "      <td>49.172067</td>\n",
              "      <td>0.001731</td>\n",
              "    </tr>\n",
              "    <tr>\n",
              "      <th>1</th>\n",
              "      <td>Rosedale</td>\n",
              "      <td>POLYGON ((-121.79852 49.18495, -121.79840 49.1...</td>\n",
              "      <td>-121.810642</td>\n",
              "      <td>49.178429</td>\n",
              "      <td>0.000091</td>\n",
              "    </tr>\n",
              "    <tr>\n",
              "      <th>2</th>\n",
              "      <td>Sardis - Vedder</td>\n",
              "      <td>POLYGON ((-121.96565 49.12280, -121.96608 49.1...</td>\n",
              "      <td>-121.966648</td>\n",
              "      <td>49.118807</td>\n",
              "      <td>0.001219</td>\n",
              "    </tr>\n",
              "    <tr>\n",
              "      <th>3</th>\n",
              "      <td>Yarrow</td>\n",
              "      <td>POLYGON ((-122.06512 49.08816, -122.06519 49.0...</td>\n",
              "      <td>-122.054833</td>\n",
              "      <td>49.083813</td>\n",
              "      <td>0.000204</td>\n",
              "    </tr>\n",
              "    <tr>\n",
              "      <th>4</th>\n",
              "      <td>Village West</td>\n",
              "      <td>POLYGON ((-121.98166 49.15912, -121.98187 49.1...</td>\n",
              "      <td>-121.996555</td>\n",
              "      <td>49.149808</td>\n",
              "      <td>0.000440</td>\n",
              "    </tr>\n",
              "  </tbody>\n",
              "</table>\n",
              "</div>"
            ],
            "text/plain": [
              "                NAME                                           geometry  \\\n",
              "0  Chilliwack Proper  POLYGON ((-121.93030 49.18599, -121.93037 49.1...   \n",
              "1           Rosedale  POLYGON ((-121.79852 49.18495, -121.79840 49.1...   \n",
              "2    Sardis - Vedder  POLYGON ((-121.96565 49.12280, -121.96608 49.1...   \n",
              "3             Yarrow  POLYGON ((-122.06512 49.08816, -122.06519 49.0...   \n",
              "4       Village West  POLYGON ((-121.98166 49.15912, -121.98187 49.1...   \n",
              "\n",
              "    longitude   latitude      area  \n",
              "0 -121.944413  49.172067  0.001731  \n",
              "1 -121.810642  49.178429  0.000091  \n",
              "2 -121.966648  49.118807  0.001219  \n",
              "3 -122.054833  49.083813  0.000204  \n",
              "4 -121.996555  49.149808  0.000440  "
            ]
          },
          "metadata": {
            "tags": []
          },
          "execution_count": 4
        }
      ]
    },
    {
      "cell_type": "code",
      "metadata": {
        "colab": {
          "base_uri": "https://localhost:8080/",
          "height": 511
        },
        "id": "A705iQ0c8SpE",
        "outputId": "3b0725df-1568-45c8-8fb3-81942794f70f"
      },
      "source": [
        "plt.figure(figsize=(10,6))\r\n",
        "# plt.barh(data=ds_geo,y='NAME',width='area')\r\n",
        "sns.barplot(data=ds_geo,x='NAME',y='area')\r\n",
        "plt.xticks(rotation=90)\r\n",
        "plt.title('Neighborhood Areas')"
      ],
      "execution_count": 5,
      "outputs": [
        {
          "output_type": "execute_result",
          "data": {
            "text/plain": [
              "Text(0.5, 1.0, 'Neighborhood Areas')"
            ]
          },
          "metadata": {
            "tags": []
          },
          "execution_count": 5
        },
        {
          "output_type": "display_data",
          "data": {
            "image/png": "[encoded data removed]",
            "text/plain": [
              "<Figure size 720x432 with 1 Axes>"
            ]
          },
          "metadata": {
            "tags": [],
            "needs_background": "light"
          }
        }
      ]
    },
    {
      "cell_type": "code",
      "metadata": {
        "colab": {
          "base_uri": "https://localhost:8080/"
        },
        "id": "cuyFThoKAaXb",
        "outputId": "25a40af4-36a5-44de-894a-cf1b48150271"
      },
      "source": [
        "ds_geo.shape"
      ],
      "execution_count": 6,
      "outputs": [
        {
          "output_type": "execute_result",
          "data": {
            "text/plain": [
              "(11, 5)"
            ]
          },
          "metadata": {
            "tags": []
          },
          "execution_count": 6
        }
      ]
    },
    {
      "cell_type": "markdown",
      "metadata": {
        "id": "SakNySp5_faM"
      },
      "source": [
        "**Create a map of Chilliwack with neighborhoods superimposed on top.**"
      ]
    },
    {
      "cell_type": "code",
      "metadata": {
        "colab": {
          "base_uri": "https://localhost:8080/"
        },
        "id": "5_AsOiqsq8O6",
        "outputId": "ec63a124-b8dc-4357-b20e-b75cf93802fd"
      },
      "source": [
        "address = 'Chilliwack'\r\n",
        "\r\n",
        "geolocator = Nominatim(user_agent=\"tr_explorer\")\r\n",
        "location = geolocator.geocode(address)\r\n",
        "latitude = location.latitude\r\n",
        "longitude = location.longitude\r\n",
        "print('The geograpical coordinate of Chilliwack City are {}, {}.'.format(latitude, longitude))"
      ],
      "execution_count": 7,
      "outputs": [
        {
          "output_type": "stream",
          "text": [
            "The geograpical coordinate of Chilliwack City are 49.157677, -121.9514307.\n"
          ],
          "name": "stdout"
        }
      ]
    },
    {
      "cell_type": "code",
      "metadata": {
        "colab": {
          "base_uri": "https://localhost:8080/",
          "height": 1000
        },
        "id": "AKomxax__vu1",
        "outputId": "d0ff45d8-42f9-4e92-c480-cb1c16bd4c26"
      },
      "source": [
        "# create map of Chilliwack using latitude and longitude values\r\n",
        "map_chilliwack = folium.Map(location=[latitude, longitude], zoom_start=10)\r\n",
        "\r\n",
        "# add markers to map\r\n",
        "for lat, lng, neighborhood in zip(ds_geo['latitude'], ds_geo['longitude'], ds_geo['NAME']):\r\n",
        "    label = '{}'.format(neighborhood)\r\n",
        "    label = folium.Popup(label, parse_html=True)\r\n",
        "    folium.CircleMarker(\r\n",
        "        [lat, lng],\r\n",
        "        radius=5,\r\n",
        "        popup=label,\r\n",
        "        color='blue',\r\n",
        "        fill=True,\r\n",
        "        fill_color='#3186cc',\r\n",
        "        fill_opacity=0.7,\r\n",
        "        parse_html=False).add_to(map_chilliwack)  \r\n",
        "    \r\n",
        "map_chilliwack"
      ],
      "execution_count": 8,
      "outputs": [
        {
          "output_type": "execute_result",
          "data": {
            "text/html": [
              "<div style=\"width:100%;\"><div style=\"position:relative;width:100%;height:0;padding-bottom:60%;\"><span style=\"color:#565656\">Make this Notebook Trusted to load map: File -> Trust Notebook</span><iframe src=\"about:blank\" style=\"position:absolute;width:100%;height:100%;left:0;top:0;border:none !important;\" data-html=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 onload=\"this.contentDocument.open();this.contentDocument.write(atob(this.getAttribute('data-html')));this.contentDocument.close();\" allowfullscreen webkitallowfullscreen mozallowfullscreen></iframe></div></div>"
            ],
            "text/plain": [
              "<folium.folium.Map at 0x7fdff0bb3780>"
            ]
          },
          "metadata": {
            "tags": []
          },
          "execution_count": 8
        }
      ]
    },
    {
      "cell_type": "markdown",
      "metadata": {
        "id": "r4D7MUCcApUS"
      },
      "source": [
        "# Segment and Cluster neighborhoods based on Foursquare Food Data\r\n",
        "**Next, we are going to start utilizing the Foursquare API to explore the neighborhoods and segment them.**"
      ]
    },
    {
      "cell_type": "code",
      "metadata": {
        "colab": {
          "base_uri": "https://localhost:8080/"
        },
        "id": "mSRliSgSAo-U",
        "outputId": "0af3889c-a784-4b8d-d271-b460e2499804"
      },
      "source": [
        "CLIENT_ID = 'ZJ24NYCNKYADQGHBVBEC510DD5BEJ4BYHEJCGJDYWBDWJMOJ' # your Foursquare ID\r\n",
        "CLIENT_SECRET = 'SKFFJMYTI1145TQMWOAHHBLMROWHF4BRT0ME42UYP0CDAIY1' # your Foursquare Secret\r\n",
        "VERSION = '20180605' # Foursquare API version\r\n",
        "LIMIT = 100 # A default Foursquare API limit value\r\n",
        "\r\n",
        "print('Your credentails:')\r\n",
        "print('CLIENT_ID: ' + CLIENT_ID)\r\n",
        "print('CLIENT_SECRET:' + CLIENT_SECRET)"
      ],
      "execution_count": 9,
      "outputs": [
        {
          "output_type": "stream",
          "text": [
            "Your credentails:\n",
            "CLIENT_ID: ZJ24NYCNKYADQGHBVBEC510DD5BEJ4BYHEJCGJDYWBDWJMOJ\n",
            "CLIENT_SECRET:SKFFJMYTI1145TQMWOAHHBLMROWHF4BRT0ME42UYP0CDAIY1\n"
          ],
          "name": "stdout"
        }
      ]
    },
    {
      "cell_type": "markdown",
      "metadata": {
        "id": "jI3wIw4bJDBf"
      },
      "source": [
        "Get the first neighborhood info"
      ]
    },
    {
      "cell_type": "code",
      "metadata": {
        "colab": {
          "base_uri": "https://localhost:8080/"
        },
        "id": "J9pIHrUdJPt9",
        "outputId": "1ce677fd-023c-4bfd-b15a-a8dcfc578881"
      },
      "source": [
        "neighborhood_latitude = ds_geo.loc[0, 'latitude'] # neighborhood latitude value\r\n",
        "neighborhood_longitude = ds_geo.loc[0, 'longitude'] # neighborhood longitude value\r\n",
        "\r\n",
        "neighborhood_name = ds_geo.loc[0, 'NAME'] # neighborhood name\r\n",
        "\r\n",
        "print('Latitude and longitude values of {} are {}, {}.'.format(neighborhood_name, \r\n",
        "                                                               neighborhood_latitude, \r\n",
        "                                                               neighborhood_longitude))"
      ],
      "execution_count": 10,
      "outputs": [
        {
          "output_type": "stream",
          "text": [
            "Latitude and longitude values of Chilliwack Proper are 49.172066790953444, -121.94441304243111.\n"
          ],
          "name": "stdout"
        }
      ]
    },
    {
      "cell_type": "markdown",
      "metadata": {
        "id": "rmDXqvanJqy7"
      },
      "source": [
        "**Now, let's get the top 100 venues that are in Chilliwack Proper within a radius of 500 meters.**"
      ]
    },
    {
      "cell_type": "markdown",
      "metadata": {
        "id": "gojpQilLJ3J0"
      },
      "source": [
        "Setup API"
      ]
    },
    {
      "cell_type": "code",
      "metadata": {
        "colab": {
          "base_uri": "https://localhost:8080/",
          "height": 52
        },
        "id": "WARWliOEJjcs",
        "outputId": "1d6919b5-57be-40bc-d169-7ac1b732df44"
      },
      "source": [
        "LIMIT = 100\r\n",
        "radius = 500\r\n",
        "categoryID = '4d4b7105d754a06374d81259' # search for food category only\r\n",
        "\r\n",
        "url = 'https://api.foursquare.com/v2/venues/explore?&client_id={}&client_secret={}&v={}&ll={},{}&radius={}&limit={}&categoryId={}'.format(\r\n",
        "    CLIENT_ID, \r\n",
        "    CLIENT_SECRET, \r\n",
        "    VERSION, \r\n",
        "    neighborhood_latitude, \r\n",
        "    neighborhood_longitude, \r\n",
        "    radius, \r\n",
        "    LIMIT,\r\n",
        "    categoryID)\r\n",
        "url"
      ],
      "execution_count": 11,
      "outputs": [
        {
          "output_type": "execute_result",
          "data": {
            "application/vnd.google.colaboratory.intrinsic+json": {
              "type": "string"
            },
            "text/plain": [
              "'https://api.foursquare.com/v2/venues/explore?&client_id=ZJ24NYCNKYADQGHBVBEC510DD5BEJ4BYHEJCGJDYWBDWJMOJ&client_secret=SKFFJMYTI1145TQMWOAHHBLMROWHF4BRT0ME42UYP0CDAIY1&v=20180605&ll=49.172066790953444,-121.94441304243111&radius=500&limit=100&categoryId=4d4b7105d754a06374d81259'"
            ]
          },
          "metadata": {
            "tags": []
          },
          "execution_count": 11
        }
      ]
    },
    {
      "cell_type": "markdown",
      "metadata": {
        "id": "U-elvyiuJ6sv"
      },
      "source": [
        "Call API to get data"
      ]
    },
    {
      "cell_type": "code",
      "metadata": {
        "colab": {
          "base_uri": "https://localhost:8080/"
        },
        "id": "C1_1Mf15JzGZ",
        "outputId": "e71fa7e3-ffbb-4b83-c447-f3e8a5072d89"
      },
      "source": [
        "results = requests.get(url).json()\r\n",
        "results"
      ],
      "execution_count": 12,
      "outputs": [
        {
          "output_type": "execute_result",
          "data": {
            "text/plain": [
              "{'meta': {'code': 200, 'requestId': '5fe1a8bb79763a1bc4cc547c'},\n",
              " 'response': {'groups': [{'items': [{'reasons': {'count': 0,\n",
              "       'items': [{'reasonName': 'globalInteractionReason',\n",
              "         'summary': 'This spot is popular',\n",
              "         'type': 'general'}]},\n",
              "      'referralId': 'e-0-4d549103cc65a14318c3435e-0',\n",
              "      'venue': {'categories': [{'icon': {'prefix': 'https://ss3.4sqi.net/img/categories_v2/food/fastfood_',\n",
              "          'suffix': '.png'},\n",
              "         'id': '4bf58dd8d48988d16e941735',\n",
              "         'name': 'Fast Food Restaurant',\n",
              "         'pluralName': 'Fast Food Restaurants',\n",
              "         'primary': True,\n",
              "         'shortName': 'Fast Food'}],\n",
              "       'id': '4d549103cc65a14318c3435e',\n",
              "       'location': {'address': '45843 Yale Road West',\n",
              "        'cc': 'CA',\n",
              "        'city': 'Chilliwack',\n",
              "        'country': 'Canada',\n",
              "        'distance': 483,\n",
              "        'formattedAddress': ['45843 Yale Road West',\n",
              "         'Chilliwack BC V2P 2M4',\n",
              "         'Canada'],\n",
              "        'labeledLatLngs': [{'label': 'display',\n",
              "          'lat': 49.1715,\n",
              "          'lng': -121.951}],\n",
              "        'lat': 49.1715,\n",
              "        'lng': -121.951,\n",
              "        'postalCode': 'V2P 2M4',\n",
              "        'state': 'BC'},\n",
              "       'name': 'KFC',\n",
              "       'photos': {'count': 0, 'groups': []},\n",
              "       'venuePage': {'id': '1359975347'}}},\n",
              "     {'reasons': {'count': 0,\n",
              "       'items': [{'reasonName': 'globalInteractionReason',\n",
              "         'summary': 'This spot is popular',\n",
              "         'type': 'general'}]},\n",
              "      'referralId': 'e-0-52471ba511d286ee15970261-1',\n",
              "      'venue': {'categories': [{'icon': {'prefix': 'https://ss3.4sqi.net/img/categories_v2/food/default_',\n",
              "          'suffix': '.png'},\n",
              "         'id': '4bf58dd8d48988d1c4941735',\n",
              "         'name': 'Restaurant',\n",
              "         'pluralName': 'Restaurants',\n",
              "         'primary': True,\n",
              "         'shortName': 'Restaurant'}],\n",
              "       'id': '52471ba511d286ee15970261',\n",
              "       'location': {'address': '46298 Yale Rd',\n",
              "        'cc': 'CA',\n",
              "        'city': 'Chilliwack',\n",
              "        'country': 'Canada',\n",
              "        'crossStreet': 'Williams St',\n",
              "        'distance': 183,\n",
              "        'formattedAddress': ['46298 Yale Rd (Williams St)',\n",
              "         'Chilliwack BC',\n",
              "         'Canada'],\n",
              "        'labeledLatLngs': [{'label': 'display',\n",
              "          'lat': 49.17307256728647,\n",
              "          'lng': -121.94641044897872}],\n",
              "        'lat': 49.17307256728647,\n",
              "        'lng': -121.94641044897872,\n",
              "        'state': 'BC'},\n",
              "       'name': \"Clark's\",\n",
              "       'photos': {'count': 0, 'groups': []}}},\n",
              "     {'reasons': {'count': 0,\n",
              "       'items': [{'reasonName': 'globalInteractionReason',\n",
              "         'summary': 'This spot is popular',\n",
              "         'type': 'general'}]},\n",
              "      'referralId': 'e-0-4bce32b368f976b053a76583-2',\n",
              "      'venue': {'categories': [{'icon': {'prefix': 'https://ss3.4sqi.net/img/categories_v2/food/default_',\n",
              "          'suffix': '.png'},\n",
              "         'id': '4bf58dd8d48988d1c4941735',\n",
              "         'name': 'Restaurant',\n",
              "         'pluralName': 'Restaurants',\n",
              "         'primary': True,\n",
              "         'shortName': 'Restaurant'}],\n",
              "       'id': '4bce32b368f976b053a76583',\n",
              "       'location': {'address': '46224 Yale Road',\n",
              "        'cc': 'CA',\n",
              "        'city': 'Chilliwack',\n",
              "        'country': 'Canada',\n",
              "        'distance': 396,\n",
              "        'formattedAddress': ['46224 Yale Road',\n",
              "         'Chilliwack BC V2P 2P3',\n",
              "         'Canada'],\n",
              "        'labeledLatLngs': [{'label': 'display',\n",
              "          'lat': 49.17146558694107,\n",
              "          'lng': -121.94977814096985}],\n",
              "        'lat': 49.17146558694107,\n",
              "        'lng': -121.94977814096985,\n",
              "        'postalCode': 'V2P 2P3',\n",
              "        'state': 'BC'},\n",
              "       'name': 'Bravo Restaurant & Lounge',\n",
              "       'photos': {'count': 0, 'groups': []}}},\n",
              "     {'reasons': {'count': 0,\n",
              "       'items': [{'reasonName': 'globalInteractionReason',\n",
              "         'summary': 'This spot is popular',\n",
              "         'type': 'general'}]},\n",
              "      'referralId': 'e-0-4e729cceaeb74a608a853dd4-3',\n",
              "      'venue': {'categories': [{'icon': {'prefix': 'https://ss3.4sqi.net/img/categories_v2/food/thai_',\n",
              "          'suffix': '.png'},\n",
              "         'id': '4bf58dd8d48988d149941735',\n",
              "         'name': 'Thai Restaurant',\n",
              "         'pluralName': 'Thai Restaurants',\n",
              "         'primary': True,\n",
              "         'shortName': 'Thai'}],\n",
              "       'id': '4e729cceaeb74a608a853dd4',\n",
              "       'location': {'address': '46212 Yale Road',\n",
              "        'cc': 'CA',\n",
              "        'city': 'Chilliwack',\n",
              "        'country': 'Canada',\n",
              "        'distance': 407,\n",
              "        'formattedAddress': ['46212 Yale Road',\n",
              "         'Chilliwack BC V2P 2P3',\n",
              "         'Canada'],\n",
              "        'labeledLatLngs': [{'label': 'display',\n",
              "          'lat': 49.171569574475654,\n",
              "          'lng': -121.94996429529866}],\n",
              "        'lat': 49.171569574475654,\n",
              "        'lng': -121.94996429529866,\n",
              "        'postalCode': 'V2P 2P3',\n",
              "        'state': 'BC'},\n",
              "       'name': 'Chilies Thai Restaurant',\n",
              "       'photos': {'count': 0, 'groups': []}}}],\n",
              "    'name': 'recommended',\n",
              "    'type': 'Recommended Places'}],\n",
              "  'headerFullLocation': 'Chilliwack Proper Village West, Chilliwack',\n",
              "  'headerLocation': 'Chilliwack Proper Village West',\n",
              "  'headerLocationGranularity': 'neighborhood',\n",
              "  'query': 'food',\n",
              "  'suggestedBounds': {'ne': {'lat': 49.176566795453446,\n",
              "    'lng': -121.93754293834238},\n",
              "   'sw': {'lat': 49.16756678645344, 'lng': -121.95128314651984}},\n",
              "  'totalResults': 4}}"
            ]
          },
          "metadata": {
            "tags": []
          },
          "execution_count": 12
        }
      ]
    },
    {
      "cell_type": "code",
      "metadata": {
        "id": "qRHIaSfVBDDL"
      },
      "source": [
        "# function that extracts the category of the venue\r\n",
        "def get_category_type(row):\r\n",
        "    try:\r\n",
        "        categories_list = row['categories']\r\n",
        "    except:\r\n",
        "        categories_list = row['venue.categories']\r\n",
        "        \r\n",
        "    if len(categories_list) == 0:\r\n",
        "        return None\r\n",
        "    else:\r\n",
        "        return categories_list[0]['name']"
      ],
      "execution_count": 13,
      "outputs": []
    },
    {
      "cell_type": "markdown",
      "metadata": {
        "id": "FvdZrnwiKKWG"
      },
      "source": [
        "**Get venue list from return data**"
      ]
    },
    {
      "cell_type": "code",
      "metadata": {
        "colab": {
          "base_uri": "https://localhost:8080/",
          "height": 173
        },
        "id": "y7q0lcx1KF1I",
        "outputId": "ae20887f-dffb-4de7-b745-22f1b3ecaab4"
      },
      "source": [
        "venues = results['response']['groups'][0]['items']\r\n",
        "    \r\n",
        "nearby_venues = json_normalize(venues) # flatten JSON\r\n",
        "\r\n",
        "# filter columns\r\n",
        "filtered_columns = ['venue.name', 'venue.categories', 'venue.location.lat', 'venue.location.lng']\r\n",
        "nearby_venues =nearby_venues.loc[:, filtered_columns]\r\n",
        "\r\n",
        "# filter the category for each row\r\n",
        "nearby_venues['venue.categories'] = nearby_venues.apply(get_category_type, axis=1)\r\n",
        "\r\n",
        "# clean columns\r\n",
        "nearby_venues.columns = [col.split(\".\")[-1] for col in nearby_venues.columns]\r\n",
        "\r\n",
        "nearby_venues.head()"
      ],
      "execution_count": 14,
      "outputs": [
        {
          "output_type": "execute_result",
          "data": {
            "text/html": [
              "<div>\n",
              "<style scoped>\n",
              "    .dataframe tbody tr th:only-of-type {\n",
              "        vertical-align: middle;\n",
              "    }\n",
              "\n",
              "    .dataframe tbody tr th {\n",
              "        vertical-align: top;\n",
              "    }\n",
              "\n",
              "    .dataframe thead th {\n",
              "        text-align: right;\n",
              "    }\n",
              "</style>\n",
              "<table border=\"1\" class=\"dataframe\">\n",
              "  <thead>\n",
              "    <tr style=\"text-align: right;\">\n",
              "      <th></th>\n",
              "      <th>name</th>\n",
              "      <th>categories</th>\n",
              "      <th>lat</th>\n",
              "      <th>lng</th>\n",
              "    </tr>\n",
              "  </thead>\n",
              "  <tbody>\n",
              "    <tr>\n",
              "      <th>0</th>\n",
              "      <td>KFC</td>\n",
              "      <td>Fast Food Restaurant</td>\n",
              "      <td>49.171500</td>\n",
              "      <td>-121.951000</td>\n",
              "    </tr>\n",
              "    <tr>\n",
              "      <th>1</th>\n",
              "      <td>Clark's</td>\n",
              "      <td>Restaurant</td>\n",
              "      <td>49.173073</td>\n",
              "      <td>-121.946410</td>\n",
              "    </tr>\n",
              "    <tr>\n",
              "      <th>2</th>\n",
              "      <td>Bravo Restaurant &amp; Lounge</td>\n",
              "      <td>Restaurant</td>\n",
              "      <td>49.171466</td>\n",
              "      <td>-121.949778</td>\n",
              "    </tr>\n",
              "    <tr>\n",
              "      <th>3</th>\n",
              "      <td>Chilies Thai Restaurant</td>\n",
              "      <td>Thai Restaurant</td>\n",
              "      <td>49.171570</td>\n",
              "      <td>-121.949964</td>\n",
              "    </tr>\n",
              "  </tbody>\n",
              "</table>\n",
              "</div>"
            ],
            "text/plain": [
              "                        name            categories        lat         lng\n",
              "0                        KFC  Fast Food Restaurant  49.171500 -121.951000\n",
              "1                    Clark's            Restaurant  49.173073 -121.946410\n",
              "2  Bravo Restaurant & Lounge            Restaurant  49.171466 -121.949778\n",
              "3    Chilies Thai Restaurant       Thai Restaurant  49.171570 -121.949964"
            ]
          },
          "metadata": {
            "tags": []
          },
          "execution_count": 14
        }
      ]
    },
    {
      "cell_type": "markdown",
      "metadata": {
        "id": "C-RTzhS2BfH4"
      },
      "source": [
        "**Apply to get for all chilliwack neighborhoods**"
      ]
    },
    {
      "cell_type": "code",
      "metadata": {
        "id": "dWd12b7FKIJh"
      },
      "source": [
        "def getNearbyVenues(names, latitudes, longitudes, categoryID = '4d4b7105d754a06374d81259', radius=500):\r\n",
        "\r\n",
        "    venues_list=[]\r\n",
        "    for name, lat, lng in zip(names, latitudes, longitudes):\r\n",
        "        print(name)\r\n",
        "            \r\n",
        "        # create the API request URL\r\n",
        "        url = 'https://api.foursquare.com/v2/venues/explore?&client_id={}&client_secret={}&v={}&ll={},{}&radius={}&limit={}&categoryId={}'.format(\r\n",
        "            CLIENT_ID, \r\n",
        "            CLIENT_SECRET, \r\n",
        "            VERSION, \r\n",
        "            lat, \r\n",
        "            lng, \r\n",
        "            radius,\r\n",
        "            LIMIT,\r\n",
        "            categoryID)\r\n",
        "            \r\n",
        "        # make the GET request       \r\n",
        "        results = requests.get(url).json()[\"response\"]['groups'][0]['items']\r\n",
        "        # return only relevant information for each nearby venue\r\n",
        "        venues_list.append([(\r\n",
        "            name, \r\n",
        "            lat, \r\n",
        "            lng, \r\n",
        "            v['venue']['name'], \r\n",
        "            v['venue']['location']['lat'], \r\n",
        "            v['venue']['location']['lng'],  \r\n",
        "            v['venue']['categories'][0]['name']) for v in results])\r\n",
        "\r\n",
        "    nearby_venues = pd.DataFrame([item for venue_list in venues_list for item in venue_list])\r\n",
        "    nearby_venues.columns = ['Neighborhood', \r\n",
        "                  'Neighborhood Latitude', \r\n",
        "                  'Neighborhood Longitude', \r\n",
        "                  'Venue', \r\n",
        "                  'Venue Latitude', \r\n",
        "                  'Venue Longitude', \r\n",
        "                  'Venue Category']\r\n",
        "    \r\n",
        "    return(nearby_venues)"
      ],
      "execution_count": 15,
      "outputs": []
    },
    {
      "cell_type": "code",
      "metadata": {
        "colab": {
          "base_uri": "https://localhost:8080/"
        },
        "id": "ySifBANcKx9K",
        "outputId": "8d3ba249-d4dd-499b-d10b-a2fe8cb8608d"
      },
      "source": [
        "chilliwack_venues = getNearbyVenues(names=ds_geo['NAME'],\r\n",
        "                                   latitudes=ds_geo['latitude'],\r\n",
        "                                   longitudes=ds_geo['longitude']\r\n",
        "                                  )"
      ],
      "execution_count": 16,
      "outputs": [
        {
          "output_type": "stream",
          "text": [
            "Chilliwack Proper\n",
            "Rosedale\n",
            "Sardis - Vedder\n",
            "Yarrow\n",
            "Village West\n",
            "Greendale\n",
            "Cattermole\n",
            "Chilliwack Mountain\n",
            "Ryder Lake\n",
            "Eastern Hillsides\n",
            "Promontory\n"
          ],
          "name": "stdout"
        }
      ]
    },
    {
      "cell_type": "markdown",
      "metadata": {
        "id": "CM_4Ye7LLJid"
      },
      "source": [
        "**Let's check the size of the resulting dataframe**"
      ]
    },
    {
      "cell_type": "code",
      "metadata": {
        "colab": {
          "base_uri": "https://localhost:8080/",
          "height": 221
        },
        "id": "O0hWubvtK5q6",
        "outputId": "1f8df9f2-d055-446b-c333-f5ca0e724c07"
      },
      "source": [
        "print(chilliwack_venues.shape)\r\n",
        "chilliwack_venues.head()"
      ],
      "execution_count": 17,
      "outputs": [
        {
          "output_type": "stream",
          "text": [
            "(12, 7)\n"
          ],
          "name": "stdout"
        },
        {
          "output_type": "execute_result",
          "data": {
            "text/html": [
              "<div>\n",
              "<style scoped>\n",
              "    .dataframe tbody tr th:only-of-type {\n",
              "        vertical-align: middle;\n",
              "    }\n",
              "\n",
              "    .dataframe tbody tr th {\n",
              "        vertical-align: top;\n",
              "    }\n",
              "\n",
              "    .dataframe thead th {\n",
              "        text-align: right;\n",
              "    }\n",
              "</style>\n",
              "<table border=\"1\" class=\"dataframe\">\n",
              "  <thead>\n",
              "    <tr style=\"text-align: right;\">\n",
              "      <th></th>\n",
              "      <th>Neighborhood</th>\n",
              "      <th>Neighborhood Latitude</th>\n",
              "      <th>Neighborhood Longitude</th>\n",
              "      <th>Venue</th>\n",
              "      <th>Venue Latitude</th>\n",
              "      <th>Venue Longitude</th>\n",
              "      <th>Venue Category</th>\n",
              "    </tr>\n",
              "  </thead>\n",
              "  <tbody>\n",
              "    <tr>\n",
              "      <th>0</th>\n",
              "      <td>Chilliwack Proper</td>\n",
              "      <td>49.172067</td>\n",
              "      <td>-121.944413</td>\n",
              "      <td>KFC</td>\n",
              "      <td>49.171500</td>\n",
              "      <td>-121.951000</td>\n",
              "      <td>Fast Food Restaurant</td>\n",
              "    </tr>\n",
              "    <tr>\n",
              "      <th>1</th>\n",
              "      <td>Chilliwack Proper</td>\n",
              "      <td>49.172067</td>\n",
              "      <td>-121.944413</td>\n",
              "      <td>Clark's</td>\n",
              "      <td>49.173073</td>\n",
              "      <td>-121.946410</td>\n",
              "      <td>Restaurant</td>\n",
              "    </tr>\n",
              "    <tr>\n",
              "      <th>2</th>\n",
              "      <td>Chilliwack Proper</td>\n",
              "      <td>49.172067</td>\n",
              "      <td>-121.944413</td>\n",
              "      <td>Bravo Restaurant &amp; Lounge</td>\n",
              "      <td>49.171466</td>\n",
              "      <td>-121.949778</td>\n",
              "      <td>Restaurant</td>\n",
              "    </tr>\n",
              "    <tr>\n",
              "      <th>3</th>\n",
              "      <td>Chilliwack Proper</td>\n",
              "      <td>49.172067</td>\n",
              "      <td>-121.944413</td>\n",
              "      <td>Chilies Thai Restaurant</td>\n",
              "      <td>49.171570</td>\n",
              "      <td>-121.949964</td>\n",
              "      <td>Thai Restaurant</td>\n",
              "    </tr>\n",
              "    <tr>\n",
              "      <th>4</th>\n",
              "      <td>Sardis - Vedder</td>\n",
              "      <td>49.118807</td>\n",
              "      <td>-121.966648</td>\n",
              "      <td>Fig Guy Keith Wilson</td>\n",
              "      <td>49.119464</td>\n",
              "      <td>-121.972118</td>\n",
              "      <td>Food</td>\n",
              "    </tr>\n",
              "  </tbody>\n",
              "</table>\n",
              "</div>"
            ],
            "text/plain": [
              "        Neighborhood  Neighborhood Latitude  Neighborhood Longitude  \\\n",
              "0  Chilliwack Proper              49.172067             -121.944413   \n",
              "1  Chilliwack Proper              49.172067             -121.944413   \n",
              "2  Chilliwack Proper              49.172067             -121.944413   \n",
              "3  Chilliwack Proper              49.172067             -121.944413   \n",
              "4    Sardis - Vedder              49.118807             -121.966648   \n",
              "\n",
              "                       Venue  Venue Latitude  Venue Longitude  \\\n",
              "0                        KFC       49.171500      -121.951000   \n",
              "1                    Clark's       49.173073      -121.946410   \n",
              "2  Bravo Restaurant & Lounge       49.171466      -121.949778   \n",
              "3    Chilies Thai Restaurant       49.171570      -121.949964   \n",
              "4       Fig Guy Keith Wilson       49.119464      -121.972118   \n",
              "\n",
              "         Venue Category  \n",
              "0  Fast Food Restaurant  \n",
              "1            Restaurant  \n",
              "2            Restaurant  \n",
              "3       Thai Restaurant  \n",
              "4                  Food  "
            ]
          },
          "metadata": {
            "tags": []
          },
          "execution_count": 17
        }
      ]
    },
    {
      "cell_type": "markdown",
      "metadata": {
        "id": "xNJIn6_sLXIG"
      },
      "source": [
        "**Let's check how many venues were returned for each neighborhood**"
      ]
    },
    {
      "cell_type": "code",
      "metadata": {
        "colab": {
          "base_uri": "https://localhost:8080/",
          "height": 235
        },
        "id": "biswT6xALPMh",
        "outputId": "e2dc9d19-9ce2-435a-e7db-00c80395acd1"
      },
      "source": [
        "chilliwack_venues.groupby('Neighborhood').count()"
      ],
      "execution_count": 18,
      "outputs": [
        {
          "output_type": "execute_result",
          "data": {
            "text/html": [
              "<div>\n",
              "<style scoped>\n",
              "    .dataframe tbody tr th:only-of-type {\n",
              "        vertical-align: middle;\n",
              "    }\n",
              "\n",
              "    .dataframe tbody tr th {\n",
              "        vertical-align: top;\n",
              "    }\n",
              "\n",
              "    .dataframe thead th {\n",
              "        text-align: right;\n",
              "    }\n",
              "</style>\n",
              "<table border=\"1\" class=\"dataframe\">\n",
              "  <thead>\n",
              "    <tr style=\"text-align: right;\">\n",
              "      <th></th>\n",
              "      <th>Neighborhood Latitude</th>\n",
              "      <th>Neighborhood Longitude</th>\n",
              "      <th>Venue</th>\n",
              "      <th>Venue Latitude</th>\n",
              "      <th>Venue Longitude</th>\n",
              "      <th>Venue Category</th>\n",
              "    </tr>\n",
              "    <tr>\n",
              "      <th>Neighborhood</th>\n",
              "      <th></th>\n",
              "      <th></th>\n",
              "      <th></th>\n",
              "      <th></th>\n",
              "      <th></th>\n",
              "      <th></th>\n",
              "    </tr>\n",
              "  </thead>\n",
              "  <tbody>\n",
              "    <tr>\n",
              "      <th>Chilliwack Proper</th>\n",
              "      <td>4</td>\n",
              "      <td>4</td>\n",
              "      <td>4</td>\n",
              "      <td>4</td>\n",
              "      <td>4</td>\n",
              "      <td>4</td>\n",
              "    </tr>\n",
              "    <tr>\n",
              "      <th>Promontory</th>\n",
              "      <td>2</td>\n",
              "      <td>2</td>\n",
              "      <td>2</td>\n",
              "      <td>2</td>\n",
              "      <td>2</td>\n",
              "      <td>2</td>\n",
              "    </tr>\n",
              "    <tr>\n",
              "      <th>Sardis - Vedder</th>\n",
              "      <td>1</td>\n",
              "      <td>1</td>\n",
              "      <td>1</td>\n",
              "      <td>1</td>\n",
              "      <td>1</td>\n",
              "      <td>1</td>\n",
              "    </tr>\n",
              "    <tr>\n",
              "      <th>Village West</th>\n",
              "      <td>1</td>\n",
              "      <td>1</td>\n",
              "      <td>1</td>\n",
              "      <td>1</td>\n",
              "      <td>1</td>\n",
              "      <td>1</td>\n",
              "    </tr>\n",
              "    <tr>\n",
              "      <th>Yarrow</th>\n",
              "      <td>4</td>\n",
              "      <td>4</td>\n",
              "      <td>4</td>\n",
              "      <td>4</td>\n",
              "      <td>4</td>\n",
              "      <td>4</td>\n",
              "    </tr>\n",
              "  </tbody>\n",
              "</table>\n",
              "</div>"
            ],
            "text/plain": [
              "                   Neighborhood Latitude  Neighborhood Longitude  Venue  \\\n",
              "Neighborhood                                                              \n",
              "Chilliwack Proper                      4                       4      4   \n",
              "Promontory                             2                       2      2   \n",
              "Sardis - Vedder                        1                       1      1   \n",
              "Village West                           1                       1      1   \n",
              "Yarrow                                 4                       4      4   \n",
              "\n",
              "                   Venue Latitude  Venue Longitude  Venue Category  \n",
              "Neighborhood                                                        \n",
              "Chilliwack Proper               4                4               4  \n",
              "Promontory                      2                2               2  \n",
              "Sardis - Vedder                 1                1               1  \n",
              "Village West                    1                1               1  \n",
              "Yarrow                          4                4               4  "
            ]
          },
          "metadata": {
            "tags": []
          },
          "execution_count": 18
        }
      ]
    },
    {
      "cell_type": "markdown",
      "metadata": {
        "id": "IL5WqvOkLkVD"
      },
      "source": [
        "**Let's find out how many unique categories can be curated from all the returned venues**"
      ]
    },
    {
      "cell_type": "code",
      "metadata": {
        "colab": {
          "base_uri": "https://localhost:8080/"
        },
        "id": "3QGpRg2KLbnq",
        "outputId": "8897b913-523b-43f9-c2d7-86b58c7877e3"
      },
      "source": [
        "print('There are {} uniques categories.'.format(len(chilliwack_venues['Venue Category'].unique())))"
      ],
      "execution_count": 19,
      "outputs": [
        {
          "output_type": "stream",
          "text": [
            "There are 9 uniques categories.\n"
          ],
          "name": "stdout"
        }
      ]
    },
    {
      "cell_type": "markdown",
      "metadata": {
        "id": "Aj5ckC8hLxCu"
      },
      "source": [
        "### Analyze Each Neighborhood\r\n"
      ]
    },
    {
      "cell_type": "code",
      "metadata": {
        "colab": {
          "base_uri": "https://localhost:8080/",
          "height": 204
        },
        "id": "l0K72ivHLoxH",
        "outputId": "a4970e23-cc8e-4e83-d822-6790f142d3c0"
      },
      "source": [
        "# one hot encoding\r\n",
        "chilliwack_onehot = pd.get_dummies(chilliwack_venues[['Venue Category']], prefix=\"\", prefix_sep=\"\")\r\n",
        "\r\n",
        "# add neighborhood column back to dataframe\r\n",
        "chilliwack_onehot['Neighborhood'] = chilliwack_venues['Neighborhood'] \r\n",
        "\r\n",
        "# move neighborhood column to the first column\r\n",
        "fixed_columns = [chilliwack_onehot.columns[-1]] + list(chilliwack_onehot.columns[:-1])\r\n",
        "chilliwack_onehot = chilliwack_onehot[fixed_columns]\r\n",
        "\r\n",
        "chilliwack_onehot.head()"
      ],
      "execution_count": 20,
      "outputs": [
        {
          "output_type": "execute_result",
          "data": {
            "text/html": [
              "<div>\n",
              "<style scoped>\n",
              "    .dataframe tbody tr th:only-of-type {\n",
              "        vertical-align: middle;\n",
              "    }\n",
              "\n",
              "    .dataframe tbody tr th {\n",
              "        vertical-align: top;\n",
              "    }\n",
              "\n",
              "    .dataframe thead th {\n",
              "        text-align: right;\n",
              "    }\n",
              "</style>\n",
              "<table border=\"1\" class=\"dataframe\">\n",
              "  <thead>\n",
              "    <tr style=\"text-align: right;\">\n",
              "      <th></th>\n",
              "      <th>Neighborhood</th>\n",
              "      <th>Bakery</th>\n",
              "      <th>Breakfast Spot</th>\n",
              "      <th>Deli / Bodega</th>\n",
              "      <th>Fast Food Restaurant</th>\n",
              "      <th>Food</th>\n",
              "      <th>Pizza Place</th>\n",
              "      <th>Restaurant</th>\n",
              "      <th>Taco Place</th>\n",
              "      <th>Thai Restaurant</th>\n",
              "    </tr>\n",
              "  </thead>\n",
              "  <tbody>\n",
              "    <tr>\n",
              "      <th>0</th>\n",
              "      <td>Chilliwack Proper</td>\n",
              "      <td>0</td>\n",
              "      <td>0</td>\n",
              "      <td>0</td>\n",
              "      <td>1</td>\n",
              "      <td>0</td>\n",
              "      <td>0</td>\n",
              "      <td>0</td>\n",
              "      <td>0</td>\n",
              "      <td>0</td>\n",
              "    </tr>\n",
              "    <tr>\n",
              "      <th>1</th>\n",
              "      <td>Chilliwack Proper</td>\n",
              "      <td>0</td>\n",
              "      <td>0</td>\n",
              "      <td>0</td>\n",
              "      <td>0</td>\n",
              "      <td>0</td>\n",
              "      <td>0</td>\n",
              "      <td>1</td>\n",
              "      <td>0</td>\n",
              "      <td>0</td>\n",
              "    </tr>\n",
              "    <tr>\n",
              "      <th>2</th>\n",
              "      <td>Chilliwack Proper</td>\n",
              "      <td>0</td>\n",
              "      <td>0</td>\n",
              "      <td>0</td>\n",
              "      <td>0</td>\n",
              "      <td>0</td>\n",
              "      <td>0</td>\n",
              "      <td>1</td>\n",
              "      <td>0</td>\n",
              "      <td>0</td>\n",
              "    </tr>\n",
              "    <tr>\n",
              "      <th>3</th>\n",
              "      <td>Chilliwack Proper</td>\n",
              "      <td>0</td>\n",
              "      <td>0</td>\n",
              "      <td>0</td>\n",
              "      <td>0</td>\n",
              "      <td>0</td>\n",
              "      <td>0</td>\n",
              "      <td>0</td>\n",
              "      <td>0</td>\n",
              "      <td>1</td>\n",
              "    </tr>\n",
              "    <tr>\n",
              "      <th>4</th>\n",
              "      <td>Sardis - Vedder</td>\n",
              "      <td>0</td>\n",
              "      <td>0</td>\n",
              "      <td>0</td>\n",
              "      <td>0</td>\n",
              "      <td>1</td>\n",
              "      <td>0</td>\n",
              "      <td>0</td>\n",
              "      <td>0</td>\n",
              "      <td>0</td>\n",
              "    </tr>\n",
              "  </tbody>\n",
              "</table>\n",
              "</div>"
            ],
            "text/plain": [
              "        Neighborhood  Bakery  Breakfast Spot  Deli / Bodega  \\\n",
              "0  Chilliwack Proper       0               0              0   \n",
              "1  Chilliwack Proper       0               0              0   \n",
              "2  Chilliwack Proper       0               0              0   \n",
              "3  Chilliwack Proper       0               0              0   \n",
              "4    Sardis - Vedder       0               0              0   \n",
              "\n",
              "   Fast Food Restaurant  Food  Pizza Place  Restaurant  Taco Place  \\\n",
              "0                     1     0            0           0           0   \n",
              "1                     0     0            0           1           0   \n",
              "2                     0     0            0           1           0   \n",
              "3                     0     0            0           0           0   \n",
              "4                     0     1            0           0           0   \n",
              "\n",
              "   Thai Restaurant  \n",
              "0                0  \n",
              "1                0  \n",
              "2                0  \n",
              "3                1  \n",
              "4                0  "
            ]
          },
          "metadata": {
            "tags": []
          },
          "execution_count": 20
        }
      ]
    },
    {
      "cell_type": "code",
      "metadata": {
        "colab": {
          "base_uri": "https://localhost:8080/"
        },
        "id": "6wvseGXPMDSr",
        "outputId": "78f78b15-35c8-4277-ba88-bb3bf5477a2b"
      },
      "source": [
        "chilliwack_onehot.shape"
      ],
      "execution_count": 21,
      "outputs": [
        {
          "output_type": "execute_result",
          "data": {
            "text/plain": [
              "(12, 10)"
            ]
          },
          "metadata": {
            "tags": []
          },
          "execution_count": 21
        }
      ]
    },
    {
      "cell_type": "markdown",
      "metadata": {
        "id": "q1pWCP-2MLOc"
      },
      "source": [
        "#### Next, let's group rows by neighborhood and by taking the mean of the frequency of occurrence of each category"
      ]
    },
    {
      "cell_type": "code",
      "metadata": {
        "colab": {
          "base_uri": "https://localhost:8080/",
          "height": 204
        },
        "id": "HlQ0iZt1MIZK",
        "outputId": "b7f6baef-b022-45f0-db96-1a8b6792d064"
      },
      "source": [
        "chilliwack_grouped = chilliwack_onehot.groupby('Neighborhood').sum().reset_index()\r\n",
        "chilliwack_grouped"
      ],
      "execution_count": 22,
      "outputs": [
        {
          "output_type": "execute_result",
          "data": {
            "text/html": [
              "<div>\n",
              "<style scoped>\n",
              "    .dataframe tbody tr th:only-of-type {\n",
              "        vertical-align: middle;\n",
              "    }\n",
              "\n",
              "    .dataframe tbody tr th {\n",
              "        vertical-align: top;\n",
              "    }\n",
              "\n",
              "    .dataframe thead th {\n",
              "        text-align: right;\n",
              "    }\n",
              "</style>\n",
              "<table border=\"1\" class=\"dataframe\">\n",
              "  <thead>\n",
              "    <tr style=\"text-align: right;\">\n",
              "      <th></th>\n",
              "      <th>Neighborhood</th>\n",
              "      <th>Bakery</th>\n",
              "      <th>Breakfast Spot</th>\n",
              "      <th>Deli / Bodega</th>\n",
              "      <th>Fast Food Restaurant</th>\n",
              "      <th>Food</th>\n",
              "      <th>Pizza Place</th>\n",
              "      <th>Restaurant</th>\n",
              "      <th>Taco Place</th>\n",
              "      <th>Thai Restaurant</th>\n",
              "    </tr>\n",
              "  </thead>\n",
              "  <tbody>\n",
              "    <tr>\n",
              "      <th>0</th>\n",
              "      <td>Chilliwack Proper</td>\n",
              "      <td>0</td>\n",
              "      <td>0</td>\n",
              "      <td>0</td>\n",
              "      <td>1</td>\n",
              "      <td>0</td>\n",
              "      <td>0</td>\n",
              "      <td>2</td>\n",
              "      <td>0</td>\n",
              "      <td>1</td>\n",
              "    </tr>\n",
              "    <tr>\n",
              "      <th>1</th>\n",
              "      <td>Promontory</td>\n",
              "      <td>0</td>\n",
              "      <td>0</td>\n",
              "      <td>1</td>\n",
              "      <td>0</td>\n",
              "      <td>0</td>\n",
              "      <td>1</td>\n",
              "      <td>0</td>\n",
              "      <td>0</td>\n",
              "      <td>0</td>\n",
              "    </tr>\n",
              "    <tr>\n",
              "      <th>2</th>\n",
              "      <td>Sardis - Vedder</td>\n",
              "      <td>0</td>\n",
              "      <td>0</td>\n",
              "      <td>0</td>\n",
              "      <td>0</td>\n",
              "      <td>1</td>\n",
              "      <td>0</td>\n",
              "      <td>0</td>\n",
              "      <td>0</td>\n",
              "      <td>0</td>\n",
              "    </tr>\n",
              "    <tr>\n",
              "      <th>3</th>\n",
              "      <td>Village West</td>\n",
              "      <td>0</td>\n",
              "      <td>0</td>\n",
              "      <td>0</td>\n",
              "      <td>0</td>\n",
              "      <td>0</td>\n",
              "      <td>0</td>\n",
              "      <td>1</td>\n",
              "      <td>0</td>\n",
              "      <td>0</td>\n",
              "    </tr>\n",
              "    <tr>\n",
              "      <th>4</th>\n",
              "      <td>Yarrow</td>\n",
              "      <td>1</td>\n",
              "      <td>1</td>\n",
              "      <td>1</td>\n",
              "      <td>0</td>\n",
              "      <td>0</td>\n",
              "      <td>0</td>\n",
              "      <td>0</td>\n",
              "      <td>1</td>\n",
              "      <td>0</td>\n",
              "    </tr>\n",
              "  </tbody>\n",
              "</table>\n",
              "</div>"
            ],
            "text/plain": [
              "        Neighborhood  Bakery  Breakfast Spot  Deli / Bodega  \\\n",
              "0  Chilliwack Proper       0               0              0   \n",
              "1         Promontory       0               0              1   \n",
              "2    Sardis - Vedder       0               0              0   \n",
              "3       Village West       0               0              0   \n",
              "4             Yarrow       1               1              1   \n",
              "\n",
              "   Fast Food Restaurant  Food  Pizza Place  Restaurant  Taco Place  \\\n",
              "0                     1     0            0           2           0   \n",
              "1                     0     0            1           0           0   \n",
              "2                     0     1            0           0           0   \n",
              "3                     0     0            0           1           0   \n",
              "4                     0     0            0           0           1   \n",
              "\n",
              "   Thai Restaurant  \n",
              "0                1  \n",
              "1                0  \n",
              "2                0  \n",
              "3                0  \n",
              "4                0  "
            ]
          },
          "metadata": {
            "tags": []
          },
          "execution_count": 22
        }
      ]
    },
    {
      "cell_type": "code",
      "metadata": {
        "colab": {
          "base_uri": "https://localhost:8080/",
          "height": 605
        },
        "id": "01iaUJ8VHJtR",
        "outputId": "97a43949-9e1e-48e9-dc6a-01ac37217b81"
      },
      "source": [
        "chilliwack_grouped.plot.bar(x='Neighborhood',figsize=(10,8), title='Food Venues in Chilliwack')"
      ],
      "execution_count": 23,
      "outputs": [
        {
          "output_type": "execute_result",
          "data": {
            "text/plain": [
              "<matplotlib.axes._subplots.AxesSubplot at 0x7fdff06a7780>"
            ]
          },
          "metadata": {
            "tags": []
          },
          "execution_count": 23
        },
        {
          "output_type": "display_data",
          "data": {
            "image/png": "[encoded data removed]",
            "text/plain": [
              "<Figure size 720x576 with 1 Axes>"
            ]
          },
          "metadata": {
            "tags": [],
            "needs_background": "light"
          }
        }
      ]
    },
    {
      "cell_type": "markdown",
      "metadata": {
        "id": "jTK8Bv1SMWTK"
      },
      "source": [
        "**Check size**"
      ]
    },
    {
      "cell_type": "code",
      "metadata": {
        "colab": {
          "base_uri": "https://localhost:8080/"
        },
        "id": "gxi87ie7MSRS",
        "outputId": "248b9caf-dc53-4a85-d388-df018a2f37c1"
      },
      "source": [
        "chilliwack_grouped.shape"
      ],
      "execution_count": 24,
      "outputs": [
        {
          "output_type": "execute_result",
          "data": {
            "text/plain": [
              "(5, 10)"
            ]
          },
          "metadata": {
            "tags": []
          },
          "execution_count": 24
        }
      ]
    },
    {
      "cell_type": "markdown",
      "metadata": {
        "id": "ai-zP3HxMfFE"
      },
      "source": [
        "**Let's print each neighborhood along with the top 5 most common venues**"
      ]
    },
    {
      "cell_type": "code",
      "metadata": {
        "colab": {
          "base_uri": "https://localhost:8080/"
        },
        "id": "iQEHerV1MZpK",
        "outputId": "c89f1425-3484-41b3-8172-9fbd70d18cb0"
      },
      "source": [
        "num_top_venues = 5\r\n",
        "\r\n",
        "for hood in chilliwack_grouped['Neighborhood']:\r\n",
        "    print(\"----\"+hood+\"----\")\r\n",
        "    temp = chilliwack_grouped[chilliwack_grouped['Neighborhood'] == hood].T.reset_index()\r\n",
        "    temp.columns = ['venue','freq']\r\n",
        "    temp = temp.iloc[1:]\r\n",
        "    temp['freq'] = temp['freq'].astype(float)\r\n",
        "    temp = temp.round({'freq': 2})\r\n",
        "    print(temp.sort_values('freq', ascending=False).reset_index(drop=True).head(num_top_venues))\r\n",
        "    print('\\n')"
      ],
      "execution_count": 25,
      "outputs": [
        {
          "output_type": "stream",
          "text": [
            "----Chilliwack Proper----\n",
            "                  venue  freq\n",
            "0            Restaurant   2.0\n",
            "1  Fast Food Restaurant   1.0\n",
            "2       Thai Restaurant   1.0\n",
            "3                Bakery   0.0\n",
            "4        Breakfast Spot   0.0\n",
            "\n",
            "\n",
            "----Promontory----\n",
            "                  venue  freq\n",
            "0         Deli / Bodega   1.0\n",
            "1           Pizza Place   1.0\n",
            "2                Bakery   0.0\n",
            "3        Breakfast Spot   0.0\n",
            "4  Fast Food Restaurant   0.0\n",
            "\n",
            "\n",
            "----Sardis - Vedder----\n",
            "                  venue  freq\n",
            "0                  Food   1.0\n",
            "1                Bakery   0.0\n",
            "2        Breakfast Spot   0.0\n",
            "3         Deli / Bodega   0.0\n",
            "4  Fast Food Restaurant   0.0\n",
            "\n",
            "\n",
            "----Village West----\n",
            "                  venue  freq\n",
            "0            Restaurant   1.0\n",
            "1                Bakery   0.0\n",
            "2        Breakfast Spot   0.0\n",
            "3         Deli / Bodega   0.0\n",
            "4  Fast Food Restaurant   0.0\n",
            "\n",
            "\n",
            "----Yarrow----\n",
            "                  venue  freq\n",
            "0                Bakery   1.0\n",
            "1        Breakfast Spot   1.0\n",
            "2         Deli / Bodega   1.0\n",
            "3            Taco Place   1.0\n",
            "4  Fast Food Restaurant   0.0\n",
            "\n",
            "\n"
          ],
          "name": "stdout"
        }
      ]
    },
    {
      "cell_type": "markdown",
      "metadata": {
        "id": "vIYLDbzxMwrh"
      },
      "source": [
        "**Put into a pandas dataframe**"
      ]
    },
    {
      "cell_type": "code",
      "metadata": {
        "id": "XZZAuxumMkp6"
      },
      "source": [
        "def return_most_common_venues(row, num_top_venues):\r\n",
        "    row_categories = row.iloc[1:]\r\n",
        "    row_categories_sorted = row_categories.sort_values(ascending=False)\r\n",
        "    \r\n",
        "    return row_categories_sorted.index.values[0:num_top_venues]"
      ],
      "execution_count": 26,
      "outputs": []
    },
    {
      "cell_type": "markdown",
      "metadata": {
        "id": "yLDo-nZoM8Pl"
      },
      "source": [
        "**Create dataframe and display top 10 venues for each neighborhood**"
      ]
    },
    {
      "cell_type": "code",
      "metadata": {
        "colab": {
          "base_uri": "https://localhost:8080/",
          "height": 204
        },
        "id": "saxUrRRMM3gJ",
        "outputId": "02cd60cf-403d-4ffa-f5c8-d301ad734093"
      },
      "source": [
        "num_top_venues = 5\r\n",
        "\r\n",
        "indicators = ['st', 'nd', 'rd']\r\n",
        "\r\n",
        "# create columns according to number of top venues\r\n",
        "columns = ['Neighborhood']\r\n",
        "for ind in np.arange(num_top_venues):\r\n",
        "    try:\r\n",
        "        columns.append('{}{} Most Common Venue'.format(ind+1, indicators[ind]))\r\n",
        "    except:\r\n",
        "        columns.append('{}th Most Common Venue'.format(ind+1))\r\n",
        "\r\n",
        "# create a new dataframe\r\n",
        "neighborhoods_venues_sorted = pd.DataFrame(columns=columns)\r\n",
        "neighborhoods_venues_sorted['Neighborhood'] = chilliwack_grouped['Neighborhood']\r\n",
        "\r\n",
        "for ind in np.arange(chilliwack_grouped.shape[0]):\r\n",
        "    neighborhoods_venues_sorted.iloc[ind, 1:] = return_most_common_venues(chilliwack_grouped.iloc[ind, :], num_top_venues)\r\n",
        "\r\n",
        "neighborhoods_venues_sorted.head()"
      ],
      "execution_count": 28,
      "outputs": [
        {
          "output_type": "execute_result",
          "data": {
            "text/html": [
              "<div>\n",
              "<style scoped>\n",
              "    .dataframe tbody tr th:only-of-type {\n",
              "        vertical-align: middle;\n",
              "    }\n",
              "\n",
              "    .dataframe tbody tr th {\n",
              "        vertical-align: top;\n",
              "    }\n",
              "\n",
              "    .dataframe thead th {\n",
              "        text-align: right;\n",
              "    }\n",
              "</style>\n",
              "<table border=\"1\" class=\"dataframe\">\n",
              "  <thead>\n",
              "    <tr style=\"text-align: right;\">\n",
              "      <th></th>\n",
              "      <th>Neighborhood</th>\n",
              "      <th>1st Most Common Venue</th>\n",
              "      <th>2nd Most Common Venue</th>\n",
              "      <th>3rd Most Common Venue</th>\n",
              "      <th>4th Most Common Venue</th>\n",
              "      <th>5th Most Common Venue</th>\n",
              "    </tr>\n",
              "  </thead>\n",
              "  <tbody>\n",
              "    <tr>\n",
              "      <th>0</th>\n",
              "      <td>Chilliwack Proper</td>\n",
              "      <td>Restaurant</td>\n",
              "      <td>Thai Restaurant</td>\n",
              "      <td>Fast Food Restaurant</td>\n",
              "      <td>Taco Place</td>\n",
              "      <td>Pizza Place</td>\n",
              "    </tr>\n",
              "    <tr>\n",
              "      <th>1</th>\n",
              "      <td>Promontory</td>\n",
              "      <td>Pizza Place</td>\n",
              "      <td>Deli / Bodega</td>\n",
              "      <td>Thai Restaurant</td>\n",
              "      <td>Taco Place</td>\n",
              "      <td>Restaurant</td>\n",
              "    </tr>\n",
              "    <tr>\n",
              "      <th>2</th>\n",
              "      <td>Sardis - Vedder</td>\n",
              "      <td>Food</td>\n",
              "      <td>Thai Restaurant</td>\n",
              "      <td>Taco Place</td>\n",
              "      <td>Restaurant</td>\n",
              "      <td>Pizza Place</td>\n",
              "    </tr>\n",
              "    <tr>\n",
              "      <th>3</th>\n",
              "      <td>Village West</td>\n",
              "      <td>Restaurant</td>\n",
              "      <td>Thai Restaurant</td>\n",
              "      <td>Taco Place</td>\n",
              "      <td>Pizza Place</td>\n",
              "      <td>Food</td>\n",
              "    </tr>\n",
              "    <tr>\n",
              "      <th>4</th>\n",
              "      <td>Yarrow</td>\n",
              "      <td>Taco Place</td>\n",
              "      <td>Deli / Bodega</td>\n",
              "      <td>Breakfast Spot</td>\n",
              "      <td>Bakery</td>\n",
              "      <td>Thai Restaurant</td>\n",
              "    </tr>\n",
              "  </tbody>\n",
              "</table>\n",
              "</div>"
            ],
            "text/plain": [
              "        Neighborhood 1st Most Common Venue 2nd Most Common Venue  \\\n",
              "0  Chilliwack Proper            Restaurant       Thai Restaurant   \n",
              "1         Promontory           Pizza Place         Deli / Bodega   \n",
              "2    Sardis - Vedder                  Food       Thai Restaurant   \n",
              "3       Village West            Restaurant       Thai Restaurant   \n",
              "4             Yarrow            Taco Place         Deli / Bodega   \n",
              "\n",
              "  3rd Most Common Venue 4th Most Common Venue 5th Most Common Venue  \n",
              "0  Fast Food Restaurant            Taco Place           Pizza Place  \n",
              "1       Thai Restaurant            Taco Place            Restaurant  \n",
              "2            Taco Place            Restaurant           Pizza Place  \n",
              "3            Taco Place           Pizza Place                  Food  \n",
              "4        Breakfast Spot                Bakery       Thai Restaurant  "
            ]
          },
          "metadata": {
            "tags": []
          },
          "execution_count": 28
        }
      ]
    },
    {
      "cell_type": "markdown",
      "metadata": {
        "id": "p0w48ybHNP62"
      },
      "source": [
        "### Clustering Neighborhoods"
      ]
    },
    {
      "cell_type": "markdown",
      "metadata": {
        "id": "7kqY0h8rNYwn"
      },
      "source": [
        "**Using k_means to cluster**"
      ]
    },
    {
      "cell_type": "code",
      "metadata": {
        "colab": {
          "base_uri": "https://localhost:8080/"
        },
        "id": "BvbTx0T5NNBy",
        "outputId": "175cd9f7-726b-4f3a-c755-da939dfb46c2"
      },
      "source": [
        "# set number of clusters\r\n",
        "kclusters = 3\r\n",
        "\r\n",
        "chilliwack_grouped_clustering = chilliwack_grouped.drop('Neighborhood', 1)\r\n",
        "\r\n",
        "# run k-means clustering\r\n",
        "kmeans = KMeans(n_clusters=kclusters, random_state=0).fit(chilliwack_grouped_clustering)\r\n",
        "\r\n",
        "# check cluster labels generated for each row in the dataframe\r\n",
        "kmeans.labels_[0:10] "
      ],
      "execution_count": 29,
      "outputs": [
        {
          "output_type": "execute_result",
          "data": {
            "text/plain": [
              "array([1, 2, 2, 2, 0], dtype=int32)"
            ]
          },
          "metadata": {
            "tags": []
          },
          "execution_count": 29
        }
      ]
    },
    {
      "cell_type": "markdown",
      "metadata": {
        "id": "rlVn4lRxNog9"
      },
      "source": [
        "Let's create a new dataframe that includes the cluster as well as the top 10 venues for each neighborhood."
      ]
    },
    {
      "cell_type": "code",
      "metadata": {
        "colab": {
          "base_uri": "https://localhost:8080/",
          "height": 204
        },
        "id": "Tx49yPvBNcQZ",
        "outputId": "6a337f42-2062-4a62-8d01-e0d87ea2dc3b"
      },
      "source": [
        "# add clustering labels\r\n",
        "neighborhoods_venues_sorted.insert(0, 'Cluster Labels', kmeans.labels_)\r\n",
        "\r\n",
        "chilliwack_merged = ds_geo\r\n",
        "\r\n",
        "# merge chilliwack_grouped with chilliwack_data to add latitude/longitude for each neighborhood\r\n",
        "chilliwack_merged = chilliwack_merged.join(neighborhoods_venues_sorted.set_index('Neighborhood'), on='NAME')\r\n",
        "\r\n",
        "chilliwack_merged.head() # check the last columns!"
      ],
      "execution_count": 30,
      "outputs": [
        {
          "output_type": "execute_result",
          "data": {
            "text/html": [
              "<div>\n",
              "<style scoped>\n",
              "    .dataframe tbody tr th:only-of-type {\n",
              "        vertical-align: middle;\n",
              "    }\n",
              "\n",
              "    .dataframe tbody tr th {\n",
              "        vertical-align: top;\n",
              "    }\n",
              "\n",
              "    .dataframe thead th {\n",
              "        text-align: right;\n",
              "    }\n",
              "</style>\n",
              "<table border=\"1\" class=\"dataframe\">\n",
              "  <thead>\n",
              "    <tr style=\"text-align: right;\">\n",
              "      <th></th>\n",
              "      <th>NAME</th>\n",
              "      <th>geometry</th>\n",
              "      <th>longitude</th>\n",
              "      <th>latitude</th>\n",
              "      <th>area</th>\n",
              "      <th>Cluster Labels</th>\n",
              "      <th>1st Most Common Venue</th>\n",
              "      <th>2nd Most Common Venue</th>\n",
              "      <th>3rd Most Common Venue</th>\n",
              "      <th>4th Most Common Venue</th>\n",
              "      <th>5th Most Common Venue</th>\n",
              "    </tr>\n",
              "  </thead>\n",
              "  <tbody>\n",
              "    <tr>\n",
              "      <th>0</th>\n",
              "      <td>Chilliwack Proper</td>\n",
              "      <td>POLYGON ((-121.93030 49.18599, -121.93037 49.1...</td>\n",
              "      <td>-121.944413</td>\n",
              "      <td>49.172067</td>\n",
              "      <td>0.001731</td>\n",
              "      <td>1.0</td>\n",
              "      <td>Restaurant</td>\n",
              "      <td>Thai Restaurant</td>\n",
              "      <td>Fast Food Restaurant</td>\n",
              "      <td>Taco Place</td>\n",
              "      <td>Pizza Place</td>\n",
              "    </tr>\n",
              "    <tr>\n",
              "      <th>1</th>\n",
              "      <td>Rosedale</td>\n",
              "      <td>POLYGON ((-121.79852 49.18495, -121.79840 49.1...</td>\n",
              "      <td>-121.810642</td>\n",
              "      <td>49.178429</td>\n",
              "      <td>0.000091</td>\n",
              "      <td>NaN</td>\n",
              "      <td>NaN</td>\n",
              "      <td>NaN</td>\n",
              "      <td>NaN</td>\n",
              "      <td>NaN</td>\n",
              "      <td>NaN</td>\n",
              "    </tr>\n",
              "    <tr>\n",
              "      <th>2</th>\n",
              "      <td>Sardis - Vedder</td>\n",
              "      <td>POLYGON ((-121.96565 49.12280, -121.96608 49.1...</td>\n",
              "      <td>-121.966648</td>\n",
              "      <td>49.118807</td>\n",
              "      <td>0.001219</td>\n",
              "      <td>2.0</td>\n",
              "      <td>Food</td>\n",
              "      <td>Thai Restaurant</td>\n",
              "      <td>Taco Place</td>\n",
              "      <td>Restaurant</td>\n",
              "      <td>Pizza Place</td>\n",
              "    </tr>\n",
              "    <tr>\n",
              "      <th>3</th>\n",
              "      <td>Yarrow</td>\n",
              "      <td>POLYGON ((-122.06512 49.08816, -122.06519 49.0...</td>\n",
              "      <td>-122.054833</td>\n",
              "      <td>49.083813</td>\n",
              "      <td>0.000204</td>\n",
              "      <td>0.0</td>\n",
              "      <td>Taco Place</td>\n",
              "      <td>Deli / Bodega</td>\n",
              "      <td>Breakfast Spot</td>\n",
              "      <td>Bakery</td>\n",
              "      <td>Thai Restaurant</td>\n",
              "    </tr>\n",
              "    <tr>\n",
              "      <th>4</th>\n",
              "      <td>Village West</td>\n",
              "      <td>POLYGON ((-121.98166 49.15912, -121.98187 49.1...</td>\n",
              "      <td>-121.996555</td>\n",
              "      <td>49.149808</td>\n",
              "      <td>0.000440</td>\n",
              "      <td>2.0</td>\n",
              "      <td>Restaurant</td>\n",
              "      <td>Thai Restaurant</td>\n",
              "      <td>Taco Place</td>\n",
              "      <td>Pizza Place</td>\n",
              "      <td>Food</td>\n",
              "    </tr>\n",
              "  </tbody>\n",
              "</table>\n",
              "</div>"
            ],
            "text/plain": [
              "                NAME                                           geometry  \\\n",
              "0  Chilliwack Proper  POLYGON ((-121.93030 49.18599, -121.93037 49.1...   \n",
              "1           Rosedale  POLYGON ((-121.79852 49.18495, -121.79840 49.1...   \n",
              "2    Sardis - Vedder  POLYGON ((-121.96565 49.12280, -121.96608 49.1...   \n",
              "3             Yarrow  POLYGON ((-122.06512 49.08816, -122.06519 49.0...   \n",
              "4       Village West  POLYGON ((-121.98166 49.15912, -121.98187 49.1...   \n",
              "\n",
              "    longitude   latitude      area  Cluster Labels 1st Most Common Venue  \\\n",
              "0 -121.944413  49.172067  0.001731             1.0            Restaurant   \n",
              "1 -121.810642  49.178429  0.000091             NaN                   NaN   \n",
              "2 -121.966648  49.118807  0.001219             2.0                  Food   \n",
              "3 -122.054833  49.083813  0.000204             0.0            Taco Place   \n",
              "4 -121.996555  49.149808  0.000440             2.0            Restaurant   \n",
              "\n",
              "  2nd Most Common Venue 3rd Most Common Venue 4th Most Common Venue  \\\n",
              "0       Thai Restaurant  Fast Food Restaurant            Taco Place   \n",
              "1                   NaN                   NaN                   NaN   \n",
              "2       Thai Restaurant            Taco Place            Restaurant   \n",
              "3         Deli / Bodega        Breakfast Spot                Bakery   \n",
              "4       Thai Restaurant            Taco Place           Pizza Place   \n",
              "\n",
              "  5th Most Common Venue  \n",
              "0           Pizza Place  \n",
              "1                   NaN  \n",
              "2           Pizza Place  \n",
              "3       Thai Restaurant  \n",
              "4                  Food  "
            ]
          },
          "metadata": {
            "tags": []
          },
          "execution_count": 30
        }
      ]
    },
    {
      "cell_type": "markdown",
      "metadata": {
        "id": "b911MNwWRjWL"
      },
      "source": [
        "Finally, let's visualize the resulting clusters"
      ]
    },
    {
      "cell_type": "code",
      "metadata": {
        "id": "060WJ0JlA8ND"
      },
      "source": [
        "chilliwack_merged.dropna(inplace=True)"
      ],
      "execution_count": 31,
      "outputs": []
    },
    {
      "cell_type": "code",
      "metadata": {
        "id": "p_UBFos1W5Op"
      },
      "source": [
        "chilliwack_merged=chilliwack_merged.astype({'Cluster Labels': 'int32'})"
      ],
      "execution_count": 32,
      "outputs": []
    },
    {
      "cell_type": "code",
      "metadata": {
        "colab": {
          "base_uri": "https://localhost:8080/"
        },
        "id": "3qPJO3HaXp3Q",
        "outputId": "97ee4400-64b7-4516-8174-64d1453a04cb"
      },
      "source": [
        "chilliwack_merged.info()"
      ],
      "execution_count": 33,
      "outputs": [
        {
          "output_type": "stream",
          "text": [
            "<class 'geopandas.geodataframe.GeoDataFrame'>\n",
            "Int64Index: 5 entries, 0 to 10\n",
            "Data columns (total 11 columns):\n",
            " #   Column                 Non-Null Count  Dtype   \n",
            "---  ------                 --------------  -----   \n",
            " 0   NAME                   5 non-null      object  \n",
            " 1   geometry               5 non-null      geometry\n",
            " 2   longitude              5 non-null      float64 \n",
            " 3   latitude               5 non-null      float64 \n",
            " 4   area                   5 non-null      float64 \n",
            " 5   Cluster Labels         5 non-null      int32   \n",
            " 6   1st Most Common Venue  5 non-null      object  \n",
            " 7   2nd Most Common Venue  5 non-null      object  \n",
            " 8   3rd Most Common Venue  5 non-null      object  \n",
            " 9   4th Most Common Venue  5 non-null      object  \n",
            " 10  5th Most Common Venue  5 non-null      object  \n",
            "dtypes: float64(3), geometry(1), int32(1), object(6)\n",
            "memory usage: 460.0+ bytes\n"
          ],
          "name": "stdout"
        }
      ]
    },
    {
      "cell_type": "code",
      "metadata": {
        "colab": {
          "base_uri": "https://localhost:8080/",
          "height": 204
        },
        "id": "1JcVmYm_BLk4",
        "outputId": "3fe28592-c163-4743-adc6-63d45e45c407"
      },
      "source": [
        "chilliwack_merged"
      ],
      "execution_count": 34,
      "outputs": [
        {
          "output_type": "execute_result",
          "data": {
            "text/html": [
              "<div>\n",
              "<style scoped>\n",
              "    .dataframe tbody tr th:only-of-type {\n",
              "        vertical-align: middle;\n",
              "    }\n",
              "\n",
              "    .dataframe tbody tr th {\n",
              "        vertical-align: top;\n",
              "    }\n",
              "\n",
              "    .dataframe thead th {\n",
              "        text-align: right;\n",
              "    }\n",
              "</style>\n",
              "<table border=\"1\" class=\"dataframe\">\n",
              "  <thead>\n",
              "    <tr style=\"text-align: right;\">\n",
              "      <th></th>\n",
              "      <th>NAME</th>\n",
              "      <th>geometry</th>\n",
              "      <th>longitude</th>\n",
              "      <th>latitude</th>\n",
              "      <th>area</th>\n",
              "      <th>Cluster Labels</th>\n",
              "      <th>1st Most Common Venue</th>\n",
              "      <th>2nd Most Common Venue</th>\n",
              "      <th>3rd Most Common Venue</th>\n",
              "      <th>4th Most Common Venue</th>\n",
              "      <th>5th Most Common Venue</th>\n",
              "    </tr>\n",
              "  </thead>\n",
              "  <tbody>\n",
              "    <tr>\n",
              "      <th>0</th>\n",
              "      <td>Chilliwack Proper</td>\n",
              "      <td>POLYGON ((-121.93030 49.18599, -121.93037 49.1...</td>\n",
              "      <td>-121.944413</td>\n",
              "      <td>49.172067</td>\n",
              "      <td>0.001731</td>\n",
              "      <td>1</td>\n",
              "      <td>Restaurant</td>\n",
              "      <td>Thai Restaurant</td>\n",
              "      <td>Fast Food Restaurant</td>\n",
              "      <td>Taco Place</td>\n",
              "      <td>Pizza Place</td>\n",
              "    </tr>\n",
              "    <tr>\n",
              "      <th>2</th>\n",
              "      <td>Sardis - Vedder</td>\n",
              "      <td>POLYGON ((-121.96565 49.12280, -121.96608 49.1...</td>\n",
              "      <td>-121.966648</td>\n",
              "      <td>49.118807</td>\n",
              "      <td>0.001219</td>\n",
              "      <td>2</td>\n",
              "      <td>Food</td>\n",
              "      <td>Thai Restaurant</td>\n",
              "      <td>Taco Place</td>\n",
              "      <td>Restaurant</td>\n",
              "      <td>Pizza Place</td>\n",
              "    </tr>\n",
              "    <tr>\n",
              "      <th>3</th>\n",
              "      <td>Yarrow</td>\n",
              "      <td>POLYGON ((-122.06512 49.08816, -122.06519 49.0...</td>\n",
              "      <td>-122.054833</td>\n",
              "      <td>49.083813</td>\n",
              "      <td>0.000204</td>\n",
              "      <td>0</td>\n",
              "      <td>Taco Place</td>\n",
              "      <td>Deli / Bodega</td>\n",
              "      <td>Breakfast Spot</td>\n",
              "      <td>Bakery</td>\n",
              "      <td>Thai Restaurant</td>\n",
              "    </tr>\n",
              "    <tr>\n",
              "      <th>4</th>\n",
              "      <td>Village West</td>\n",
              "      <td>POLYGON ((-121.98166 49.15912, -121.98187 49.1...</td>\n",
              "      <td>-121.996555</td>\n",
              "      <td>49.149808</td>\n",
              "      <td>0.000440</td>\n",
              "      <td>2</td>\n",
              "      <td>Restaurant</td>\n",
              "      <td>Thai Restaurant</td>\n",
              "      <td>Taco Place</td>\n",
              "      <td>Pizza Place</td>\n",
              "      <td>Food</td>\n",
              "    </tr>\n",
              "    <tr>\n",
              "      <th>10</th>\n",
              "      <td>Promontory</td>\n",
              "      <td>POLYGON ((-121.90849 49.11528, -121.90847 49.1...</td>\n",
              "      <td>-121.933184</td>\n",
              "      <td>49.104136</td>\n",
              "      <td>0.000518</td>\n",
              "      <td>2</td>\n",
              "      <td>Pizza Place</td>\n",
              "      <td>Deli / Bodega</td>\n",
              "      <td>Thai Restaurant</td>\n",
              "      <td>Taco Place</td>\n",
              "      <td>Restaurant</td>\n",
              "    </tr>\n",
              "  </tbody>\n",
              "</table>\n",
              "</div>"
            ],
            "text/plain": [
              "                 NAME                                           geometry  \\\n",
              "0   Chilliwack Proper  POLYGON ((-121.93030 49.18599, -121.93037 49.1...   \n",
              "2     Sardis - Vedder  POLYGON ((-121.96565 49.12280, -121.96608 49.1...   \n",
              "3              Yarrow  POLYGON ((-122.06512 49.08816, -122.06519 49.0...   \n",
              "4        Village West  POLYGON ((-121.98166 49.15912, -121.98187 49.1...   \n",
              "10         Promontory  POLYGON ((-121.90849 49.11528, -121.90847 49.1...   \n",
              "\n",
              "     longitude   latitude      area  Cluster Labels 1st Most Common Venue  \\\n",
              "0  -121.944413  49.172067  0.001731               1            Restaurant   \n",
              "2  -121.966648  49.118807  0.001219               2                  Food   \n",
              "3  -122.054833  49.083813  0.000204               0            Taco Place   \n",
              "4  -121.996555  49.149808  0.000440               2            Restaurant   \n",
              "10 -121.933184  49.104136  0.000518               2           Pizza Place   \n",
              "\n",
              "   2nd Most Common Venue 3rd Most Common Venue 4th Most Common Venue  \\\n",
              "0        Thai Restaurant  Fast Food Restaurant            Taco Place   \n",
              "2        Thai Restaurant            Taco Place            Restaurant   \n",
              "3          Deli / Bodega        Breakfast Spot                Bakery   \n",
              "4        Thai Restaurant            Taco Place           Pizza Place   \n",
              "10         Deli / Bodega       Thai Restaurant            Taco Place   \n",
              "\n",
              "   5th Most Common Venue  \n",
              "0            Pizza Place  \n",
              "2            Pizza Place  \n",
              "3        Thai Restaurant  \n",
              "4                   Food  \n",
              "10            Restaurant  "
            ]
          },
          "metadata": {
            "tags": []
          },
          "execution_count": 34
        }
      ]
    },
    {
      "cell_type": "code",
      "metadata": {
        "colab": {
          "base_uri": "https://localhost:8080/",
          "height": 1000
        },
        "id": "DLOgsPRHNs0F",
        "outputId": "82145336-9b64-4e2c-96aa-7ecc7db4dbdd"
      },
      "source": [
        "# create map\r\n",
        "map_clusters = folium.Map(location=[latitude, longitude], zoom_start=11)\r\n",
        "\r\n",
        "# set color scheme for the clusters\r\n",
        "x = np.arange(kclusters)\r\n",
        "ys = [i + x + (i*x)**2 for i in range(kclusters)]\r\n",
        "colors_array = cm.rainbow(np.linspace(0, 1, len(ys)))\r\n",
        "rainbow = [colors.rgb2hex(i) for i in colors_array]\r\n",
        "\r\n",
        "# add markers to the map\r\n",
        "markers_colors = []\r\n",
        "for lat, lon, poi, cluster in zip(chilliwack_merged['latitude'], chilliwack_merged['longitude'], chilliwack_merged['NAME'], chilliwack_merged['Cluster Labels']):\r\n",
        "    label = folium.Popup(str(poi) + ' Cluster ' + str(cluster), parse_html=True)\r\n",
        "    folium.CircleMarker(\r\n",
        "        [lat, lon],\r\n",
        "        radius=5,\r\n",
        "        popup=label,\r\n",
        "        color=rainbow[cluster-1],\r\n",
        "        fill=True,\r\n",
        "        fill_color=rainbow[cluster-1],\r\n",
        "        fill_opacity=0.7).add_to(map_clusters)\r\n",
        "       \r\n",
        "map_clusters"
      ],
      "execution_count": 35,
      "outputs": [
        {
          "output_type": "execute_result",
          "data": {
            "text/html": [
              "<div style=\"width:100%;\"><div style=\"position:relative;width:100%;height:0;padding-bottom:60%;\"><span style=\"color:#565656\">Make this Notebook Trusted to load map: File -> Trust Notebook</span><iframe src=\"about:blank\" style=\"position:absolute;width:100%;height:100%;left:0;top:0;border:none !important;\" data-html=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 onload=\"this.contentDocument.open();this.contentDocument.write(atob(this.getAttribute('data-html')));this.contentDocument.close();\" allowfullscreen webkitallowfullscreen mozallowfullscreen></iframe></div></div>"
            ],
            "text/plain": [
              "<folium.folium.Map at 0x7fdfefa01ba8>"
            ]
          },
          "metadata": {
            "tags": []
          },
          "execution_count": 35
        }
      ]
    },
    {
      "cell_type": "markdown",
      "metadata": {
        "id": "RO1otn3OZBbT"
      },
      "source": [
        "### Examine Clusters"
      ]
    },
    {
      "cell_type": "markdown",
      "metadata": {
        "id": "2aWzwVlYZN3V"
      },
      "source": [
        "**Cluster 1**"
      ]
    },
    {
      "cell_type": "code",
      "metadata": {
        "colab": {
          "base_uri": "https://localhost:8080/",
          "height": 80
        },
        "id": "oJ0z7aKvRtQ5",
        "outputId": "7e3fae8f-dda0-40d5-8a67-55f5ffc7e540"
      },
      "source": [
        "chilliwack_merged.loc[chilliwack_merged['Cluster Labels'] == 0, chilliwack_merged.columns[[0] + list(range(5, chilliwack_merged.shape[1]))]]"
      ],
      "execution_count": 36,
      "outputs": [
        {
          "output_type": "execute_result",
          "data": {
            "text/html": [
              "<div>\n",
              "<style scoped>\n",
              "    .dataframe tbody tr th:only-of-type {\n",
              "        vertical-align: middle;\n",
              "    }\n",
              "\n",
              "    .dataframe tbody tr th {\n",
              "        vertical-align: top;\n",
              "    }\n",
              "\n",
              "    .dataframe thead th {\n",
              "        text-align: right;\n",
              "    }\n",
              "</style>\n",
              "<table border=\"1\" class=\"dataframe\">\n",
              "  <thead>\n",
              "    <tr style=\"text-align: right;\">\n",
              "      <th></th>\n",
              "      <th>NAME</th>\n",
              "      <th>Cluster Labels</th>\n",
              "      <th>1st Most Common Venue</th>\n",
              "      <th>2nd Most Common Venue</th>\n",
              "      <th>3rd Most Common Venue</th>\n",
              "      <th>4th Most Common Venue</th>\n",
              "      <th>5th Most Common Venue</th>\n",
              "    </tr>\n",
              "  </thead>\n",
              "  <tbody>\n",
              "    <tr>\n",
              "      <th>3</th>\n",
              "      <td>Yarrow</td>\n",
              "      <td>0</td>\n",
              "      <td>Taco Place</td>\n",
              "      <td>Deli / Bodega</td>\n",
              "      <td>Breakfast Spot</td>\n",
              "      <td>Bakery</td>\n",
              "      <td>Thai Restaurant</td>\n",
              "    </tr>\n",
              "  </tbody>\n",
              "</table>\n",
              "</div>"
            ],
            "text/plain": [
              "     NAME  Cluster Labels 1st Most Common Venue 2nd Most Common Venue  \\\n",
              "3  Yarrow               0            Taco Place         Deli / Bodega   \n",
              "\n",
              "  3rd Most Common Venue 4th Most Common Venue 5th Most Common Venue  \n",
              "3        Breakfast Spot                Bakery       Thai Restaurant  "
            ]
          },
          "metadata": {
            "tags": []
          },
          "execution_count": 36
        }
      ]
    },
    {
      "cell_type": "markdown",
      "metadata": {
        "id": "D2hZaIStZbHd"
      },
      "source": [
        "**Cluster 2**"
      ]
    },
    {
      "cell_type": "code",
      "metadata": {
        "colab": {
          "base_uri": "https://localhost:8080/",
          "height": 80
        },
        "id": "EpCs63LPZXM_",
        "outputId": "ef979ef1-abba-4540-86e8-b550ece17555"
      },
      "source": [
        "chilliwack_merged.loc[chilliwack_merged['Cluster Labels'] == 1, chilliwack_merged.columns[[0] + list(range(5, chilliwack_merged.shape[1]))]]"
      ],
      "execution_count": 37,
      "outputs": [
        {
          "output_type": "execute_result",
          "data": {
            "text/html": [
              "<div>\n",
              "<style scoped>\n",
              "    .dataframe tbody tr th:only-of-type {\n",
              "        vertical-align: middle;\n",
              "    }\n",
              "\n",
              "    .dataframe tbody tr th {\n",
              "        vertical-align: top;\n",
              "    }\n",
              "\n",
              "    .dataframe thead th {\n",
              "        text-align: right;\n",
              "    }\n",
              "</style>\n",
              "<table border=\"1\" class=\"dataframe\">\n",
              "  <thead>\n",
              "    <tr style=\"text-align: right;\">\n",
              "      <th></th>\n",
              "      <th>NAME</th>\n",
              "      <th>Cluster Labels</th>\n",
              "      <th>1st Most Common Venue</th>\n",
              "      <th>2nd Most Common Venue</th>\n",
              "      <th>3rd Most Common Venue</th>\n",
              "      <th>4th Most Common Venue</th>\n",
              "      <th>5th Most Common Venue</th>\n",
              "    </tr>\n",
              "  </thead>\n",
              "  <tbody>\n",
              "    <tr>\n",
              "      <th>0</th>\n",
              "      <td>Chilliwack Proper</td>\n",
              "      <td>1</td>\n",
              "      <td>Restaurant</td>\n",
              "      <td>Thai Restaurant</td>\n",
              "      <td>Fast Food Restaurant</td>\n",
              "      <td>Taco Place</td>\n",
              "      <td>Pizza Place</td>\n",
              "    </tr>\n",
              "  </tbody>\n",
              "</table>\n",
              "</div>"
            ],
            "text/plain": [
              "                NAME  Cluster Labels 1st Most Common Venue  \\\n",
              "0  Chilliwack Proper               1            Restaurant   \n",
              "\n",
              "  2nd Most Common Venue 3rd Most Common Venue 4th Most Common Venue  \\\n",
              "0       Thai Restaurant  Fast Food Restaurant            Taco Place   \n",
              "\n",
              "  5th Most Common Venue  \n",
              "0           Pizza Place  "
            ]
          },
          "metadata": {
            "tags": []
          },
          "execution_count": 37
        }
      ]
    },
    {
      "cell_type": "markdown",
      "metadata": {
        "id": "e6eydYyOZk7S"
      },
      "source": [
        "**Cluster 3**"
      ]
    },
    {
      "cell_type": "code",
      "metadata": {
        "colab": {
          "base_uri": "https://localhost:8080/",
          "height": 142
        },
        "id": "dvF9n8JKZhy3",
        "outputId": "574b5d56-7cd0-479d-8cd2-fe565259caba"
      },
      "source": [
        "chilliwack_merged.loc[chilliwack_merged['Cluster Labels'] == 2, chilliwack_merged.columns[[0] + list(range(5, chilliwack_merged.shape[1]))]]"
      ],
      "execution_count": 38,
      "outputs": [
        {
          "output_type": "execute_result",
          "data": {
            "text/html": [
              "<div>\n",
              "<style scoped>\n",
              "    .dataframe tbody tr th:only-of-type {\n",
              "        vertical-align: middle;\n",
              "    }\n",
              "\n",
              "    .dataframe tbody tr th {\n",
              "        vertical-align: top;\n",
              "    }\n",
              "\n",
              "    .dataframe thead th {\n",
              "        text-align: right;\n",
              "    }\n",
              "</style>\n",
              "<table border=\"1\" class=\"dataframe\">\n",
              "  <thead>\n",
              "    <tr style=\"text-align: right;\">\n",
              "      <th></th>\n",
              "      <th>NAME</th>\n",
              "      <th>Cluster Labels</th>\n",
              "      <th>1st Most Common Venue</th>\n",
              "      <th>2nd Most Common Venue</th>\n",
              "      <th>3rd Most Common Venue</th>\n",
              "      <th>4th Most Common Venue</th>\n",
              "      <th>5th Most Common Venue</th>\n",
              "    </tr>\n",
              "  </thead>\n",
              "  <tbody>\n",
              "    <tr>\n",
              "      <th>2</th>\n",
              "      <td>Sardis - Vedder</td>\n",
              "      <td>2</td>\n",
              "      <td>Food</td>\n",
              "      <td>Thai Restaurant</td>\n",
              "      <td>Taco Place</td>\n",
              "      <td>Restaurant</td>\n",
              "      <td>Pizza Place</td>\n",
              "    </tr>\n",
              "    <tr>\n",
              "      <th>4</th>\n",
              "      <td>Village West</td>\n",
              "      <td>2</td>\n",
              "      <td>Restaurant</td>\n",
              "      <td>Thai Restaurant</td>\n",
              "      <td>Taco Place</td>\n",
              "      <td>Pizza Place</td>\n",
              "      <td>Food</td>\n",
              "    </tr>\n",
              "    <tr>\n",
              "      <th>10</th>\n",
              "      <td>Promontory</td>\n",
              "      <td>2</td>\n",
              "      <td>Pizza Place</td>\n",
              "      <td>Deli / Bodega</td>\n",
              "      <td>Thai Restaurant</td>\n",
              "      <td>Taco Place</td>\n",
              "      <td>Restaurant</td>\n",
              "    </tr>\n",
              "  </tbody>\n",
              "</table>\n",
              "</div>"
            ],
            "text/plain": [
              "               NAME  Cluster Labels 1st Most Common Venue  \\\n",
              "2   Sardis - Vedder               2                  Food   \n",
              "4      Village West               2            Restaurant   \n",
              "10       Promontory               2           Pizza Place   \n",
              "\n",
              "   2nd Most Common Venue 3rd Most Common Venue 4th Most Common Venue  \\\n",
              "2        Thai Restaurant            Taco Place            Restaurant   \n",
              "4        Thai Restaurant            Taco Place           Pizza Place   \n",
              "10         Deli / Bodega       Thai Restaurant            Taco Place   \n",
              "\n",
              "   5th Most Common Venue  \n",
              "2            Pizza Place  \n",
              "4                   Food  \n",
              "10            Restaurant  "
            ]
          },
          "metadata": {
            "tags": []
          },
          "execution_count": 38
        }
      ]
    },
    {
      "cell_type": "markdown",
      "metadata": {
        "id": "s_98zNM8CJvY"
      },
      "source": [
        "# Schools Analysis\r\n",
        "**Collect school information and explore them**"
      ]
    },
    {
      "cell_type": "code",
      "metadata": {
        "colab": {
          "base_uri": "https://localhost:8080/",
          "height": 204
        },
        "id": "I-fzfIboCTvS",
        "outputId": "1fe63e6a-b3dd-4693-8c41-2f762e24aec5"
      },
      "source": [
        "ds_school = gpd.read_file('http://www.kevin-bui.com/chilliwack/Schools.JSON',orient='values')\r\n",
        "ds_school.head()"
      ],
      "execution_count": 39,
      "outputs": [
        {
          "output_type": "execute_result",
          "data": {
            "text/html": [
              "<div>\n",
              "<style scoped>\n",
              "    .dataframe tbody tr th:only-of-type {\n",
              "        vertical-align: middle;\n",
              "    }\n",
              "\n",
              "    .dataframe tbody tr th {\n",
              "        vertical-align: top;\n",
              "    }\n",
              "\n",
              "    .dataframe thead th {\n",
              "        text-align: right;\n",
              "    }\n",
              "</style>\n",
              "<table border=\"1\" class=\"dataframe\">\n",
              "  <thead>\n",
              "    <tr style=\"text-align: right;\">\n",
              "      <th></th>\n",
              "      <th>SCHOOL_NAME</th>\n",
              "      <th>geometry</th>\n",
              "    </tr>\n",
              "  </thead>\n",
              "  <tbody>\n",
              "    <tr>\n",
              "      <th>0</th>\n",
              "      <td>Sto:lo Alternate School</td>\n",
              "      <td>POLYGON ((-121.96362 49.13426, -121.96360 49.1...</td>\n",
              "    </tr>\n",
              "    <tr>\n",
              "      <th>1</th>\n",
              "      <td>Timothy Christian</td>\n",
              "      <td>POLYGON ((-121.83059 49.19071, -121.83066 49.1...</td>\n",
              "    </tr>\n",
              "    <tr>\n",
              "      <th>2</th>\n",
              "      <td>Strathcona Elementary</td>\n",
              "      <td>POLYGON ((-121.94079 49.18946, -121.94162 49.1...</td>\n",
              "    </tr>\n",
              "    <tr>\n",
              "      <th>3</th>\n",
              "      <td>Little Mountain Elementary</td>\n",
              "      <td>POLYGON ((-121.92789 49.18264, -121.92859 49.1...</td>\n",
              "    </tr>\n",
              "    <tr>\n",
              "      <th>4</th>\n",
              "      <td>Cheam Elementary</td>\n",
              "      <td>POLYGON ((-121.89359 49.18194, -121.89437 49.1...</td>\n",
              "    </tr>\n",
              "  </tbody>\n",
              "</table>\n",
              "</div>"
            ],
            "text/plain": [
              "                  SCHOOL_NAME  \\\n",
              "0     Sto:lo Alternate School   \n",
              "1           Timothy Christian   \n",
              "2       Strathcona Elementary   \n",
              "3  Little Mountain Elementary   \n",
              "4            Cheam Elementary   \n",
              "\n",
              "                                            geometry  \n",
              "0  POLYGON ((-121.96362 49.13426, -121.96360 49.1...  \n",
              "1  POLYGON ((-121.83059 49.19071, -121.83066 49.1...  \n",
              "2  POLYGON ((-121.94079 49.18946, -121.94162 49.1...  \n",
              "3  POLYGON ((-121.92789 49.18264, -121.92859 49.1...  \n",
              "4  POLYGON ((-121.89359 49.18194, -121.89437 49.1...  "
            ]
          },
          "metadata": {
            "tags": []
          },
          "execution_count": 39
        }
      ]
    },
    {
      "cell_type": "code",
      "metadata": {
        "colab": {
          "base_uri": "https://localhost:8080/",
          "height": 204
        },
        "id": "fVERz8fXC2yD",
        "outputId": "3398fb6f-ddf9-4101-abc6-0777c015207d"
      },
      "source": [
        "ds_school['longitude'] = ds_school['geometry'].centroid.apply(lambda p: p.x)\r\n",
        "ds_school['latitude'] = ds_school['geometry'].centroid.apply(lambda p: p.y)\r\n",
        "ds_school['area'] = ds_school['geometry'].area\r\n",
        "ds_school.head()"
      ],
      "execution_count": 40,
      "outputs": [
        {
          "output_type": "execute_result",
          "data": {
            "text/html": [
              "<div>\n",
              "<style scoped>\n",
              "    .dataframe tbody tr th:only-of-type {\n",
              "        vertical-align: middle;\n",
              "    }\n",
              "\n",
              "    .dataframe tbody tr th {\n",
              "        vertical-align: top;\n",
              "    }\n",
              "\n",
              "    .dataframe thead th {\n",
              "        text-align: right;\n",
              "    }\n",
              "</style>\n",
              "<table border=\"1\" class=\"dataframe\">\n",
              "  <thead>\n",
              "    <tr style=\"text-align: right;\">\n",
              "      <th></th>\n",
              "      <th>SCHOOL_NAME</th>\n",
              "      <th>geometry</th>\n",
              "      <th>longitude</th>\n",
              "      <th>latitude</th>\n",
              "      <th>area</th>\n",
              "    </tr>\n",
              "  </thead>\n",
              "  <tbody>\n",
              "    <tr>\n",
              "      <th>0</th>\n",
              "      <td>Sto:lo Alternate School</td>\n",
              "      <td>POLYGON ((-121.96362 49.13426, -121.96360 49.1...</td>\n",
              "      <td>-121.964041</td>\n",
              "      <td>49.134613</td>\n",
              "      <td>5.908694e-07</td>\n",
              "    </tr>\n",
              "    <tr>\n",
              "      <th>1</th>\n",
              "      <td>Timothy Christian</td>\n",
              "      <td>POLYGON ((-121.83059 49.19071, -121.83066 49.1...</td>\n",
              "      <td>-121.829021</td>\n",
              "      <td>49.189716</td>\n",
              "      <td>6.234668e-06</td>\n",
              "    </tr>\n",
              "    <tr>\n",
              "      <th>2</th>\n",
              "      <td>Strathcona Elementary</td>\n",
              "      <td>POLYGON ((-121.94079 49.18946, -121.94162 49.1...</td>\n",
              "      <td>-121.940824</td>\n",
              "      <td>49.187967</td>\n",
              "      <td>3.060395e-06</td>\n",
              "    </tr>\n",
              "    <tr>\n",
              "      <th>3</th>\n",
              "      <td>Little Mountain Elementary</td>\n",
              "      <td>POLYGON ((-121.92789 49.18264, -121.92859 49.1...</td>\n",
              "      <td>-121.929212</td>\n",
              "      <td>49.181726</td>\n",
              "      <td>4.478329e-06</td>\n",
              "    </tr>\n",
              "    <tr>\n",
              "      <th>4</th>\n",
              "      <td>Cheam Elementary</td>\n",
              "      <td>POLYGON ((-121.89359 49.18194, -121.89437 49.1...</td>\n",
              "      <td>-121.893959</td>\n",
              "      <td>49.181643</td>\n",
              "      <td>5.040842e-07</td>\n",
              "    </tr>\n",
              "  </tbody>\n",
              "</table>\n",
              "</div>"
            ],
            "text/plain": [
              "                  SCHOOL_NAME  \\\n",
              "0     Sto:lo Alternate School   \n",
              "1           Timothy Christian   \n",
              "2       Strathcona Elementary   \n",
              "3  Little Mountain Elementary   \n",
              "4            Cheam Elementary   \n",
              "\n",
              "                                            geometry   longitude   latitude  \\\n",
              "0  POLYGON ((-121.96362 49.13426, -121.96360 49.1... -121.964041  49.134613   \n",
              "1  POLYGON ((-121.83059 49.19071, -121.83066 49.1... -121.829021  49.189716   \n",
              "2  POLYGON ((-121.94079 49.18946, -121.94162 49.1... -121.940824  49.187967   \n",
              "3  POLYGON ((-121.92789 49.18264, -121.92859 49.1... -121.929212  49.181726   \n",
              "4  POLYGON ((-121.89359 49.18194, -121.89437 49.1... -121.893959  49.181643   \n",
              "\n",
              "           area  \n",
              "0  5.908694e-07  \n",
              "1  6.234668e-06  \n",
              "2  3.060395e-06  \n",
              "3  4.478329e-06  \n",
              "4  5.040842e-07  "
            ]
          },
          "metadata": {
            "tags": []
          },
          "execution_count": 40
        }
      ]
    },
    {
      "cell_type": "code",
      "metadata": {
        "colab": {
          "base_uri": "https://localhost:8080/",
          "height": 850
        },
        "id": "DLch3uHBBre9",
        "outputId": "c6f4c5dc-406f-4cf8-e265-3f02509c5afb"
      },
      "source": [
        "plt.figure(figsize=(20,10))\r\n",
        "# plt.bar(data=ds_school,x='SCHOOL_NAME',height='area')\r\n",
        "plt.title('School Areas')\r\n",
        "plt.xticks(rotation=90)\r\n",
        "sns.barplot(data=ds_school,x='SCHOOL_NAME',y='area')"
      ],
      "execution_count": 41,
      "outputs": [
        {
          "output_type": "execute_result",
          "data": {
            "text/plain": [
              "<matplotlib.axes._subplots.AxesSubplot at 0x7fdfefa09198>"
            ]
          },
          "metadata": {
            "tags": []
          },
          "execution_count": 41
        },
        {
          "output_type": "display_data",
          "data": {
            "image/png": "[encoded data removed]",
            "text/plain": [
              "<Figure size 1440x720 with 1 Axes>"
            ]
          },
          "metadata": {
            "tags": [],
            "needs_background": "light"
          }
        }
      ]
    },
    {
      "cell_type": "markdown",
      "metadata": {
        "id": "Dqrk-sLeDHIW"
      },
      "source": [
        "**Create a map of Chilliwack with schools superimposed on top.**"
      ]
    },
    {
      "cell_type": "code",
      "metadata": {
        "colab": {
          "base_uri": "https://localhost:8080/"
        },
        "id": "JdXfAb1dDHIv",
        "outputId": "4ce944c8-58f8-4102-e729-6efcf73c0476"
      },
      "source": [
        "address = 'Chilliwack'\r\n",
        "\r\n",
        "geolocator = Nominatim(user_agent=\"tr_explorer\")\r\n",
        "location = geolocator.geocode(address)\r\n",
        "latitude = location.latitude\r\n",
        "longitude = location.longitude\r\n",
        "print('The geograpical coordinate of Chilliwack City are {}, {}.'.format(latitude, longitude))"
      ],
      "execution_count": 42,
      "outputs": [
        {
          "output_type": "stream",
          "text": [
            "The geograpical coordinate of Chilliwack City are 49.157677, -121.9514307.\n"
          ],
          "name": "stdout"
        }
      ]
    },
    {
      "cell_type": "code",
      "metadata": {
        "colab": {
          "base_uri": "https://localhost:8080/",
          "height": 1000
        },
        "id": "yE76vSLKDHIw",
        "outputId": "ef3394a2-bf74-4664-a5cf-91b0e5477c55"
      },
      "source": [
        "# create map of Chilliwack using latitude and longitude values\r\n",
        "map_school_chilliwack = folium.Map(location=[latitude, longitude], zoom_start=12)\r\n",
        "\r\n",
        "# add markers to map\r\n",
        "for lat, lng, neighborhood in zip(ds_school['latitude'], ds_school['longitude'], ds_school['SCHOOL_NAME']):\r\n",
        "    label = '{}'.format(neighborhood)\r\n",
        "    label = folium.Popup(label, parse_html=True)\r\n",
        "    folium.CircleMarker(\r\n",
        "        [lat, lng],\r\n",
        "        radius=5,\r\n",
        "        popup=label,\r\n",
        "        color='blue',\r\n",
        "        fill=True,\r\n",
        "        fill_color='#3186cc',\r\n",
        "        fill_opacity=0.7,\r\n",
        "        parse_html=False).add_to(map_school_chilliwack)  \r\n",
        "    \r\n",
        "map_school_chilliwack"
      ],
      "execution_count": 43,
      "outputs": [
        {
          "output_type": "execute_result",
          "data": {
            "text/html": [
              "<div style=\"width:100%;\"><div style=\"position:relative;width:100%;height:0;padding-bottom:60%;\"><span style=\"color:#565656\">Make this Notebook Trusted to load map: File -> Trust Notebook</span><iframe src=\"about:blank\" style=\"position:absolute;width:100%;height:100%;left:0;top:0;border:none !important;\" data-html=PCFET0NUWVBFIGh0bWw+CjxoZWFkPiAgICAKICAgIDxtZXRhIGh0dHAtZXF1aXY9ImNvbnRlbnQtdHlwZSIgY29udGVudD0idGV4dC9odG1sOyBjaGFyc2V0PVVURi04IiAvPgogICAgPHNjcmlwdD5MX1BSRUZFUl9DQU5WQVM9ZmFsc2U7IExfTk9fVE9VQ0g9ZmFsc2U7IExfRElTQUJMRV8zRD1mYWxzZTs8L3NjcmlwdD4KICAgIDxzY3JpcHQgc3JjPSJodHRwczovL2Nkbi5qc2RlbGl2ci5uZXQvbnBtL2xlYWZsZXRAMS40LjAvZGlzdC9sZWFmbGV0LmpzIj48L3NjcmlwdD4KICAgIDxzY3JpcHQgc3JjPSJodHRwczovL2NvZGUuanF1ZXJ5LmNvbS9qcXVlcnktMS4xMi40Lm1pbi5qcyI+PC9zY3JpcHQ+CiAgICA8c2NyaXB0IHNyYz0iaHR0cHM6Ly9tYXhjZG4uYm9vdHN0cmFwY2RuLmNvbS9ib290c3RyYXAvMy4yLjAvanMvYm9vdHN0cmFwLm1pbi5qcyI+PC9zY3JpcHQ+CiAgICA8c2NyaXB0IHNyYz0iaHR0cHM6Ly9jZG5qcy5jbG91ZGZsYXJlLmNvbS9hamF4L2xpYnMvTGVhZmxldC5hd2Vzb21lLW1hcmtlcnMvMi4wLjIvbGVhZmxldC5hd2Vzb21lLW1hcmtlcnMuanMiPjwvc2NyaXB0PgogICAgPGxpbmsgcmVsPSJzdHlsZXNoZWV0IiBocmVmPSJodHRwczovL2Nkbi5qc2RlbGl2ci5uZXQvbnBtL2xlYWZsZXRAMS40LjAvZGlzdC9sZWFmbGV0LmNzcyIvPgogICAgPGxpbmsgcmVsPSJzdHlsZXNoZWV0IiBocmVmPSJodHRwczovL21heGNkbi5ib290c3RyYXBjZG4uY29tL2Jvb3RzdHJhcC8zLjIuMC9jc3MvYm9vdHN0cmFwLm1pbi5jc3MiLz4KICAgIDxsaW5rIHJlbD0ic3R5bGVzaGVldCIgaHJlZj0iaHR0cHM6Ly9tYXhjZG4uYm9vdHN0cmFwY2RuLmNvbS9ib290c3RyYXAvMy4yLjAvY3NzL2Jvb3RzdHJhcC10aGVtZS5taW4uY3NzIi8+CiAgICA8bGluayByZWw9InN0eWxlc2hlZXQiIGhyZWY9Imh0dHBzOi8vbWF4Y2RuLmJvb3RzdHJhcGNkbi5jb20vZm9udC1hd2Vzb21lLzQuNi4zL2Nzcy9mb250LWF3ZXNvbWUubWluLmNzcyIvPgogICAgPGxpbmsgcmVsPSJzdHlsZXNoZWV0IiBocmVmPSJodHRwczovL2NkbmpzLmNsb3VkZmxhcmUuY29tL2FqYXgvbGlicy9MZWFmbGV0LmF3ZXNvbWUtbWFya2Vycy8yLjAuMi9sZWFmbGV0LmF3ZXNvbWUtbWFya2Vycy5jc3MiLz4KICAgIDxsaW5rIHJlbD0ic3R5bGVzaGVldCIgaHJlZj0iaHR0cHM6Ly9yYXdjZG4uZ2l0aGFjay5jb20vcHl0aG9uLXZpc3VhbGl6YXRpb24vZm9saXVtL21hc3Rlci9mb2xpdW0vdGVtcGxhdGVzL2xlYWZsZXQuYXdlc29tZS5yb3RhdGUuY3NzIi8+CiAgICA8c3R5bGU+aHRtbCwgYm9keSB7d2lkdGg6IDEwMCU7aGVpZ2h0OiAxMDAlO21hcmdpbjogMDtwYWRkaW5nOiAwO308L3N0eWxlPgogICAgPHN0eWxlPiNtYXAge3Bvc2l0aW9uOmFic29sdXRlO3RvcDowO2JvdHRvbTowO3JpZ2h0OjA7bGVmdDowO308L3N0eWxlPgogICAgCiAgICA8bWV0YSBuYW1lPSJ2aWV3cG9ydCIgY29udGVudD0id2lkdGg9ZGV2aWNlLXdpZHRoLAogICAgICAgIGluaXRpYWwtc2NhbGU9MS4wLCBtYXhpbXVtLXNjYWxlPTEuMCwgdXNlci1zY2FsYWJsZT1ubyIgLz4KICAgIDxzdHlsZT4jbWFwX2M4MDE4YzZiYzgzNTQ1YTk4YjUwODNhN2U5MDc5YWIxIHsKICAgICAgICBwb3NpdGlvbjogcmVsYXRpdmU7CiAgICAgICAgd2lkdGg6IDEwMC4wJTsKICAgICAgICBoZWlnaHQ6IDEwMC4wJTsKICAgICAgICBsZWZ0OiAwLjAlOwogICAgICAgIHRvcDogMC4wJTsKICAgICAgICB9CiAgICA8L3N0eWxlPgo8L2hlYWQ+Cjxib2R5PiAgICAKICAgIAogICAgPGRpdiBjbGFzcz0iZm9saXVtLW1hcCIgaWQ9Im1hcF9jODAxOGM2YmM4MzU0NWE5OGI1MDgzYTdlOTA3OWFiMSIgPjwvZGl2Pgo8L2JvZHk+CjxzY3JpcHQ+ICAgIAogICAgCiAgICAKICAgICAgICB2YXIgYm91bmRzID0gbnVsbDsKICAgIAoKICAgIHZhciBtYXBfYzgwMThjNmJjODM1NDVhOThiNTA4M2E3ZTkwNzlhYjEgPSBMLm1hcCgKICAgICAgICAnbWFwX2M4MDE4YzZiYzgzNTQ1YTk4YjUwODNhN2U5MDc5YWIxJywgewogICAgICAgIGNlbnRlcjogWzQ5LjE1NzY3NywgLTEyMS45NTE0MzA3XSwKICAgICAgICB6b29tOiAxMiwKICAgICAgICBtYXhCb3VuZHM6IGJvdW5kcywKICAgICAgICBsYXllcnM6IFtdLAogICAgICAgIHdvcmxkQ29weUp1bXA6IGZhbHNlLAogICAgICAgIGNyczogTC5DUlMuRVBTRzM4NTcsCiAgICAgICAgem9vbUNvbnRyb2w6IHRydWUsCiAgICAgICAgfSk7CgoKICAgIAogICAgdmFyIHRpbGVfbGF5ZXJfNDExMDY4MGIyOTM5NDU5ZDlkNTZiN2UzZDU5NjcyM2EgPSBMLnRpbGVMYXllcigKICAgICAgICAnaHR0cHM6Ly97c30udGlsZS5vcGVuc3RyZWV0bWFwLm9yZy97en0ve3h9L3t5fS5wbmcnLAogICAgICAgIHsKICAgICAgICAiYXR0cmlidXRpb24iOiBudWxsLAogICAgICAgICJkZXRlY3RSZXRpbmEiOiBmYWxzZSwKICAgICAgICAibWF4TmF0aXZlWm9vbSI6IDE4LAogICAgICAgICJtYXhab29tIjogMTgsCiAgICAgICAgIm1pblpvb20iOiAwLAogICAgICAgICJub1dyYXAiOiBmYWxzZSwKICAgICAgICAib3BhY2l0eSI6IDEsCiAgICAgICAgInN1YmRvbWFpbnMiOiAiYWJjIiwKICAgICAgICAidG1zIjogZmFsc2UKfSkuYWRkVG8obWFwX2M4MDE4YzZiYzgzNTQ1YTk4YjUwODNhN2U5MDc5YWIxKTsKICAgIAogICAgICAgICAgICB2YXIgY2lyY2xlX21hcmtlcl9kMGFiMjc4MDMyYWQ0M2NlYWY0NWIzZWM2YjE0OTgwMyA9IEwuY2lyY2xlTWFya2VyKAogICAgICAgICAgICAgICAgWzQ5LjEzNDYxMjU2NTcxODg4LCAtMTIxLjk2NDA0MDU2NzQyMTQ1XSwKICAgICAgICAgICAgICAgIHsKICAiYnViYmxpbmdNb3VzZUV2ZW50cyI6IHRydWUsCiAgImNvbG9yIjogImJsdWUiLAogICJkYXNoQXJyYXkiOiBudWxsLAogICJkYXNoT2Zmc2V0IjogbnVsbCwKICAiZmlsbCI6IHRydWUsCiAgImZpbGxDb2xvciI6ICIjMzE4NmNjIiwKICAiZmlsbE9wYWNpdHkiOiAwLjcsCiAgImZpbGxSdWxlIjogImV2ZW5vZGQiLAogICJsaW5lQ2FwIjogInJvdW5kIiwKICAibGluZUpvaW4iOiAicm91bmQiLAogICJvcGFjaXR5IjogMS4wLAogICJyYWRpdXMiOiA1LAogICJzdHJva2UiOiB0cnVlLAogICJ3ZWlnaHQiOiAzCn0KICAgICAgICAgICAgICAgICkKICAgICAgICAgICAgICAgIC5hZGRUbyhtYXBfYzgwMThjNmJjODM1NDVhOThiNTA4M2E3ZTkwNzlhYjEpOwogICAgICAgICAgICAKICAgIAogICAgICAgICAgICB2YXIgcG9wdXBfMzVhNGQyZTFhYzZmNDY3NzhhZDE5OTY2M2JmZGFkOWEgPSBMLnBvcHVwKHttYXhXaWR0aDogJzEwMCUnCiAgICAgICAgICAgIAogICAgICAgICAgICB9KTsKCiAgICAgICAgICAgIAogICAgICAgICAgICAgICAgdmFyIGh0bWxfZGVmOGM4OTBhM2U5NGU0ZGE0ZWJhOWE1MGI3NTI0MjggPSAkKGA8ZGl2IGlkPSJodG1sX2RlZjhjODkwYTNlOTRlNGRhNGViYTlhNTBiNzUyNDI4IiBzdHlsZT0id2lkdGg6IDEwMC4wJTsgaGVpZ2h0OiAxMDAuMCU7Ij5TdG86bG8gQWx0ZXJuYXRlIFNjaG9vbDwvZGl2PmApWzBdOwogICAgICAgICAgICAgICAgcG9wdXBfMzVhNGQyZTFhYzZmNDY3NzhhZDE5OTY2M2JmZGFkOWEuc2V0Q29udGVudChodG1sX2RlZjhjODkwYTNlOTRlNGRhNGViYTlhNTBiNzUyNDI4KTsKICAgICAgICAgICAgCgogICAgICAgICAgICBjaXJjbGVfbWFya2VyX2QwYWIyNzgwMzJhZDQzY2VhZjQ1YjNlYzZiMTQ5ODAzLmJpbmRQb3B1cChwb3B1cF8zNWE0ZDJlMWFjNmY0Njc3OGFkMTk5NjYzYmZkYWQ5YSkKICAgICAgICAgICAgOwoKICAgICAgICAgICAgCiAgICAgICAgCiAgICAKICAgICAgICAgICAgdmFyIGNpcmNsZV9tYXJrZXJfMTc4Nzg4NmFkOGJlNDdhZmFkYTA5OWIwMGY5YjI3ZTIgPSBMLmNpcmNsZU1hcmtlcigKICAgICAgICAgICAgICAgIFs0OS4xODk3MTU1NTA2MzMxMSwgLTEyMS44MjkwMjA1NTIwMjddLAogICAgICAgICAgICAgICAgewogICJidWJibGluZ01vdXNlRXZlbnRzIjogdHJ1ZSwKICAiY29sb3IiOiAiYmx1ZSIsCiAgImRhc2hBcnJheSI6IG51bGwsCiAgImRhc2hPZmZzZXQiOiBudWxsLAogICJmaWxsIjogdHJ1ZSwKICAiZmlsbENvbG9yIjogIiMzMTg2Y2MiLAogICJmaWxsT3BhY2l0eSI6IDAuNywKICAiZmlsbFJ1bGUiOiAiZXZlbm9kZCIsCiAgImxpbmVDYXAiOiAicm91bmQiLAogICJsaW5lSm9pbiI6ICJyb3VuZCIsCiAgIm9wYWNpdHkiOiAxLjAsCiAgInJhZGl1cyI6IDUsCiAgInN0cm9rZSI6IHRydWUsCiAgIndlaWdodCI6IDMKfQogICAgICAgICAgICAgICAgKQogICAgICAgICAgICAgICAgLmFkZFRvKG1hcF9jODAxOGM2YmM4MzU0NWE5OGI1MDgzYTdlOTA3OWFiMSk7CiAgICAgICAgICAgIAogICAgCiAgICAgICAgICAgIHZhciBwb3B1cF83ZWY3YjA2NjgwZjM0ODBmYWNmZWQ1NTYyZGY2NTRkZCA9IEwucG9wdXAoe21heFdpZHRoOiAnMTAwJScKICAgICAgICAgICAgCiAgICAgICAgICAgIH0pOwoKICAgICAgICAgICAgCiAgICAgICAgICAgICAgICB2YXIgaHRtbF8xMDdiYzhkZjYwZDc0MTQ0OTA2OWYxMDMzMGE4YTQ4MyA9ICQoYDxkaXYgaWQ9Imh0bWxfMTA3YmM4ZGY2MGQ3NDE0NDkwNjlmMTAzMzBhOGE0ODMiIHN0eWxlPSJ3aWR0aDogMTAwLjAlOyBoZWlnaHQ6IDEwMC4wJTsiPlRpbW90aHkgQ2hyaXN0aWFuPC9kaXY+YClbMF07CiAgICAgICAgICAgICAgICBwb3B1cF83ZWY3YjA2NjgwZjM0ODBmYWNmZWQ1NTYyZGY2NTRkZC5zZXRDb250ZW50KGh0bWxfMTA3YmM4ZGY2MGQ3NDE0NDkwNjlmMTAzMzBhOGE0ODMpOwogICAgICAgICAgICAKCiAgICAgICAgICAgIGNpcmNsZV9tYXJrZXJfMTc4Nzg4NmFkOGJlNDdhZmFkYTA5OWIwMGY5YjI3ZTIuYmluZFBvcHVwKHBvcHVwXzdlZjdiMDY2ODBmMzQ4MGZhY2ZlZDU1NjJkZjY1NGRkKQogICAgICAgICAgICA7CgogICAgICAgICAgICAKICAgICAgICAKICAgIAogICAgICAgICAgICB2YXIgY2lyY2xlX21hcmtlcl8wMTU3ODQ5MWI0NWU0MTk5YjBmMDJkYTEzZTc0NGFmZCA9IEwuY2lyY2xlTWFya2VyKAogICAgICAgICAgICAgICAgWzQ5LjE4Nzk2NzExNzMxNzMzLCAtMTIxLjk0MDgyNDI0NDc3MDgxXSwKICAgICAgICAgICAgICAgIHsKICAiYnViYmxpbmdNb3VzZUV2ZW50cyI6IHRydWUsCiAgImNvbG9yIjogImJsdWUiLAogICJkYXNoQXJyYXkiOiBudWxsLAogICJkYXNoT2Zmc2V0IjogbnVsbCwKICAiZmlsbCI6IHRydWUsCiAgImZpbGxDb2xvciI6ICIjMzE4NmNjIiwKICAiZmlsbE9wYWNpdHkiOiAwLjcsCiAgImZpbGxSdWxlIjogImV2ZW5vZGQiLAogICJsaW5lQ2FwIjogInJvdW5kIiwKICAibGluZUpvaW4iOiAicm91bmQiLAogICJvcGFjaXR5IjogMS4wLAogICJyYWRpdXMiOiA1LAogICJzdHJva2UiOiB0cnVlLAogICJ3ZWlnaHQiOiAzCn0KICAgICAgICAgICAgICAgICkKICAgICAgICAgICAgICAgIC5hZGRUbyhtYXBfYzgwMThjNmJjODM1NDVhOThiNTA4M2E3ZTkwNzlhYjEpOwogICAgICAgICAgICAKICAgIAogICAgICAgICAgICB2YXIgcG9wdXBfOTg3ZjVhYWU0N2QxNGM4NTk3NDJkMDk3MGY4OGI0MjYgPSBMLnBvcHVwKHttYXhXaWR0aDogJzEwMCUnCiAgICAgICAgICAgIAogICAgICAgICAgICB9KTsKCiAgICAgICAgICAgIAogICAgICAgICAgICAgICAgdmFyIGh0bWxfZWIxYzU0Y2M0OGFjNDEzYWJiYzYzNDQzMzM0NWM0ZjQgPSAkKGA8ZGl2IGlkPSJodG1sX2ViMWM1NGNjNDhhYzQxM2FiYmM2MzQ0MzMzNDVjNGY0IiBzdHlsZT0id2lkdGg6IDEwMC4wJTsgaGVpZ2h0OiAxMDAuMCU7Ij5TdHJhdGhjb25hIEVsZW1lbnRhcnk8L2Rpdj5gKVswXTsKICAgICAgICAgICAgICAgIHBvcHVwXzk4N2Y1YWFlNDdkMTRjODU5NzQyZDA5NzBmODhiNDI2LnNldENvbnRlbnQoaHRtbF9lYjFjNTRjYzQ4YWM0MTNhYmJjNjM0NDMzMzQ1YzRmNCk7CiAgICAgICAgICAgIAoKICAgICAgICAgICAgY2lyY2xlX21hcmtlcl8wMTU3ODQ5MWI0NWU0MTk5YjBmMDJkYTEzZTc0NGFmZC5iaW5kUG9wdXAocG9wdXBfOTg3ZjVhYWU0N2QxNGM4NTk3NDJkMDk3MGY4OGI0MjYpCiAgICAgICAgICAgIDsKCiAgICAgICAgICAgIAogICAgICAgIAogICAgCiAgICAgICAgICAgIHZhciBjaXJjbGVfbWFya2VyX2I0ZThkNDdmZWRlZTQ1MzFhYzFhMjc1NzExMjBiNmViID0gTC5jaXJjbGVNYXJrZXIoCiAgICAgICAgICAgICAgICBbNDkuMTgxNzI1ODE0Mjg3NywgLTEyMS45MjkyMTI0Nzk2NDkzNV0sCiAgICAgICAgICAgICAgICB7CiAgImJ1YmJsaW5nTW91c2VFdmVudHMiOiB0cnVlLAogICJjb2xvciI6ICJibHVlIiwKICAiZGFzaEFycmF5IjogbnVsbCwKICAiZGFzaE9mZnNldCI6IG51bGwsCiAgImZpbGwiOiB0cnVlLAogICJmaWxsQ29sb3IiOiAiIzMxODZjYyIsCiAgImZpbGxPcGFjaXR5IjogMC43LAogICJmaWxsUnVsZSI6ICJldmVub2RkIiwKICAibGluZUNhcCI6ICJyb3VuZCIsCiAgImxpbmVKb2luIjogInJvdW5kIiwKICAib3BhY2l0eSI6IDEuMCwKICAicmFkaXVzIjogNSwKICAic3Ryb2tlIjogdHJ1ZSwKICAid2VpZ2h0IjogMwp9CiAgICAgICAgICAgICAgICApCiAgICAgICAgICAgICAgICAuYWRkVG8obWFwX2M4MDE4YzZiYzgzNTQ1YTk4YjUwODNhN2U5MDc5YWIxKTsKICAgICAgICAgICAgCiAgICAKICAgICAgICAgICAgdmFyIHBvcHVwXzJlZTc4ZmMxNDI5NzQ3MjE4ZTViZjc3NGRmYjdmNDgwID0gTC5wb3B1cCh7bWF4V2lkdGg6ICcxMDAlJwogICAgICAgICAgICAKICAgICAgICAgICAgfSk7CgogICAgICAgICAgICAKICAgICAgICAgICAgICAgIHZhciBodG1sXzA0NmY4ODAyZDFjMDRkN2JiOTAxNDEwZWYxMzVhZjNjID0gJChgPGRpdiBpZD0iaHRtbF8wNDZmODgwMmQxYzA0ZDdiYjkwMTQxMGVmMTM1YWYzYyIgc3R5bGU9IndpZHRoOiAxMDAuMCU7IGhlaWdodDogMTAwLjAlOyI+TGl0dGxlIE1vdW50YWluIEVsZW1lbnRhcnk8L2Rpdj5gKVswXTsKICAgICAgICAgICAgICAgIHBvcHVwXzJlZTc4ZmMxNDI5NzQ3MjE4ZTViZjc3NGRmYjdmNDgwLnNldENvbnRlbnQoaHRtbF8wNDZmODgwMmQxYzA0ZDdiYjkwMTQxMGVmMTM1YWYzYyk7CiAgICAgICAgICAgIAoKICAgICAgICAgICAgY2lyY2xlX21hcmtlcl9iNGU4ZDQ3ZmVkZWU0NTMxYWMxYTI3NTcxMTIwYjZlYi5iaW5kUG9wdXAocG9wdXBfMmVlNzhmYzE0Mjk3NDcyMThlNWJmNzc0ZGZiN2Y0ODApCiAgICAgICAgICAgIDsKCiAgICAgICAgICAgIAogICAgICAgIAogICAgCiAgICAgICAgICAgIHZhciBjaXJjbGVfbWFya2VyX2UwMmE5MzRhZDU5ZjQ1NGRhOGUxMDQ0NDA3YzU0YzNhID0gTC5jaXJjbGVNYXJrZXIoCiAgICAgICAgICAgICAgICBbNDkuMTgxNjQyODg2NjY5MzY2LCAtMTIxLjg5Mzk1ODU2MzQxMDY1XSwKICAgICAgICAgICAgICAgIHsKICAiYnViYmxpbmdNb3VzZUV2ZW50cyI6IHRydWUsCiAgImNvbG9yIjogImJsdWUiLAogICJkYXNoQXJyYXkiOiBudWxsLAogICJkYXNoT2Zmc2V0IjogbnVsbCwKICAiZmlsbCI6IHRydWUsCiAgImZpbGxDb2xvciI6ICIjMzE4NmNjIiwKICAiZmlsbE9wYWNpdHkiOiAwLjcsCiAgImZpbGxSdWxlIjogImV2ZW5vZGQiLAogICJsaW5lQ2FwIjogInJvdW5kIiwKICAibGluZUpvaW4iOiAicm91bmQiLAogICJvcGFjaXR5IjogMS4wLAogICJyYWRpdXMiOiA1LAogICJzdHJva2UiOiB0cnVlLAogICJ3ZWlnaHQiOiAzCn0KICAgICAgICAgICAgICAgICkKICAgICAgICAgICAgICAgIC5hZGRUbyhtYXBfYzgwMThjNmJjODM1NDVhOThiNTA4M2E3ZTkwNzlhYjEpOwogICAgICAgICAgICAKICAgIAogICAgICAgICAgICB2YXIgcG9wdXBfYzhiYmY3MzMzOWRiNDg5Zjk1NTNhYzZlNWRlZGNlZmEgPSBMLnBvcHVwKHttYXhXaWR0aDogJzEwMCUnCiAgICAgICAgICAgIAogICAgICAgICAgICB9KTsKCiAgICAgICAgICAgIAogICAgICAgICAgICAgICAgdmFyIGh0bWxfZGNjY2RlNmYwZTg2NDMyOThhMGNiMDM1MDBlZTQ0OTkgPSAkKGA8ZGl2IGlkPSJodG1sX2RjY2NkZTZmMGU4NjQzMjk4YTBjYjAzNTAwZWU0NDk5IiBzdHlsZT0id2lkdGg6IDEwMC4wJTsgaGVpZ2h0OiAxMDAuMCU7Ij5DaGVhbSBFbGVtZW50YXJ5PC9kaXY+YClbMF07CiAgICAgICAgICAgICAgICBwb3B1cF9jOGJiZjczMzM5ZGI0ODlmOTU1M2FjNmU1ZGVkY2VmYS5zZXRDb250ZW50KGh0bWxfZGNjY2RlNmYwZTg2NDMyOThhMGNiMDM1MDBlZTQ0OTkpOwogICAgICAgICAgICAKCiAgICAgICAgICAgIGNpcmNsZV9tYXJrZXJfZTAyYTkzNGFkNTlmNDU0ZGE4ZTEwNDQ0MDdjNTRjM2EuYmluZFBvcHVwKHBvcHVwX2M4YmJmNzMzMzlkYjQ4OWY5NTUzYWM2ZTVkZWRjZWZhKQogICAgICAgICAgICA7CgogICAgICAgICAgICAKICAgICAgICAKICAgIAogICAgICAgICAgICB2YXIgY2lyY2xlX21hcmtlcl9kZTcyMzJmYmQxYzk0ZjNmODkwYTM2ZDQyOGYxODYwMiA9IEwuY2lyY2xlTWFya2VyKAogICAgICAgICAgICAgICAgWzQ5LjE3NDI0NzcwNzkxMzczLCAtMTIxLjk1MzExNDk3MTUyMjExXSwKICAgICAgICAgICAgICAgIHsKICAiYnViYmxpbmdNb3VzZUV2ZW50cyI6IHRydWUsCiAgImNvbG9yIjogImJsdWUiLAogICJkYXNoQXJyYXkiOiBudWxsLAogICJkYXNoT2Zmc2V0IjogbnVsbCwKICAiZmlsbCI6IHRydWUsCiAgImZpbGxDb2xvciI6ICIjMzE4NmNjIiwKICAiZmlsbE9wYWNpdHkiOiAwLjcsCiAgImZpbGxSdWxlIjogImV2ZW5vZGQiLAogICJsaW5lQ2FwIjogInJvdW5kIiwKICAibGluZUpvaW4iOiAicm91bmQiLAogICJvcGFjaXR5IjogMS4wLAogICJyYWRpdXMiOiA1LAogICJzdHJva2UiOiB0cnVlLAogICJ3ZWlnaHQiOiAzCn0KICAgICAgICAgICAgICAgICkKICAgICAgICAgICAgICAgIC5hZGRUbyhtYXBfYzgwMThjNmJjODM1NDVhOThiNTA4M2E3ZTkwNzlhYjEpOwogICAgICAgICAgICAKICAgIAogICAgICAgICAgICB2YXIgcG9wdXBfZmQ1NjM0NTE0MTBkNDA3ZWE0ZTM0N2ZjZmE2MDlhM2MgPSBMLnBvcHVwKHttYXhXaWR0aDogJzEwMCUnCiAgICAgICAgICAgIAogICAgICAgICAgICB9KTsKCiAgICAgICAgICAgIAogICAgICAgICAgICAgICAgdmFyIGh0bWxfNjRkZGJlMTM0MDVhNGRjNmFiMWYxYzgyODFmMTU0MDQgPSAkKGA8ZGl2IGlkPSJodG1sXzY0ZGRiZTEzNDA1YTRkYzZhYjFmMWM4MjgxZjE1NDA0IiBzdHlsZT0id2lkdGg6IDEwMC4wJTsgaGVpZ2h0OiAxMDAuMCU7Ij5DZW50cmFsIEVsZW08L2Rpdj5gKVswXTsKICAgICAgICAgICAgICAgIHBvcHVwX2ZkNTYzNDUxNDEwZDQwN2VhNGUzNDdmY2ZhNjA5YTNjLnNldENvbnRlbnQoaHRtbF82NGRkYmUxMzQwNWE0ZGM2YWIxZjFjODI4MWYxNTQwNCk7CiAgICAgICAgICAgIAoKICAgICAgICAgICAgY2lyY2xlX21hcmtlcl9kZTcyMzJmYmQxYzk0ZjNmODkwYTM2ZDQyOGYxODYwMi5iaW5kUG9wdXAocG9wdXBfZmQ1NjM0NTE0MTBkNDA3ZWE0ZTM0N2ZjZmE2MDlhM2MpCiAgICAgICAgICAgIDsKCiAgICAgICAgICAgIAogICAgICAgIAogICAgCiAgICAgICAgICAgIHZhciBjaXJjbGVfbWFya2VyXzRlMzJiMDVhNTQ5OTQ4YzNhMWZiMDFiYzE1NTc3ODA1ID0gTC5jaXJjbGVNYXJrZXIoCiAgICAgICAgICAgICAgICBbNDkuMTcxNjAyNzE3MDQ3OTksIC0xMjEuOTIwNzk1MDA4OTIxOTZdLAogICAgICAgICAgICAgICAgewogICJidWJibGluZ01vdXNlRXZlbnRzIjogdHJ1ZSwKICAiY29sb3IiOiAiYmx1ZSIsCiAgImRhc2hBcnJheSI6IG51bGwsCiAgImRhc2hPZmZzZXQiOiBudWxsLAogICJmaWxsIjogdHJ1ZSwKICAiZmlsbENvbG9yIjogIiMzMTg2Y2MiLAogICJmaWxsT3BhY2l0eSI6IDAuNywKICAiZmlsbFJ1bGUiOiAiZXZlbm9kZCIsCiAgImxpbmVDYXAiOiAicm91bmQiLAogICJsaW5lSm9pbiI6ICJyb3VuZCIsCiAgIm9wYWNpdHkiOiAxLjAsCiAgInJhZGl1cyI6IDUsCiAgInN0cm9rZSI6IHRydWUsCiAgIndlaWdodCI6IDMKfQogICAgICAgICAgICAgICAgKQogICAgICAgICAgICAgICAgLmFkZFRvKG1hcF9jODAxOGM2YmM4MzU0NWE5OGI1MDgzYTdlOTA3OWFiMSk7CiAgICAgICAgICAgIAogICAgCiAgICAgICAgICAgIHZhciBwb3B1cF81MjAzMGRhMjFkYTE0YmUwYWI1MjFlZjM5NWQzMzMyNyA9IEwucG9wdXAoe21heFdpZHRoOiAnMTAwJScKICAgICAgICAgICAgCiAgICAgICAgICAgIH0pOwoKICAgICAgICAgICAgCiAgICAgICAgICAgICAgICB2YXIgaHRtbF8zOTk5ZWJkMmJhM2Y0MjA3YWMwYmE2ZmVjMTQ3NTljYyA9ICQoYDxkaXYgaWQ9Imh0bWxfMzk5OWViZDJiYTNmNDIwN2FjMGJhNmZlYzE0NzU5Y2MiIHN0eWxlPSJ3aWR0aDogMTAwLjAlOyBoZWlnaHQ6IDEwMC4wJTsiPkYuRy4gTGVhcnkgRmluZSBBcnRzIEVsZW1lbnRhcnk8L2Rpdj5gKVswXTsKICAgICAgICAgICAgICAgIHBvcHVwXzUyMDMwZGEyMWRhMTRiZTBhYjUyMWVmMzk1ZDMzMzI3LnNldENvbnRlbnQoaHRtbF8zOTk5ZWJkMmJhM2Y0MjA3YWMwYmE2ZmVjMTQ3NTljYyk7CiAgICAgICAgICAgIAoKICAgICAgICAgICAgY2lyY2xlX21hcmtlcl80ZTMyYjA1YTU0OTk0OGMzYTFmYjAxYmMxNTU3NzgwNS5iaW5kUG9wdXAocG9wdXBfNTIwMzBkYTIxZGExNGJlMGFiNTIxZWYzOTVkMzMzMjcpCiAgICAgICAgICAgIDsKCiAgICAgICAgICAgIAogICAgICAgIAogICAgCiAgICAgICAgICAgIHZhciBjaXJjbGVfbWFya2VyX2Q1YTZmZWMyZDAyNjQ1YWY4ZTAzMjIxZjg5MGI0MGNkID0gTC5jaXJjbGVNYXJrZXIoCiAgICAgICAgICAgICAgICBbNDkuMTYzMjY4Njc1MjkyOTksIC0xMjEuOTQ3ODg4ODc2NDQ4MTVdLAogICAgICAgICAgICAgICAgewogICJidWJibGluZ01vdXNlRXZlbnRzIjogdHJ1ZSwKICAiY29sb3IiOiAiYmx1ZSIsCiAgImRhc2hBcnJheSI6IG51bGwsCiAgImRhc2hPZmZzZXQiOiBudWxsLAogICJmaWxsIjogdHJ1ZSwKICAiZmlsbENvbG9yIjogIiMzMTg2Y2MiLAogICJmaWxsT3BhY2l0eSI6IDAuNywKICAiZmlsbFJ1bGUiOiAiZXZlbm9kZCIsCiAgImxpbmVDYXAiOiAicm91bmQiLAogICJsaW5lSm9pbiI6ICJyb3VuZCIsCiAgIm9wYWNpdHkiOiAxLjAsCiAgInJhZGl1cyI6IDUsCiAgInN0cm9rZSI6IHRydWUsCiAgIndlaWdodCI6IDMKfQogICAgICAgICAgICAgICAgKQogICAgICAgICAgICAgICAgLmFkZFRvKG1hcF9jODAxOGM2YmM4MzU0NWE5OGI1MDgzYTdlOTA3OWFiMSk7CiAgICAgICAgICAgIAogICAgCiAgICAgICAgICAgIHZhciBwb3B1cF9mM2NlZjI0ZWNjNjM0M2UxOWIxODM3NWQxZDQwODdkZiA9IEwucG9wdXAoe21heFdpZHRoOiAnMTAwJScKICAgICAgICAgICAgCiAgICAgICAgICAgIH0pOwoKICAgICAgICAgICAgCiAgICAgICAgICAgICAgICB2YXIgaHRtbF8wZmFmZTMzZTliNzM0Y2I0OTk1ZWRjZGZjYTM0YjU2YSA9ICQoYDxkaXYgaWQ9Imh0bWxfMGZhZmUzM2U5YjczNGNiNDk5NWVkY2RmY2EzNGI1NmEiIHN0eWxlPSJ3aWR0aDogMTAwLjAlOyBoZWlnaHQ6IDEwMC4wJTsiPkVkdWNhdGlvbiBDZW50cmUgPC9kaXY+YClbMF07CiAgICAgICAgICAgICAgICBwb3B1cF9mM2NlZjI0ZWNjNjM0M2UxOWIxODM3NWQxZDQwODdkZi5zZXRDb250ZW50KGh0bWxfMGZhZmUzM2U5YjczNGNiNDk5NWVkY2RmY2EzNGI1NmEpOwogICAgICAgICAgICAKCiAgICAgICAgICAgIGNpcmNsZV9tYXJrZXJfZDVhNmZlYzJkMDI2NDVhZjhlMDMyMjFmODkwYjQwY2QuYmluZFBvcHVwKHBvcHVwX2YzY2VmMjRlY2M2MzQzZTE5YjE4Mzc1ZDFkNDA4N2RmKQogICAgICAgICAgICA7CgogICAgICAgICAgICAKICAgICAgICAKICAgIAogICAgICAgICAgICB2YXIgY2lyY2xlX21hcmtlcl8xY2M3ODI1OTA3ZmE0ZTYxYTQyNWI3OWI3YjU4OTAwYyA9IEwuY2lyY2xlTWFya2VyKAogICAgICAgICAgICAgICAgWzQ5LjE2MjQ3OTU3ODc0ODAyLCAtMTIxLjkzMjkxNTA5OTMwODA5XSwKICAgICAgICAgICAgICAgIHsKICAiYnViYmxpbmdNb3VzZUV2ZW50cyI6IHRydWUsCiAgImNvbG9yIjogImJsdWUiLAogICJkYXNoQXJyYXkiOiBudWxsLAogICJkYXNoT2Zmc2V0IjogbnVsbCwKICAiZmlsbCI6IHRydWUsCiAgImZpbGxDb2xvciI6ICIjMzE4NmNjIiwKICAiZmlsbE9wYWNpdHkiOiAwLjcsCiAgImZpbGxSdWxlIjogImV2ZW5vZGQiLAogICJsaW5lQ2FwIjogInJvdW5kIiwKICAibGluZUpvaW4iOiAicm91bmQiLAogICJvcGFjaXR5IjogMS4wLAogICJyYWRpdXMiOiA1LAogICJzdHJva2UiOiB0cnVlLAogICJ3ZWlnaHQiOiAzCn0KICAgICAgICAgICAgICAgICkKICAgICAgICAgICAgICAgIC5hZGRUbyhtYXBfYzgwMThjNmJjODM1NDVhOThiNTA4M2E3ZTkwNzlhYjEpOwogICAgICAgICAgICAKICAgIAogICAgICAgICAgICB2YXIgcG9wdXBfYmUyMDcxOTI0Y2RlNGUxMDhiNzBkNTNjY2VhYzI5ZGQgPSBMLnBvcHVwKHttYXhXaWR0aDogJzEwMCUnCiAgICAgICAgICAgIAogICAgICAgICAgICB9KTsKCiAgICAgICAgICAgIAogICAgICAgICAgICAgICAgdmFyIGh0bWxfYTNkY2FiZTIyM2JlNDQzZmI2YzczZDQ1ZTBmMmFmNzcgPSAkKGA8ZGl2IGlkPSJodG1sX2EzZGNhYmUyMjNiZTQ0M2ZiNmM3M2Q0NWUwZjJhZjc3IiBzdHlsZT0id2lkdGg6IDEwMC4wJTsgaGVpZ2h0OiAxMDAuMCU7Ij5IaWdoIFJvYWQgQWNhZGVteTwvZGl2PmApWzBdOwogICAgICAgICAgICAgICAgcG9wdXBfYmUyMDcxOTI0Y2RlNGUxMDhiNzBkNTNjY2VhYzI5ZGQuc2V0Q29udGVudChodG1sX2EzZGNhYmUyMjNiZTQ0M2ZiNmM3M2Q0NWUwZjJhZjc3KTsKICAgICAgICAgICAgCgogICAgICAgICAgICBjaXJjbGVfbWFya2VyXzFjYzc4MjU5MDdmYTRlNjFhNDI1Yjc5YjdiNTg5MDBjLmJpbmRQb3B1cChwb3B1cF9iZTIwNzE5MjRjZGU0ZTEwOGI3MGQ1M2NjZWFjMjlkZCkKICAgICAgICAgICAgOwoKICAgICAgICAgICAgCiAgICAgICAgCiAgICAKICAgICAgICAgICAgdmFyIGNpcmNsZV9tYXJrZXJfMDhlNjFiNzgxN2JlNGI3ZDg0ZTliOGI0OWNlM2U0YTMgPSBMLmNpcmNsZU1hcmtlcigKICAgICAgICAgICAgICAgIFs0OS4xNTkxNDMyODE5Mzk3ODQsIC0xMjEuOTYyNTkzNDA4Mjk2MV0sCiAgICAgICAgICAgICAgICB7CiAgImJ1YmJsaW5nTW91c2VFdmVudHMiOiB0cnVlLAogICJjb2xvciI6ICJibHVlIiwKICAiZGFzaEFycmF5IjogbnVsbCwKICAiZGFzaE9mZnNldCI6IG51bGwsCiAgImZpbGwiOiB0cnVlLAogICJmaWxsQ29sb3IiOiAiIzMxODZjYyIsCiAgImZpbGxPcGFjaXR5IjogMC43LAogICJmaWxsUnVsZSI6ICJldmVub2RkIiwKICAibGluZUNhcCI6ICJyb3VuZCIsCiAgImxpbmVKb2luIjogInJvdW5kIiwKICAib3BhY2l0eSI6IDEuMCwKICAicmFkaXVzIjogNSwKICAic3Ryb2tlIjogdHJ1ZSwKICAid2VpZ2h0IjogMwp9CiAgICAgICAgICAgICAgICApCiAgICAgICAgICAgICAgICAuYWRkVG8obWFwX2M4MDE4YzZiYzgzNTQ1YTk4YjUwODNhN2U5MDc5YWIxKTsKICAgICAgICAgICAgCiAgICAKICAgICAgICAgICAgdmFyIHBvcHVwX2MxMTRiZTBlOWRhZjQ2Y2Y5ZjBhYzIwZmVhMzM3NTExID0gTC5wb3B1cCh7bWF4V2lkdGg6ICcxMDAlJwogICAgICAgICAgICAKICAgICAgICAgICAgfSk7CgogICAgICAgICAgICAKICAgICAgICAgICAgICAgIHZhciBodG1sXzUxNTQzMTdjNmZjYjQ2NzM5NzM3Y2ZlZDYwYWE3NWZjID0gJChgPGRpdiBpZD0iaHRtbF81MTU0MzE3YzZmY2I0NjczOTczN2NmZWQ2MGFhNzVmYyIgc3R5bGU9IndpZHRoOiAxMDAuMCU7IGhlaWdodDogMTAwLjAlOyI+QS5ELiBSdW5kbGUgTWlkZGxlPC9kaXY+YClbMF07CiAgICAgICAgICAgICAgICBwb3B1cF9jMTE0YmUwZTlkYWY0NmNmOWYwYWMyMGZlYTMzNzUxMS5zZXRDb250ZW50KGh0bWxfNTE1NDMxN2M2ZmNiNDY3Mzk3MzdjZmVkNjBhYTc1ZmMpOwogICAgICAgICAgICAKCiAgICAgICAgICAgIGNpcmNsZV9tYXJrZXJfMDhlNjFiNzgxN2JlNGI3ZDg0ZTliOGI0OWNlM2U0YTMuYmluZFBvcHVwKHBvcHVwX2MxMTRiZTBlOWRhZjQ2Y2Y5ZjBhYzIwZmVhMzM3NTExKQogICAgICAgICAgICA7CgogICAgICAgICAgICAKICAgICAgICAKICAgIAogICAgICAgICAgICB2YXIgY2lyY2xlX21hcmtlcl9jNzk3YjVjZGU4YzQ0ZTdmYjg4MDkxOWM2MzVmYjYzZSA9IEwuY2lyY2xlTWFya2VyKAogICAgICAgICAgICAgICAgWzQ5LjE0NjE5ODI4NDk1OTk5LCAtMTIxLjg1NDQ2MDE4MTAyMzA5XSwKICAgICAgICAgICAgICAgIHsKICAiYnViYmxpbmdNb3VzZUV2ZW50cyI6IHRydWUsCiAgImNvbG9yIjogImJsdWUiLAogICJkYXNoQXJyYXkiOiBudWxsLAogICJkYXNoT2Zmc2V0IjogbnVsbCwKICAiZmlsbCI6IHRydWUsCiAgImZpbGxDb2xvciI6ICIjMzE4NmNjIiwKICAiZmlsbE9wYWNpdHkiOiAwLjcsCiAgImZpbGxSdWxlIjogImV2ZW5vZGQiLAogICJsaW5lQ2FwIjogInJvdW5kIiwKICAibGluZUpvaW4iOiAicm91bmQiLAogICJvcGFjaXR5IjogMS4wLAogICJyYWRpdXMiOiA1LAogICJzdHJva2UiOiB0cnVlLAogICJ3ZWlnaHQiOiAzCn0KICAgICAgICAgICAgICAgICkKICAgICAgICAgICAgICAgIC5hZGRUbyhtYXBfYzgwMThjNmJjODM1NDVhOThiNTA4M2E3ZTkwNzlhYjEpOwogICAgICAgICAgICAKICAgIAogICAgICAgICAgICB2YXIgcG9wdXBfMTczOGNkNzdiMTQ3NGQ1MGI5YzM5ZWE4MDgwMDIwZTUgPSBMLnBvcHVwKHttYXhXaWR0aDogJzEwMCUnCiAgICAgICAgICAgIAogICAgICAgICAgICB9KTsKCiAgICAgICAgICAgIAogICAgICAgICAgICAgICAgdmFyIGh0bWxfNTY2NTdjOTE1MDkxNGUyYWI5MzcyMTU3M2IyYjdlZmIgPSAkKGA8ZGl2IGlkPSJodG1sXzU2NjU3YzkxNTA5MTRlMmFiOTM3MjE1NzNiMmI3ZWZiIiBzdHlsZT0id2lkdGg6IDEwMC4wJTsgaGVpZ2h0OiAxMDAuMCU7Ij5GcmFzZXIgVmFsbGV5IERpc3RhbmNlIEVkdWNhdGlvbjwvZGl2PmApWzBdOwogICAgICAgICAgICAgICAgcG9wdXBfMTczOGNkNzdiMTQ3NGQ1MGI5YzM5ZWE4MDgwMDIwZTUuc2V0Q29udGVudChodG1sXzU2NjU3YzkxNTA5MTRlMmFiOTM3MjE1NzNiMmI3ZWZiKTsKICAgICAgICAgICAgCgogICAgICAgICAgICBjaXJjbGVfbWFya2VyX2M3OTdiNWNkZThjNDRlN2ZiODgwOTE5YzYzNWZiNjNlLmJpbmRQb3B1cChwb3B1cF8xNzM4Y2Q3N2IxNDc0ZDUwYjljMzllYTgwODAwMjBlNSkKICAgICAgICAgICAgOwoKICAgICAgICAgICAgCiAgICAgICAgCiAgICAKICAgICAgICAgICAgdmFyIGNpcmNsZV9tYXJrZXJfYWY1ZjQwNDkyNDliNGVlYmE2MWJjNmVhMDgyYWRlMjEgPSBMLmNpcmNsZU1hcmtlcigKICAgICAgICAgICAgICAgIFs0OS4xMzg1MDQxNDIwNDM1MywgLTEyMS45NzY1NjMyNDE2NjM4OF0sCiAgICAgICAgICAgICAgICB7CiAgImJ1YmJsaW5nTW91c2VFdmVudHMiOiB0cnVlLAogICJjb2xvciI6ICJibHVlIiwKICAiZGFzaEFycmF5IjogbnVsbCwKICAiZGFzaE9mZnNldCI6IG51bGwsCiAgImZpbGwiOiB0cnVlLAogICJmaWxsQ29sb3IiOiAiIzMxODZjYyIsCiAgImZpbGxPcGFjaXR5IjogMC43LAogICJmaWxsUnVsZSI6ICJldmVub2RkIiwKICAibGluZUNhcCI6ICJyb3VuZCIsCiAgImxpbmVKb2luIjogInJvdW5kIiwKICAib3BhY2l0eSI6IDEuMCwKICAicmFkaXVzIjogNSwKICAic3Ryb2tlIjogdHJ1ZSwKICAid2VpZ2h0IjogMwp9CiAgICAgICAgICAgICAgICApCiAgICAgICAgICAgICAgICAuYWRkVG8obWFwX2M4MDE4YzZiYzgzNTQ1YTk4YjUwODNhN2U5MDc5YWIxKTsKICAgICAgICAgICAgCiAgICAKICAgICAgICAgICAgdmFyIHBvcHVwXzYwYzliN2ViYTllNTQwMDliNmU3ZjY1NGY2ZTMxNTY1ID0gTC5wb3B1cCh7bWF4V2lkdGg6ICcxMDAlJwogICAgICAgICAgICAKICAgICAgICAgICAgfSk7CgogICAgICAgICAgICAKICAgICAgICAgICAgICAgIHZhciBodG1sXzg2ODEwZTg0ZDdjYTQwNDViODQ2NzZiNjRlMTM0ZmUzID0gJChgPGRpdiBpZD0iaHRtbF84NjgxMGU4NGQ3Y2E0MDQ1Yjg0Njc2YjY0ZTEzNGZlMyIgc3R5bGU9IndpZHRoOiAxMDAuMCU7IGhlaWdodDogMTAwLjAlOyI+RXZhbnMgRWxlbWVudGFyeTwvZGl2PmApWzBdOwogICAgICAgICAgICAgICAgcG9wdXBfNjBjOWI3ZWJhOWU1NDAwOWI2ZTdmNjU0ZjZlMzE1NjUuc2V0Q29udGVudChodG1sXzg2ODEwZTg0ZDdjYTQwNDViODQ2NzZiNjRlMTM0ZmUzKTsKICAgICAgICAgICAgCgogICAgICAgICAgICBjaXJjbGVfbWFya2VyX2FmNWY0MDQ5MjQ5YjRlZWJhNjFiYzZlYTA4MmFkZTIxLmJpbmRQb3B1cChwb3B1cF82MGM5YjdlYmE5ZTU0MDA5YjZlN2Y2NTRmNmUzMTU2NSkKICAgICAgICAgICAgOwoKICAgICAgICAgICAgCiAgICAgICAgCiAgICAKICAgICAgICAgICAgdmFyIGNpcmNsZV9tYXJrZXJfYTJmMzFhYTIxM2ZhNGE1MTk4YWU4ZWMyMzdkMGNjNTIgPSBMLmNpcmNsZU1hcmtlcigKICAgICAgICAgICAgICAgIFs0OS4xMjIyMzg4ODE3NDExOCwgLTEyMi4wMDU3MjA5NDQwNjIyM10sCiAgICAgICAgICAgICAgICB7CiAgImJ1YmJsaW5nTW91c2VFdmVudHMiOiB0cnVlLAogICJjb2xvciI6ICJibHVlIiwKICAiZGFzaEFycmF5IjogbnVsbCwKICAiZGFzaE9mZnNldCI6IG51bGwsCiAgImZpbGwiOiB0cnVlLAogICJmaWxsQ29sb3IiOiAiIzMxODZjYyIsCiAgImZpbGxPcGFjaXR5IjogMC43LAogICJmaWxsUnVsZSI6ICJldmVub2RkIiwKICAibGluZUNhcCI6ICJyb3VuZCIsCiAgImxpbmVKb2luIjogInJvdW5kIiwKICAib3BhY2l0eSI6IDEuMCwKICAicmFkaXVzIjogNSwKICAic3Ryb2tlIjogdHJ1ZSwKICAid2VpZ2h0IjogMwp9CiAgICAgICAgICAgICAgICApCiAgICAgICAgICAgICAgICAuYWRkVG8obWFwX2M4MDE4YzZiYzgzNTQ1YTk4YjUwODNhN2U5MDc5YWIxKTsKICAgICAgICAgICAgCiAgICAKICAgICAgICAgICAgdmFyIHBvcHVwXzQ0MzhjNGRmMjJmZDQzYjBhZWZkMTNjOTliMjFkZTE0ID0gTC5wb3B1cCh7bWF4V2lkdGg6ICcxMDAlJwogICAgICAgICAgICAKICAgICAgICAgICAgfSk7CgogICAgICAgICAgICAKICAgICAgICAgICAgICAgIHZhciBodG1sXzMwMTJlMGE2YzRjYjQ3NmRhMmE3YzMyZTViMTYwMGFjID0gJChgPGRpdiBpZD0iaHRtbF8zMDEyZTBhNmM0Y2I0NzZkYTJhN2MzMmU1YjE2MDBhYyIgc3R5bGU9IndpZHRoOiAxMDAuMCU7IGhlaWdodDogMTAwLjAlOyI+w4ljb2xlIExhIFbDqXJlbmRyeWU8L2Rpdj5gKVswXTsKICAgICAgICAgICAgICAgIHBvcHVwXzQ0MzhjNGRmMjJmZDQzYjBhZWZkMTNjOTliMjFkZTE0LnNldENvbnRlbnQoaHRtbF8zMDEyZTBhNmM0Y2I0NzZkYTJhN2MzMmU1YjE2MDBhYyk7CiAgICAgICAgICAgIAoKICAgICAgICAgICAgY2lyY2xlX21hcmtlcl9hMmYzMWFhMjEzZmE0YTUxOThhZThlYzIzN2QwY2M1Mi5iaW5kUG9wdXAocG9wdXBfNDQzOGM0ZGYyMmZkNDNiMGFlZmQxM2M5OWIyMWRlMTQpCiAgICAgICAgICAgIDsKCiAgICAgICAgICAgIAogICAgICAgIAogICAgCiAgICAgICAgICAgIHZhciBjaXJjbGVfbWFya2VyXzk3NGNhOGFjZmZjYzQzZjRiNWVmNDM1ZDRhYjk2OTliID0gTC5jaXJjbGVNYXJrZXIoCiAgICAgICAgICAgICAgICBbNDkuMTIxNzE1NzIyNzgyMzgsIC0xMjIuMDQ2ODYzOTQyMTgwODhdLAogICAgICAgICAgICAgICAgewogICJidWJibGluZ01vdXNlRXZlbnRzIjogdHJ1ZSwKICAiY29sb3IiOiAiYmx1ZSIsCiAgImRhc2hBcnJheSI6IG51bGwsCiAgImRhc2hPZmZzZXQiOiBudWxsLAogICJmaWxsIjogdHJ1ZSwKICAiZmlsbENvbG9yIjogIiMzMTg2Y2MiLAogICJmaWxsT3BhY2l0eSI6IDAuNywKICAiZmlsbFJ1bGUiOiAiZXZlbm9kZCIsCiAgImxpbmVDYXAiOiAicm91bmQiLAogICJsaW5lSm9pbiI6ICJyb3VuZCIsCiAgIm9wYWNpdHkiOiAxLjAsCiAgInJhZGl1cyI6IDUsCiAgInN0cm9rZSI6IHRydWUsCiAgIndlaWdodCI6IDMKfQogICAgICAgICAgICAgICAgKQogICAgICAgICAgICAgICAgLmFkZFRvKG1hcF9jODAxOGM2YmM4MzU0NWE5OGI1MDgzYTdlOTA3OWFiMSk7CiAgICAgICAgICAgIAogICAgCiAgICAgICAgICAgIHZhciBwb3B1cF81OGRmZmUwMjViODk0ZGY4OTY1NTJiN2Q0NTA4NWQzMCA9IEwucG9wdXAoe21heFdpZHRoOiAnMTAwJScKICAgICAgICAgICAgCiAgICAgICAgICAgIH0pOwoKICAgICAgICAgICAgCiAgICAgICAgICAgICAgICB2YXIgaHRtbF82ZTYwNGE5NTExZDA0YjBkOTYwOGYyMzQ5MTc0N2FjZCA9ICQoYDxkaXYgaWQ9Imh0bWxfNmU2MDRhOTUxMWQwNGIwZDk2MDhmMjM0OTE3NDdhY2QiIHN0eWxlPSJ3aWR0aDogMTAwLjAlOyBoZWlnaHQ6IDEwMC4wJTsiPkdyZWVuZGFsZSBDb21tdW5pdHkgRWxlbWVudGFyeTwvZGl2PmApWzBdOwogICAgICAgICAgICAgICAgcG9wdXBfNThkZmZlMDI1Yjg5NGRmODk2NTUyYjdkNDUwODVkMzAuc2V0Q29udGVudChodG1sXzZlNjA0YTk1MTFkMDRiMGQ5NjA4ZjIzNDkxNzQ3YWNkKTsKICAgICAgICAgICAgCgogICAgICAgICAgICBjaXJjbGVfbWFya2VyXzk3NGNhOGFjZmZjYzQzZjRiNWVmNDM1ZDRhYjk2OTliLmJpbmRQb3B1cChwb3B1cF81OGRmZmUwMjViODk0ZGY4OTY1NTJiN2Q0NTA4NWQzMCkKICAgICAgICAgICAgOwoKICAgICAgICAgICAgCiAgICAgICAgCiAgICAKICAgICAgICAgICAgdmFyIGNpcmNsZV9tYXJrZXJfYTg5Zjc4ZGJiMGU4NGI4Yjg0NWMzNjJlZGQ0ZjcxYjQgPSBMLmNpcmNsZU1hcmtlcigKICAgICAgICAgICAgICAgIFs0OS4xMDUxNTI1NTAzMTI4OTQsIC0xMjEuOTk5NTA1MTQ3NTUyNDRdLAogICAgICAgICAgICAgICAgewogICJidWJibGluZ01vdXNlRXZlbnRzIjogdHJ1ZSwKICAiY29sb3IiOiAiYmx1ZSIsCiAgImRhc2hBcnJheSI6IG51bGwsCiAgImRhc2hPZmZzZXQiOiBudWxsLAogICJmaWxsIjogdHJ1ZSwKICAiZmlsbENvbG9yIjogIiMzMTg2Y2MiLAogICJmaWxsT3BhY2l0eSI6IDAuNywKICAiZmlsbFJ1bGUiOiAiZXZlbm9kZCIsCiAgImxpbmVDYXAiOiAicm91bmQiLAogICJsaW5lSm9pbiI6ICJyb3VuZCIsCiAgIm9wYWNpdHkiOiAxLjAsCiAgInJhZGl1cyI6IDUsCiAgInN0cm9rZSI6IHRydWUsCiAgIndlaWdodCI6IDMKfQogICAgICAgICAgICAgICAgKQogICAgICAgICAgICAgICAgLmFkZFRvKG1hcF9jODAxOGM2YmM4MzU0NWE5OGI1MDgzYTdlOTA3OWFiMSk7CiAgICAgICAgICAgIAogICAgCiAgICAgICAgICAgIHZhciBwb3B1cF9hMzU1MzllY2YxYzk0MGI3YWIxYmFlNmQxNWZlZTk0NyA9IEwucG9wdXAoe21heFdpZHRoOiAnMTAwJScKICAgICAgICAgICAgCiAgICAgICAgICAgIH0pOwoKICAgICAgICAgICAgCiAgICAgICAgICAgICAgICB2YXIgaHRtbF9iYWFlMTZmYmJkMmU0YmEwYTg1MTUyZmZkOWU3NWY3OCA9ICQoYDxkaXYgaWQ9Imh0bWxfYmFhZTE2ZmJiZDJlNGJhMGE4NTE1MmZmZDllNzVmNzgiIHN0eWxlPSJ3aWR0aDogMTAwLjAlOyBoZWlnaHQ6IDEwMC4wJTsiPlVuc3dvcnRoIEVsZW1lbnRhcnk8L2Rpdj5gKVswXTsKICAgICAgICAgICAgICAgIHBvcHVwX2EzNTUzOWVjZjFjOTQwYjdhYjFiYWU2ZDE1ZmVlOTQ3LnNldENvbnRlbnQoaHRtbF9iYWFlMTZmYmJkMmU0YmEwYTg1MTUyZmZkOWU3NWY3OCk7CiAgICAgICAgICAgIAoKICAgICAgICAgICAgY2lyY2xlX21hcmtlcl9hODlmNzhkYmIwZTg0YjhiODQ1YzM2MmVkZDRmNzFiNC5iaW5kUG9wdXAocG9wdXBfYTM1NTM5ZWNmMWM5NDBiN2FiMWJhZTZkMTVmZWU5NDcpCiAgICAgICAgICAgIDsKCiAgICAgICAgICAgIAogICAgICAgIAogICAgCiAgICAgICAgICAgIHZhciBjaXJjbGVfbWFya2VyXzFmNzdiM2FlMjdkMTQwOTc4NDc1MDhkYjBjNmNmYTIwID0gTC5jaXJjbGVNYXJrZXIoCiAgICAgICAgICAgICAgICBbNDkuMDc5MDI1NjI5NDg4NzgsIC0xMjIuMDY2NDc4NDMyMzc1MzNdLAogICAgICAgICAgICAgICAgewogICJidWJibGluZ01vdXNlRXZlbnRzIjogdHJ1ZSwKICAiY29sb3IiOiAiYmx1ZSIsCiAgImRhc2hBcnJheSI6IG51bGwsCiAgImRhc2hPZmZzZXQiOiBudWxsLAogICJmaWxsIjogdHJ1ZSwKICAiZmlsbENvbG9yIjogIiMzMTg2Y2MiLAogICJmaWxsT3BhY2l0eSI6IDAuNywKICAiZmlsbFJ1bGUiOiAiZXZlbm9kZCIsCiAgImxpbmVDYXAiOiAicm91bmQiLAogICJsaW5lSm9pbiI6ICJyb3VuZCIsCiAgIm9wYWNpdHkiOiAxLjAsCiAgInJhZGl1cyI6IDUsCiAgInN0cm9rZSI6IHRydWUsCiAgIndlaWdodCI6IDMKfQogICAgICAgICAgICAgICAgKQogICAgICAgICAgICAgICAgLmFkZFRvKG1hcF9jODAxOGM2YmM4MzU0NWE5OGI1MDgzYTdlOTA3OWFiMSk7CiAgICAgICAgICAgIAogICAgCiAgICAgICAgICAgIHZhciBwb3B1cF9mZjUxZWU2NTI4OWI0OTBiYmRmMDgxMjdjMmFhNWE0OSA9IEwucG9wdXAoe21heFdpZHRoOiAnMTAwJScKICAgICAgICAgICAgCiAgICAgICAgICAgIH0pOwoKICAgICAgICAgICAgCiAgICAgICAgICAgICAgICB2YXIgaHRtbF8zMTJlMDliODZlNGQ0MGZlYmZlOWZjMDcxMGIwNGNkMCA9ICQoYDxkaXYgaWQ9Imh0bWxfMzEyZTA5Yjg2ZTRkNDBmZWJmZTlmYzA3MTBiMDRjZDAiIHN0eWxlPSJ3aWR0aDogMTAwLjAlOyBoZWlnaHQ6IDEwMC4wJTsiPkpvaG4gQ2FsdmluPC9kaXY+YClbMF07CiAgICAgICAgICAgICAgICBwb3B1cF9mZjUxZWU2NTI4OWI0OTBiYmRmMDgxMjdjMmFhNWE0OS5zZXRDb250ZW50KGh0bWxfMzEyZTA5Yjg2ZTRkNDBmZWJmZTlmYzA3MTBiMDRjZDApOwogICAgICAgICAgICAKCiAgICAgICAgICAgIGNpcmNsZV9tYXJrZXJfMWY3N2IzYWUyN2QxNDA5Nzg0NzUwOGRiMGM2Y2ZhMjAuYmluZFBvcHVwKHBvcHVwX2ZmNTFlZTY1Mjg5YjQ5MGJiZGYwODEyN2MyYWE1YTQ5KQogICAgICAgICAgICA7CgogICAgICAgICAgICAKICAgICAgICAKICAgIAogICAgICAgICAgICB2YXIgY2lyY2xlX21hcmtlcl8zM2E5NDJiMDhmZjM0NzMwOGQ4M2E0M2Y3YWQ1NDY2NiA9IEwuY2lyY2xlTWFya2VyKAogICAgICAgICAgICAgICAgWzQ5LjEyODIyNzQxMzg4OTc3NSwgLTEyMS45NTg1NDYwNDYyNTcyOF0sCiAgICAgICAgICAgICAgICB7CiAgImJ1YmJsaW5nTW91c2VFdmVudHMiOiB0cnVlLAogICJjb2xvciI6ICJibHVlIiwKICAiZGFzaEFycmF5IjogbnVsbCwKICAiZGFzaE9mZnNldCI6IG51bGwsCiAgImZpbGwiOiB0cnVlLAogICJmaWxsQ29sb3IiOiAiIzMxODZjYyIsCiAgImZpbGxPcGFjaXR5IjogMC43LAogICJmaWxsUnVsZSI6ICJldmVub2RkIiwKICAibGluZUNhcCI6ICJyb3VuZCIsCiAgImxpbmVKb2luIjogInJvdW5kIiwKICAib3BhY2l0eSI6IDEuMCwKICAicmFkaXVzIjogNSwKICAic3Ryb2tlIjogdHJ1ZSwKICAid2VpZ2h0IjogMwp9CiAgICAgICAgICAgICAgICApCiAgICAgICAgICAgICAgICAuYWRkVG8obWFwX2M4MDE4YzZiYzgzNTQ1YTk4YjUwODNhN2U5MDc5YWIxKTsKICAgICAgICAgICAgCiAgICAKICAgICAgICAgICAgdmFyIHBvcHVwXzliMDQ0YmJlNTdlMTRhNDk5YTVkMTUwM2FiZGFmMTg1ID0gTC5wb3B1cCh7bWF4V2lkdGg6ICcxMDAlJwogICAgICAgICAgICAKICAgICAgICAgICAgfSk7CgogICAgICAgICAgICAKICAgICAgICAgICAgICAgIHZhciBodG1sX2VjMjdhYTRjYmNkNTQ1ZDJiNDcyOGE4NjNkZGRiNDZjID0gJChgPGRpdiBpZD0iaHRtbF9lYzI3YWE0Y2JjZDU0NWQyYjQ3MjhhODYzZGRkYjQ2YyIgc3R5bGU9IndpZHRoOiAxMDAuMCU7IGhlaWdodDogMTAwLjAlOyI+U2FyZGlzIEVsZW1lbnRhcnk8L2Rpdj5gKVswXTsKICAgICAgICAgICAgICAgIHBvcHVwXzliMDQ0YmJlNTdlMTRhNDk5YTVkMTUwM2FiZGFmMTg1LnNldENvbnRlbnQoaHRtbF9lYzI3YWE0Y2JjZDU0NWQyYjQ3MjhhODYzZGRkYjQ2Yyk7CiAgICAgICAgICAgIAoKICAgICAgICAgICAgY2lyY2xlX21hcmtlcl8zM2E5NDJiMDhmZjM0NzMwOGQ4M2E0M2Y3YWQ1NDY2Ni5iaW5kUG9wdXAocG9wdXBfOWIwNDRiYmU1N2UxNGE0OTlhNWQxNTAzYWJkYWYxODUpCiAgICAgICAgICAgIDsKCiAgICAgICAgICAgIAogICAgICAgIAogICAgCiAgICAgICAgICAgIHZhciBjaXJjbGVfbWFya2VyX2FjZWNiNDVhNDg5OTQ3MGI5MDcwYWM4OWVjN2QwZTQ0ID0gTC5jaXJjbGVNYXJrZXIoCiAgICAgICAgICAgICAgICBbNDkuMTY0NzMxMTUzNjA4MTk0LCAtMTIxLjk2NTk1MzIwMjAzMzAzXSwKICAgICAgICAgICAgICAgIHsKICAiYnViYmxpbmdNb3VzZUV2ZW50cyI6IHRydWUsCiAgImNvbG9yIjogImJsdWUiLAogICJkYXNoQXJyYXkiOiBudWxsLAogICJkYXNoT2Zmc2V0IjogbnVsbCwKICAiZmlsbCI6IHRydWUsCiAgImZpbGxDb2xvciI6ICIjMzE4NmNjIiwKICAiZmlsbE9wYWNpdHkiOiAwLjcsCiAgImZpbGxSdWxlIjogImV2ZW5vZGQiLAogICJsaW5lQ2FwIjogInJvdW5kIiwKICAibGluZUpvaW4iOiAicm91bmQiLAogICJvcGFjaXR5IjogMS4wLAogICJyYWRpdXMiOiA1LAogICJzdHJva2UiOiB0cnVlLAogICJ3ZWlnaHQiOiAzCn0KICAgICAgICAgICAgICAgICkKICAgICAgICAgICAgICAgIC5hZGRUbyhtYXBfYzgwMThjNmJjODM1NDVhOThiNTA4M2E3ZTkwNzlhYjEpOwogICAgICAgICAgICAKICAgIAogICAgICAgICAgICB2YXIgcG9wdXBfYWRhNDI3ODE1Y2FjNGVlN2JlYTIyNWE0MTQ3ZjYzNjggPSBMLnBvcHVwKHttYXhXaWR0aDogJzEwMCUnCiAgICAgICAgICAgIAogICAgICAgICAgICB9KTsKCiAgICAgICAgICAgIAogICAgICAgICAgICAgICAgdmFyIGh0bWxfZjU3NmJjZmZhYTFiNDczODg5YmM0ZTZhMWYyZjA3NTUgPSAkKGA8ZGl2IGlkPSJodG1sX2Y1NzZiY2ZmYWExYjQ3Mzg4OWJjNGU2YTFmMmYwNzU1IiBzdHlsZT0id2lkdGg6IDEwMC4wJTsgaGVpZ2h0OiAxMDAuMCU7Ij5CZXJuYXJkIEVsZW1lbnRhcnk8L2Rpdj5gKVswXTsKICAgICAgICAgICAgICAgIHBvcHVwX2FkYTQyNzgxNWNhYzRlZTdiZWEyMjVhNDE0N2Y2MzY4LnNldENvbnRlbnQoaHRtbF9mNTc2YmNmZmFhMWI0NzM4ODliYzRlNmExZjJmMDc1NSk7CiAgICAgICAgICAgIAoKICAgICAgICAgICAgY2lyY2xlX21hcmtlcl9hY2VjYjQ1YTQ4OTk0NzBiOTA3MGFjODllYzdkMGU0NC5iaW5kUG9wdXAocG9wdXBfYWRhNDI3ODE1Y2FjNGVlN2JlYTIyNWE0MTQ3ZjYzNjgpCiAgICAgICAgICAgIDsKCiAgICAgICAgICAgIAogICAgICAgIAogICAgCiAgICAgICAgICAgIHZhciBjaXJjbGVfbWFya2VyXzQ1MTdjODZlOTk0ODQzNGE5NDZlOWE4ODc5ODJjOGE3ID0gTC5jaXJjbGVNYXJrZXIoCiAgICAgICAgICAgICAgICBbNDkuMTczNDQ4MjQ1ODk0NDg0LCAtMTIxLjgxODAzNjkyNTY4MjQ2XSwKICAgICAgICAgICAgICAgIHsKICAiYnViYmxpbmdNb3VzZUV2ZW50cyI6IHRydWUsCiAgImNvbG9yIjogImJsdWUiLAogICJkYXNoQXJyYXkiOiBudWxsLAogICJkYXNoT2Zmc2V0IjogbnVsbCwKICAiZmlsbCI6IHRydWUsCiAgImZpbGxDb2xvciI6ICIjMzE4NmNjIiwKICAiZmlsbE9wYWNpdHkiOiAwLjcsCiAgImZpbGxSdWxlIjogImV2ZW5vZGQiLAogICJsaW5lQ2FwIjogInJvdW5kIiwKICAibGluZUpvaW4iOiAicm91bmQiLAogICJvcGFjaXR5IjogMS4wLAogICJyYWRpdXMiOiA1LAogICJzdHJva2UiOiB0cnVlLAogICJ3ZWlnaHQiOiAzCn0KICAgICAgICAgICAgICAgICkKICAgICAgICAgICAgICAgIC5hZGRUbyhtYXBfYzgwMThjNmJjODM1NDVhOThiNTA4M2E3ZTkwNzlhYjEpOwogICAgICAgICAgICAKICAgIAogICAgICAgICAgICB2YXIgcG9wdXBfMDg4NTUwMDk2ZGUxNDFmNjkxNmY2NGZjNTM4Y2Q2NzAgPSBMLnBvcHVwKHttYXhXaWR0aDogJzEwMCUnCiAgICAgICAgICAgIAogICAgICAgICAgICB9KTsKCiAgICAgICAgICAgIAogICAgICAgICAgICAgICAgdmFyIGh0bWxfMTkzMmRkZjlmYjczNDEwZTkzZWQxNzU3ZTc4MzE2NzkgPSAkKGA8ZGl2IGlkPSJodG1sXzE5MzJkZGY5ZmI3MzQxMGU5M2VkMTc1N2U3ODMxNjc5IiBzdHlsZT0id2lkdGg6IDEwMC4wJTsgaGVpZ2h0OiAxMDAuMCU7Ij5Sb3NlZGFsZSBUcmFkaXRpb25hbCBDb21tdW5pdHkgU2NobDwvZGl2PmApWzBdOwogICAgICAgICAgICAgICAgcG9wdXBfMDg4NTUwMDk2ZGUxNDFmNjkxNmY2NGZjNTM4Y2Q2NzAuc2V0Q29udGVudChodG1sXzE5MzJkZGY5ZmI3MzQxMGU5M2VkMTc1N2U3ODMxNjc5KTsKICAgICAgICAgICAgCgogICAgICAgICAgICBjaXJjbGVfbWFya2VyXzQ1MTdjODZlOTk0ODQzNGE5NDZlOWE4ODc5ODJjOGE3LmJpbmRQb3B1cChwb3B1cF8wODg1NTAwOTZkZTE0MWY2OTE2ZjY0ZmM1MzhjZDY3MCkKICAgICAgICAgICAgOwoKICAgICAgICAgICAgCiAgICAgICAgCiAgICAKICAgICAgICAgICAgdmFyIGNpcmNsZV9tYXJrZXJfM2U1NDQwYWY5OWI0NGFmNDk2Zjg4ZDk3M2EzNWFhNjQgPSBMLmNpcmNsZU1hcmtlcigKICAgICAgICAgICAgICAgIFs0OS4xMDk1MzM4NDc0MzM4NDUsIC0xMjEuOTc3NjgxMDY5NDIyMDJdLAogICAgICAgICAgICAgICAgewogICJidWJibGluZ01vdXNlRXZlbnRzIjogdHJ1ZSwKICAiY29sb3IiOiAiYmx1ZSIsCiAgImRhc2hBcnJheSI6IG51bGwsCiAgImRhc2hPZmZzZXQiOiBudWxsLAogICJmaWxsIjogdHJ1ZSwKICAiZmlsbENvbG9yIjogIiMzMTg2Y2MiLAogICJmaWxsT3BhY2l0eSI6IDAuNywKICAiZmlsbFJ1bGUiOiAiZXZlbm9kZCIsCiAgImxpbmVDYXAiOiAicm91bmQiLAogICJsaW5lSm9pbiI6ICJyb3VuZCIsCiAgIm9wYWNpdHkiOiAxLjAsCiAgInJhZGl1cyI6IDUsCiAgInN0cm9rZSI6IHRydWUsCiAgIndlaWdodCI6IDMKfQogICAgICAgICAgICAgICAgKQogICAgICAgICAgICAgICAgLmFkZFRvKG1hcF9jODAxOGM2YmM4MzU0NWE5OGI1MDgzYTdlOTA3OWFiMSk7CiAgICAgICAgICAgIAogICAgCiAgICAgICAgICAgIHZhciBwb3B1cF84M2VmOTViZmNlNTc0ODMyYmM5NTUwZDllOTk5ODlhNSA9IEwucG9wdXAoe21heFdpZHRoOiAnMTAwJScKICAgICAgICAgICAgCiAgICAgICAgICAgIH0pOwoKICAgICAgICAgICAgCiAgICAgICAgICAgICAgICB2YXIgaHRtbF9jZTQ1Mzc1MjlkMDM0ZWQ3YWIxN2UyODliNDY1ZGNjZCA9ICQoYDxkaXYgaWQ9Imh0bWxfY2U0NTM3NTI5ZDAzNGVkN2FiMTdlMjg5YjQ2NWRjY2QiIHN0eWxlPSJ3aWR0aDogMTAwLjAlOyBoZWlnaHQ6IDEwMC4wJTsiPk10LiBTbGVzc2UgTWlkZGxlPC9kaXY+YClbMF07CiAgICAgICAgICAgICAgICBwb3B1cF84M2VmOTViZmNlNTc0ODMyYmM5NTUwZDllOTk5ODlhNS5zZXRDb250ZW50KGh0bWxfY2U0NTM3NTI5ZDAzNGVkN2FiMTdlMjg5YjQ2NWRjY2QpOwogICAgICAgICAgICAKCiAgICAgICAgICAgIGNpcmNsZV9tYXJrZXJfM2U1NDQwYWY5OWI0NGFmNDk2Zjg4ZDk3M2EzNWFhNjQuYmluZFBvcHVwKHBvcHVwXzgzZWY5NWJmY2U1NzQ4MzJiYzk1NTBkOWU5OTk4OWE1KQogICAgICAgICAgICA7CgogICAgICAgICAgICAKICAgICAgICAKICAgIAogICAgICAgICAgICB2YXIgY2lyY2xlX21hcmtlcl80MzI5MDEwZjVjMjI0MTk5YWEzY2ZlNDdmMzk4ZmY0YyA9IEwuY2lyY2xlTWFya2VyKAogICAgICAgICAgICAgICAgWzQ5LjE2MTM1MDQ2MTc5MjA1NCwgLTEyMS44NjM3NDIxMDc4NjIyXSwKICAgICAgICAgICAgICAgIHsKICAiYnViYmxpbmdNb3VzZUV2ZW50cyI6IHRydWUsCiAgImNvbG9yIjogImJsdWUiLAogICJkYXNoQXJyYXkiOiBudWxsLAogICJkYXNoT2Zmc2V0IjogbnVsbCwKICAiZmlsbCI6IHRydWUsCiAgImZpbGxDb2xvciI6ICIjMzE4NmNjIiwKICAiZmlsbE9wYWNpdHkiOiAwLjcsCiAgImZpbGxSdWxlIjogImV2ZW5vZGQiLAogICJsaW5lQ2FwIjogInJvdW5kIiwKICAibGluZUpvaW4iOiAicm91bmQiLAogICJvcGFjaXR5IjogMS4wLAogICJyYWRpdXMiOiA1LAogICJzdHJva2UiOiB0cnVlLAogICJ3ZWlnaHQiOiAzCn0KICAgICAgICAgICAgICAgICkKICAgICAgICAgICAgICAgIC5hZGRUbyhtYXBfYzgwMThjNmJjODM1NDVhOThiNTA4M2E3ZTkwNzlhYjEpOwogICAgICAgICAgICAKICAgIAogICAgICAgICAgICB2YXIgcG9wdXBfMjAxNDMxNDk1ODFhNGU5Yzk3OTgwMGJkZWU0MTFjMWYgPSBMLnBvcHVwKHttYXhXaWR0aDogJzEwMCUnCiAgICAgICAgICAgIAogICAgICAgICAgICB9KTsKCiAgICAgICAgICAgIAogICAgICAgICAgICAgICAgdmFyIGh0bWxfNzJhNDYwM2IwZTJhNDQ2YzlhY2FlYjQwMTVjNDZkN2IgPSAkKGA8ZGl2IGlkPSJodG1sXzcyYTQ2MDNiMGUyYTQ0NmM5YWNhZWI0MDE1YzQ2ZDdiIiBzdHlsZT0id2lkdGg6IDEwMC4wJTsgaGVpZ2h0OiAxMDAuMCU7Ij5FYXN0IENoaWxsaXdhY2sgRWxlbWVudGFyeTwvZGl2PmApWzBdOwogICAgICAgICAgICAgICAgcG9wdXBfMjAxNDMxNDk1ODFhNGU5Yzk3OTgwMGJkZWU0MTFjMWYuc2V0Q29udGVudChodG1sXzcyYTQ2MDNiMGUyYTQ0NmM5YWNhZWI0MDE1YzQ2ZDdiKTsKICAgICAgICAgICAgCgogICAgICAgICAgICBjaXJjbGVfbWFya2VyXzQzMjkwMTBmNWMyMjQxOTlhYTNjZmU0N2YzOThmZjRjLmJpbmRQb3B1cChwb3B1cF8yMDE0MzE0OTU4MWE0ZTljOTc5ODAwYmRlZTQxMWMxZikKICAgICAgICAgICAgOwoKICAgICAgICAgICAgCiAgICAgICAgCiAgICAKICAgICAgICAgICAgdmFyIGNpcmNsZV9tYXJrZXJfOGQ1MGExYzY3YThhNGZjODk3NTljNGVlYWRmN2I4NTYgPSBMLmNpcmNsZU1hcmtlcigKICAgICAgICAgICAgICAgIFs0OS4xMDEzMDk0MDQ0MzQwNCwgLTEyMS45NDQ2MTg4NDkzOTc3M10sCiAgICAgICAgICAgICAgICB7CiAgImJ1YmJsaW5nTW91c2VFdmVudHMiOiB0cnVlLAogICJjb2xvciI6ICJibHVlIiwKICAiZGFzaEFycmF5IjogbnVsbCwKICAiZGFzaE9mZnNldCI6IG51bGwsCiAgImZpbGwiOiB0cnVlLAogICJmaWxsQ29sb3IiOiAiIzMxODZjYyIsCiAgImZpbGxPcGFjaXR5IjogMC43LAogICJmaWxsUnVsZSI6ICJldmVub2RkIiwKICAibGluZUNhcCI6ICJyb3VuZCIsCiAgImxpbmVKb2luIjogInJvdW5kIiwKICAib3BhY2l0eSI6IDEuMCwKICAicmFkaXVzIjogNSwKICAic3Ryb2tlIjogdHJ1ZSwKICAid2VpZ2h0IjogMwp9CiAgICAgICAgICAgICAgICApCiAgICAgICAgICAgICAgICAuYWRkVG8obWFwX2M4MDE4YzZiYzgzNTQ1YTk4YjUwODNhN2U5MDc5YWIxKTsKICAgICAgICAgICAgCiAgICAKICAgICAgICAgICAgdmFyIHBvcHVwXzZkZGE1N2JkM2MyYTQwMzNiMjlkZGY1ZDlhZGUzMmU4ID0gTC5wb3B1cCh7bWF4V2lkdGg6ICcxMDAlJwogICAgICAgICAgICAKICAgICAgICAgICAgfSk7CgogICAgICAgICAgICAKICAgICAgICAgICAgICAgIHZhciBodG1sXzA1M2ExOTE2OGIyODRkZjY4Y2JmMzRlNWJlMzVmYmEwID0gJChgPGRpdiBpZD0iaHRtbF8wNTNhMTkxNjhiMjg0ZGY2OGNiZjM0ZTViZTM1ZmJhMCIgc3R5bGU9IndpZHRoOiAxMDAuMCU7IGhlaWdodDogMTAwLjAlOyI+UHJvbW9udG9yeSBIZWlnaHRzIEVsZW1lbnRhcnkgQ29tbXVuaXR5PC9kaXY+YClbMF07CiAgICAgICAgICAgICAgICBwb3B1cF82ZGRhNTdiZDNjMmE0MDMzYjI5ZGRmNWQ5YWRlMzJlOC5zZXRDb250ZW50KGh0bWxfMDUzYTE5MTY4YjI4NGRmNjhjYmYzNGU1YmUzNWZiYTApOwogICAgICAgICAgICAKCiAgICAgICAgICAgIGNpcmNsZV9tYXJrZXJfOGQ1MGExYzY3YThhNGZjODk3NTljNGVlYWRmN2I4NTYuYmluZFBvcHVwKHBvcHVwXzZkZGE1N2JkM2MyYTQwMzNiMjlkZGY1ZDlhZGUzMmU4KQogICAgICAgICAgICA7CgogICAgICAgICAgICAKICAgICAgICAKICAgIAogICAgICAgICAgICB2YXIgY2lyY2xlX21hcmtlcl9mNTU2NjMyMTkzYmM0OGNlYWUyOTA5YjA3ODVmYTUyMSA9IEwuY2lyY2xlTWFya2VyKAogICAgICAgICAgICAgICAgWzQ5LjE3NTk3MjM0OTk5ODAyLCAtMTIxLjg3MTIyNjY1OTczNTQ0XSwKICAgICAgICAgICAgICAgIHsKICAiYnViYmxpbmdNb3VzZUV2ZW50cyI6IHRydWUsCiAgImNvbG9yIjogImJsdWUiLAogICJkYXNoQXJyYXkiOiBudWxsLAogICJkYXNoT2Zmc2V0IjogbnVsbCwKICAiZmlsbCI6IHRydWUsCiAgImZpbGxDb2xvciI6ICIjMzE4NmNjIiwKICAiZmlsbE9wYWNpdHkiOiAwLjcsCiAgImZpbGxSdWxlIjogImV2ZW5vZGQiLAogICJsaW5lQ2FwIjogInJvdW5kIiwKICAibGluZUpvaW4iOiAicm91bmQiLAogICJvcGFjaXR5IjogMS4wLAogICJyYWRpdXMiOiA1LAogICJzdHJva2UiOiB0cnVlLAogICJ3ZWlnaHQiOiAzCn0KICAgICAgICAgICAgICAgICkKICAgICAgICAgICAgICAgIC5hZGRUbyhtYXBfYzgwMThjNmJjODM1NDVhOThiNTA4M2E3ZTkwNzlhYjEpOwogICAgICAgICAgICAKICAgIAogICAgICAgICAgICB2YXIgcG9wdXBfNmI3MGQ0OWQ1Yzg5NDc1Mzg3NTlmMWM0M2E3ODVkZTYgPSBMLnBvcHVwKHttYXhXaWR0aDogJzEwMCUnCiAgICAgICAgICAgIAogICAgICAgICAgICB9KTsKCiAgICAgICAgICAgIAogICAgICAgICAgICAgICAgdmFyIGh0bWxfY2IyZjI0YzJlNzcxNDU2YTlmMjZmYmY0ODIyMzAzNDggPSAkKGA8ZGl2IGlkPSJodG1sX2NiMmYyNGMyZTc3MTQ1NmE5ZjI2ZmJmNDgyMjMwMzQ4IiBzdHlsZT0id2lkdGg6IDEwMC4wJTsgaGVpZ2h0OiAxMDAuMCU7Ij5Nb3VudCBDaGVhbSBDaHJpc3RpYW4gU2Nob29sPC9kaXY+YClbMF07CiAgICAgICAgICAgICAgICBwb3B1cF82YjcwZDQ5ZDVjODk0NzUzODc1OWYxYzQzYTc4NWRlNi5zZXRDb250ZW50KGh0bWxfY2IyZjI0YzJlNzcxNDU2YTlmMjZmYmY0ODIyMzAzNDgpOwogICAgICAgICAgICAKCiAgICAgICAgICAgIGNpcmNsZV9tYXJrZXJfZjU1NjYzMjE5M2JjNDhjZWFlMjkwOWIwNzg1ZmE1MjEuYmluZFBvcHVwKHBvcHVwXzZiNzBkNDlkNWM4OTQ3NTM4NzU5ZjFjNDNhNzg1ZGU2KQogICAgICAgICAgICA7CgogICAgICAgICAgICAKICAgICAgICAKICAgIAogICAgICAgICAgICB2YXIgY2lyY2xlX21hcmtlcl81YjQxZDBiYjkwYjk0Y2Q0YjBiNmNhNGUxYmVmYTdiZSA9IEwuY2lyY2xlTWFya2VyKAogICAgICAgICAgICAgICAgWzQ5LjA4NTczNjU2MTYxNDM1NCwgLTEyMi4wNDc3ODU2ODc5NjE2OF0sCiAgICAgICAgICAgICAgICB7CiAgImJ1YmJsaW5nTW91c2VFdmVudHMiOiB0cnVlLAogICJjb2xvciI6ICJibHVlIiwKICAiZGFzaEFycmF5IjogbnVsbCwKICAiZGFzaE9mZnNldCI6IG51bGwsCiAgImZpbGwiOiB0cnVlLAogICJmaWxsQ29sb3IiOiAiIzMxODZjYyIsCiAgImZpbGxPcGFjaXR5IjogMC43LAogICJmaWxsUnVsZSI6ICJldmVub2RkIiwKICAibGluZUNhcCI6ICJyb3VuZCIsCiAgImxpbmVKb2luIjogInJvdW5kIiwKICAib3BhY2l0eSI6IDEuMCwKICAicmFkaXVzIjogNSwKICAic3Ryb2tlIjogdHJ1ZSwKICAid2VpZ2h0IjogMwp9CiAgICAgICAgICAgICAgICApCiAgICAgICAgICAgICAgICAuYWRkVG8obWFwX2M4MDE4YzZiYzgzNTQ1YTk4YjUwODNhN2U5MDc5YWIxKTsKICAgICAgICAgICAgCiAgICAKICAgICAgICAgICAgdmFyIHBvcHVwXzA1MjU1OWY4ZjI3MzRmZWJiOGRhOWViMzRhNmMzNGI1ID0gTC5wb3B1cCh7bWF4V2lkdGg6ICcxMDAlJwogICAgICAgICAgICAKICAgICAgICAgICAgfSk7CgogICAgICAgICAgICAKICAgICAgICAgICAgICAgIHZhciBodG1sXzJlZmZiZTcyMzBmMjQxNjdiMGQ5MTg1M2E4YjY1ZjhmID0gJChgPGRpdiBpZD0iaHRtbF8yZWZmYmU3MjMwZjI0MTY3YjBkOTE4NTNhOGI2NWY4ZiIgc3R5bGU9IndpZHRoOiAxMDAuMCU7IGhlaWdodDogMTAwLjAlOyI+WWFycm93IENvbW11bml0eSBFbGVtZW50YXJ5PC9kaXY+YClbMF07CiAgICAgICAgICAgICAgICBwb3B1cF8wNTI1NTlmOGYyNzM0ZmViYjhkYTllYjM0YTZjMzRiNS5zZXRDb250ZW50KGh0bWxfMmVmZmJlNzIzMGYyNDE2N2IwZDkxODUzYThiNjVmOGYpOwogICAgICAgICAgICAKCiAgICAgICAgICAgIGNpcmNsZV9tYXJrZXJfNWI0MWQwYmI5MGI5NGNkNGIwYjZjYTRlMWJlZmE3YmUuYmluZFBvcHVwKHBvcHVwXzA1MjU1OWY4ZjI3MzRmZWJiOGRhOWViMzRhNmMzNGI1KQogICAgICAgICAgICA7CgogICAgICAgICAgICAKICAgICAgICAKICAgIAogICAgICAgICAgICB2YXIgY2lyY2xlX21hcmtlcl9mY2U4YmRhOWZhYTc0OGEzYTZjYWQ0NjhkZDdhMWUxMiA9IEwuY2lyY2xlTWFya2VyKAogICAgICAgICAgICAgICAgWzQ5LjE4MDE4NjkxNzY3OTcsIC0xMjEuOTUxNDM3NjE2MDcxODddLAogICAgICAgICAgICAgICAgewogICJidWJibGluZ01vdXNlRXZlbnRzIjogdHJ1ZSwKICAiY29sb3IiOiAiYmx1ZSIsCiAgImRhc2hBcnJheSI6IG51bGwsCiAgImRhc2hPZmZzZXQiOiBudWxsLAogICJmaWxsIjogdHJ1ZSwKICAiZmlsbENvbG9yIjogIiMzMTg2Y2MiLAogICJmaWxsT3BhY2l0eSI6IDAuNywKICAiZmlsbFJ1bGUiOiAiZXZlbm9kZCIsCiAgImxpbmVDYXAiOiAicm91bmQiLAogICJsaW5lSm9pbiI6ICJyb3VuZCIsCiAgIm9wYWNpdHkiOiAxLjAsCiAgInJhZGl1cyI6IDUsCiAgInN0cm9rZSI6IHRydWUsCiAgIndlaWdodCI6IDMKfQogICAgICAgICAgICAgICAgKQogICAgICAgICAgICAgICAgLmFkZFRvKG1hcF9jODAxOGM2YmM4MzU0NWE5OGI1MDgzYTdlOTA3OWFiMSk7CiAgICAgICAgICAgIAogICAgCiAgICAgICAgICAgIHZhciBwb3B1cF84ZjljOThhYjA0NDk0NjZmYjExMjY4Yzc4NjMzMWY4NSA9IEwucG9wdXAoe21heFdpZHRoOiAnMTAwJScKICAgICAgICAgICAgCiAgICAgICAgICAgIH0pOwoKICAgICAgICAgICAgCiAgICAgICAgICAgICAgICB2YXIgaHRtbF9iYzczODQ5YTRhNWU0ZTgzODNhZTRkYmVkZGY0MzlkMSA9ICQoYDxkaXYgaWQ9Imh0bWxfYmM3Mzg0OWE0YTVlNGU4MzgzYWU0ZGJlZGRmNDM5ZDEiIHN0eWxlPSJ3aWR0aDogMTAwLjAlOyBoZWlnaHQ6IDEwMC4wJTsiPkNoaWxsaXdhY2sgQWR2ZW50aXN0IENocmlzdGlhbjwvZGl2PmApWzBdOwogICAgICAgICAgICAgICAgcG9wdXBfOGY5Yzk4YWIwNDQ5NDY2ZmIxMTI2OGM3ODYzMzFmODUuc2V0Q29udGVudChodG1sX2JjNzM4NDlhNGE1ZTRlODM4M2FlNGRiZWRkZjQzOWQxKTsKICAgICAgICAgICAgCgogICAgICAgICAgICBjaXJjbGVfbWFya2VyX2ZjZThiZGE5ZmFhNzQ4YTNhNmNhZDQ2OGRkN2ExZTEyLmJpbmRQb3B1cChwb3B1cF84ZjljOThhYjA0NDk0NjZmYjExMjY4Yzc4NjMzMWY4NSkKICAgICAgICAgICAgOwoKICAgICAgICAgICAgCiAgICAgICAgCiAgICAKICAgICAgICAgICAgdmFyIGNpcmNsZV9tYXJrZXJfYWIyOTkxNzcwYTBhNGQ4ZWFkMzBiMDJmMTRlYjlhMjMgPSBMLmNpcmNsZU1hcmtlcigKICAgICAgICAgICAgICAgIFs0OS4xNjQyNzMxMjAyOTUzMywgLTEyMS45NjI5NzI3MTM5NzIwMl0sCiAgICAgICAgICAgICAgICB7CiAgImJ1YmJsaW5nTW91c2VFdmVudHMiOiB0cnVlLAogICJjb2xvciI6ICJibHVlIiwKICAiZGFzaEFycmF5IjogbnVsbCwKICAiZGFzaE9mZnNldCI6IG51bGwsCiAgImZpbGwiOiB0cnVlLAogICJmaWxsQ29sb3IiOiAiIzMxODZjYyIsCiAgImZpbGxPcGFjaXR5IjogMC43LAogICJmaWxsUnVsZSI6ICJldmVub2RkIiwKICAibGluZUNhcCI6ICJyb3VuZCIsCiAgImxpbmVKb2luIjogInJvdW5kIiwKICAib3BhY2l0eSI6IDEuMCwKICAicmFkaXVzIjogNSwKICAic3Ryb2tlIjogdHJ1ZSwKICAid2VpZ2h0IjogMwp9CiAgICAgICAgICAgICAgICApCiAgICAgICAgICAgICAgICAuYWRkVG8obWFwX2M4MDE4YzZiYzgzNTQ1YTk4YjUwODNhN2U5MDc5YWIxKTsKICAgICAgICAgICAgCiAgICAKICAgICAgICAgICAgdmFyIHBvcHVwXzkyOWY1OGZmMDk3ZDQ4Y2JiYTJhYzFhOTBkMDIwMTM1ID0gTC5wb3B1cCh7bWF4V2lkdGg6ICcxMDAlJwogICAgICAgICAgICAKICAgICAgICAgICAgfSk7CgogICAgICAgICAgICAKICAgICAgICAgICAgICAgIHZhciBodG1sXzUwNjAzMzg1ZTExZTQwNmE5NDc2ZTZlNWI0OTU0ZTU3ID0gJChgPGRpdiBpZD0iaHRtbF81MDYwMzM4NWUxMWU0MDZhOTQ3NmU2ZTViNDk1NGU1NyIgc3R5bGU9IndpZHRoOiAxMDAuMCU7IGhlaWdodDogMTAwLjAlOyI+U3QuIE1hcnkmIzM5O3MgQ2F0aG9saWM8L2Rpdj5gKVswXTsKICAgICAgICAgICAgICAgIHBvcHVwXzkyOWY1OGZmMDk3ZDQ4Y2JiYTJhYzFhOTBkMDIwMTM1LnNldENvbnRlbnQoaHRtbF81MDYwMzM4NWUxMWU0MDZhOTQ3NmU2ZTViNDk1NGU1Nyk7CiAgICAgICAgICAgIAoKICAgICAgICAgICAgY2lyY2xlX21hcmtlcl9hYjI5OTE3NzBhMGE0ZDhlYWQzMGIwMmYxNGViOWEyMy5iaW5kUG9wdXAocG9wdXBfOTI5ZjU4ZmYwOTdkNDhjYmJhMmFjMWE5MGQwMjAxMzUpCiAgICAgICAgICAgIDsKCiAgICAgICAgICAgIAogICAgICAgIAogICAgCiAgICAgICAgICAgIHZhciBjaXJjbGVfbWFya2VyX2Q0Y2IyOWUwYmU2YTQ5YjY4YjY4YjdkNzAyYmI1NjBiID0gTC5jaXJjbGVNYXJrZXIoCiAgICAgICAgICAgICAgICBbNDkuMTc2NDg2MzcxMzcyNDQsIC0xMjEuOTQyODY0NjgwOTMyNzldLAogICAgICAgICAgICAgICAgewogICJidWJibGluZ01vdXNlRXZlbnRzIjogdHJ1ZSwKICAiY29sb3IiOiAiYmx1ZSIsCiAgImRhc2hBcnJheSI6IG51bGwsCiAgImRhc2hPZmZzZXQiOiBudWxsLAogICJmaWxsIjogdHJ1ZSwKICAiZmlsbENvbG9yIjogIiMzMTg2Y2MiLAogICJmaWxsT3BhY2l0eSI6IDAuNywKICAiZmlsbFJ1bGUiOiAiZXZlbm9kZCIsCiAgImxpbmVDYXAiOiAicm91bmQiLAogICJsaW5lSm9pbiI6ICJyb3VuZCIsCiAgIm9wYWNpdHkiOiAxLjAsCiAgInJhZGl1cyI6IDUsCiAgInN0cm9rZSI6IHRydWUsCiAgIndlaWdodCI6IDMKfQogICAgICAgICAgICAgICAgKQogICAgICAgICAgICAgICAgLmFkZFRvKG1hcF9jODAxOGM2YmM4MzU0NWE5OGI1MDgzYTdlOTA3OWFiMSk7CiAgICAgICAgICAgIAogICAgCiAgICAgICAgICAgIHZhciBwb3B1cF9lZTk4NGFjNDZlYjQ0YmIzOTMwNGUyNTQxZDRhMGQ5ZCA9IEwucG9wdXAoe21heFdpZHRoOiAnMTAwJScKICAgICAgICAgICAgCiAgICAgICAgICAgIH0pOwoKICAgICAgICAgICAgCiAgICAgICAgICAgICAgICB2YXIgaHRtbF8wNmE4YzBlNDVhYzM0ZDUwODhkYmNjYzRiYjk2OTc3NiA9ICQoYDxkaXYgaWQ9Imh0bWxfMDZhOGMwZTQ1YWMzNGQ1MDg4ZGJjY2M0YmI5Njk3NzYiIHN0eWxlPSJ3aWR0aDogMTAwLjAlOyBoZWlnaHQ6IDEwMC4wJTsiPkNoaWxsaXdhY2sgU2Vjb25kYXJ5PC9kaXY+YClbMF07CiAgICAgICAgICAgICAgICBwb3B1cF9lZTk4NGFjNDZlYjQ0YmIzOTMwNGUyNTQxZDRhMGQ5ZC5zZXRDb250ZW50KGh0bWxfMDZhOGMwZTQ1YWMzNGQ1MDg4ZGJjY2M0YmI5Njk3NzYpOwogICAgICAgICAgICAKCiAgICAgICAgICAgIGNpcmNsZV9tYXJrZXJfZDRjYjI5ZTBiZTZhNDliNjhiNjhiN2Q3MDJiYjU2MGIuYmluZFBvcHVwKHBvcHVwX2VlOTg0YWM0NmViNDRiYjM5MzA0ZTI1NDFkNGEwZDlkKQogICAgICAgICAgICA7CgogICAgICAgICAgICAKICAgICAgICAKICAgIAogICAgICAgICAgICB2YXIgY2lyY2xlX21hcmtlcl8xNzJjZjBhNDlmNzA0MTM1YTQ3MjBjODlhMzVhY2JlZiA9IEwuY2lyY2xlTWFya2VyKAogICAgICAgICAgICAgICAgWzQ5LjE0MzM0NjM3MDcyOTY3NCwgLTEyMS45MTcyOTM3NTAxOTMxN10sCiAgICAgICAgICAgICAgICB7CiAgImJ1YmJsaW5nTW91c2VFdmVudHMiOiB0cnVlLAogICJjb2xvciI6ICJibHVlIiwKICAiZGFzaEFycmF5IjogbnVsbCwKICAiZGFzaE9mZnNldCI6IG51bGwsCiAgImZpbGwiOiB0cnVlLAogICJmaWxsQ29sb3IiOiAiIzMxODZjYyIsCiAgImZpbGxPcGFjaXR5IjogMC43LAogICJmaWxsUnVsZSI6ICJldmVub2RkIiwKICAibGluZUNhcCI6ICJyb3VuZCIsCiAgImxpbmVKb2luIjogInJvdW5kIiwKICAib3BhY2l0eSI6IDEuMCwKICAicmFkaXVzIjogNSwKICAic3Ryb2tlIjogdHJ1ZSwKICAid2VpZ2h0IjogMwp9CiAgICAgICAgICAgICAgICApCiAgICAgICAgICAgICAgICAuYWRkVG8obWFwX2M4MDE4YzZiYzgzNTQ1YTk4YjUwODNhN2U5MDc5YWIxKTsKICAgICAgICAgICAgCiAgICAKICAgICAgICAgICAgdmFyIHBvcHVwXzk4NDhlNjM5MzNlODRkYjBiMjI4YzNkNDMwNTQyNjczID0gTC5wb3B1cCh7bWF4V2lkdGg6ICcxMDAlJwogICAgICAgICAgICAKICAgICAgICAgICAgfSk7CgogICAgICAgICAgICAKICAgICAgICAgICAgICAgIHZhciBodG1sX2VmZWExYTU5ZmM2NDQyZGM4ZmMxZTM4MDJmYjA0Mzk0ID0gJChgPGRpdiBpZD0iaHRtbF9lZmVhMWE1OWZjNjQ0MmRjOGZjMWUzODAyZmIwNDM5NCIgc3R5bGU9IndpZHRoOiAxMDAuMCU7IGhlaWdodDogMTAwLjAlOyI+Qy5ILkEuTi5DLkUuIFNoeHdldGV0aWx0aGV0IEFsdGVybmF0ZTwvZGl2PmApWzBdOwogICAgICAgICAgICAgICAgcG9wdXBfOTg0OGU2MzkzM2U4NGRiMGIyMjhjM2Q0MzA1NDI2NzMuc2V0Q29udGVudChodG1sX2VmZWExYTU5ZmM2NDQyZGM4ZmMxZTM4MDJmYjA0Mzk0KTsKICAgICAgICAgICAgCgogICAgICAgICAgICBjaXJjbGVfbWFya2VyXzE3MmNmMGE0OWY3MDQxMzVhNDcyMGM4OWEzNWFjYmVmLmJpbmRQb3B1cChwb3B1cF85ODQ4ZTYzOTMzZTg0ZGIwYjIyOGMzZDQzMDU0MjY3MykKICAgICAgICAgICAgOwoKICAgICAgICAgICAgCiAgICAgICAgCiAgICAKICAgICAgICAgICAgdmFyIGNpcmNsZV9tYXJrZXJfNzIyM2RlMWVkZWJlNGI0ZmE2YTU1ODdlOTcxNTk4OWUgPSBMLmNpcmNsZU1hcmtlcigKICAgICAgICAgICAgICAgIFs0OS4xMTcyMjEyNDUyMjk2LCAtMTIxLjk3Mzg5NDExMjg3Nzg2XSwKICAgICAgICAgICAgICAgIHsKICAiYnViYmxpbmdNb3VzZUV2ZW50cyI6IHRydWUsCiAgImNvbG9yIjogImJsdWUiLAogICJkYXNoQXJyYXkiOiBudWxsLAogICJkYXNoT2Zmc2V0IjogbnVsbCwKICAiZmlsbCI6IHRydWUsCiAgImZpbGxDb2xvciI6ICIjMzE4NmNjIiwKICAiZmlsbE9wYWNpdHkiOiAwLjcsCiAgImZpbGxSdWxlIjogImV2ZW5vZGQiLAogICJsaW5lQ2FwIjogInJvdW5kIiwKICAibGluZUpvaW4iOiAicm91bmQiLAogICJvcGFjaXR5IjogMS4wLAogICJyYWRpdXMiOiA1LAogICJzdHJva2UiOiB0cnVlLAogICJ3ZWlnaHQiOiAzCn0KICAgICAgICAgICAgICAgICkKICAgICAgICAgICAgICAgIC5hZGRUbyhtYXBfYzgwMThjNmJjODM1NDVhOThiNTA4M2E3ZTkwNzlhYjEpOwogICAgICAgICAgICAKICAgIAogICAgICAgICAgICB2YXIgcG9wdXBfOWE1MWVmMzYzMTIyNGI3YmE2ZDI1M2YwODBjZjRjMGEgPSBMLnBvcHVwKHttYXhXaWR0aDogJzEwMCUnCiAgICAgICAgICAgIAogICAgICAgICAgICB9KTsKCiAgICAgICAgICAgIAogICAgICAgICAgICAgICAgdmFyIGh0bWxfYjFhMWNlMmM0NDI4NGRhYjk2NGEzOGVhNzY1MmZjMWEgPSAkKGA8ZGl2IGlkPSJodG1sX2IxYTFjZTJjNDQyODRkYWI5NjRhMzhlYTc2NTJmYzFhIiBzdHlsZT0id2lkdGg6IDEwMC4wJTsgaGVpZ2h0OiAxMDAuMCU7Ij5UeXNvbiBFbGVtZW50YXJ5PC9kaXY+YClbMF07CiAgICAgICAgICAgICAgICBwb3B1cF85YTUxZWYzNjMxMjI0YjdiYTZkMjUzZjA4MGNmNGMwYS5zZXRDb250ZW50KGh0bWxfYjFhMWNlMmM0NDI4NGRhYjk2NGEzOGVhNzY1MmZjMWEpOwogICAgICAgICAgICAKCiAgICAgICAgICAgIGNpcmNsZV9tYXJrZXJfNzIyM2RlMWVkZWJlNGI0ZmE2YTU1ODdlOTcxNTk4OWUuYmluZFBvcHVwKHBvcHVwXzlhNTFlZjM2MzEyMjRiN2JhNmQyNTNmMDgwY2Y0YzBhKQogICAgICAgICAgICA7CgogICAgICAgICAgICAKICAgICAgICAKICAgIAogICAgICAgICAgICB2YXIgY2lyY2xlX21hcmtlcl80ZDE1YjUyMzBkNDg0ZGQxYjE3Njc5ZmNmMmZlMWZkNyA9IEwuY2lyY2xlTWFya2VyKAogICAgICAgICAgICAgICAgWzQ5LjExMjY2MzIwOTA2NDU1LCAtMTIxLjk3MDMzMjkxMDA3MDYxXSwKICAgICAgICAgICAgICAgIHsKICAiYnViYmxpbmdNb3VzZUV2ZW50cyI6IHRydWUsCiAgImNvbG9yIjogImJsdWUiLAogICJkYXNoQXJyYXkiOiBudWxsLAogICJkYXNoT2Zmc2V0IjogbnVsbCwKICAiZmlsbCI6IHRydWUsCiAgImZpbGxDb2xvciI6ICIjMzE4NmNjIiwKICAiZmlsbE9wYWNpdHkiOiAwLjcsCiAgImZpbGxSdWxlIjogImV2ZW5vZGQiLAogICJsaW5lQ2FwIjogInJvdW5kIiwKICAibGluZUpvaW4iOiAicm91bmQiLAogICJvcGFjaXR5IjogMS4wLAogICJyYWRpdXMiOiA1LAogICJzdHJva2UiOiB0cnVlLAogICJ3ZWlnaHQiOiAzCn0KICAgICAgICAgICAgICAgICkKICAgICAgICAgICAgICAgIC5hZGRUbyhtYXBfYzgwMThjNmJjODM1NDVhOThiNTA4M2E3ZTkwNzlhYjEpOwogICAgICAgICAgICAKICAgIAogICAgICAgICAgICB2YXIgcG9wdXBfOWQ2YjMxNGIzZmRiNDdhZGE5MGU5ZDI0NDZiMzEwMjcgPSBMLnBvcHVwKHttYXhXaWR0aDogJzEwMCUnCiAgICAgICAgICAgIAogICAgICAgICAgICB9KTsKCiAgICAgICAgICAgIAogICAgICAgICAgICAgICAgdmFyIGh0bWxfYWY2Y2Q0MWFlYzMzNDQ1YmIxYjZmMzE5Nzg5N2U5ZDggPSAkKGA8ZGl2IGlkPSJodG1sX2FmNmNkNDFhZWMzMzQ0NWJiMWI2ZjMxOTc4OTdlOWQ4IiBzdHlsZT0id2lkdGg6IDEwMC4wJTsgaGVpZ2h0OiAxMDAuMCU7Ij5XYXRzb24gRWxlbWVudGFyeTwvZGl2PmApWzBdOwogICAgICAgICAgICAgICAgcG9wdXBfOWQ2YjMxNGIzZmRiNDdhZGE5MGU5ZDI0NDZiMzEwMjcuc2V0Q29udGVudChodG1sX2FmNmNkNDFhZWMzMzQ0NWJiMWI2ZjMxOTc4OTdlOWQ4KTsKICAgICAgICAgICAgCgogICAgICAgICAgICBjaXJjbGVfbWFya2VyXzRkMTViNTIzMGQ0ODRkZDFiMTc2NzlmY2YyZmUxZmQ3LmJpbmRQb3B1cChwb3B1cF85ZDZiMzE0YjNmZGI0N2FkYTkwZTlkMjQ0NmIzMTAyNykKICAgICAgICAgICAgOwoKICAgICAgICAgICAgCiAgICAgICAgCiAgICAKICAgICAgICAgICAgdmFyIGNpcmNsZV9tYXJrZXJfZTdhNGYzN2Y5YjY4NGZhNGJkN2ZkY2FiYzJiN2QzM2IgPSBMLmNpcmNsZU1hcmtlcigKICAgICAgICAgICAgICAgIFs0OS4xMjE4OTQ4NTA1NTM1MywgLTEyMS45NjY5MDQxODUzMDIyM10sCiAgICAgICAgICAgICAgICB7CiAgImJ1YmJsaW5nTW91c2VFdmVudHMiOiB0cnVlLAogICJjb2xvciI6ICJibHVlIiwKICAiZGFzaEFycmF5IjogbnVsbCwKICAiZGFzaE9mZnNldCI6IG51bGwsCiAgImZpbGwiOiB0cnVlLAogICJmaWxsQ29sb3IiOiAiIzMxODZjYyIsCiAgImZpbGxPcGFjaXR5IjogMC43LAogICJmaWxsUnVsZSI6ICJldmVub2RkIiwKICAibGluZUNhcCI6ICJyb3VuZCIsCiAgImxpbmVKb2luIjogInJvdW5kIiwKICAib3BhY2l0eSI6IDEuMCwKICAicmFkaXVzIjogNSwKICAic3Ryb2tlIjogdHJ1ZSwKICAid2VpZ2h0IjogMwp9CiAgICAgICAgICAgICAgICApCiAgICAgICAgICAgICAgICAuYWRkVG8obWFwX2M4MDE4YzZiYzgzNTQ1YTk4YjUwODNhN2U5MDc5YWIxKTsKICAgICAgICAgICAgCiAgICAKICAgICAgICAgICAgdmFyIHBvcHVwX2EzYzJhOGZiOTdjMTRlNDNiZjE1ZjMzZjI2Y2VjNDg3ID0gTC5wb3B1cCh7bWF4V2lkdGg6ICcxMDAlJwogICAgICAgICAgICAKICAgICAgICAgICAgfSk7CgogICAgICAgICAgICAKICAgICAgICAgICAgICAgIHZhciBodG1sXzVhN2ZiNWRmMDM5MjQxYzRhYWE0NzdmNGM5MTIwMDZjID0gJChgPGRpdiBpZD0iaHRtbF81YTdmYjVkZjAzOTI0MWM0YWFhNDc3ZjRjOTEyMDA2YyIgc3R5bGU9IndpZHRoOiAxMDAuMCU7IGhlaWdodDogMTAwLjAlOyI+U2FyZGlzIFNlY29uZGFyeTwvZGl2PmApWzBdOwogICAgICAgICAgICAgICAgcG9wdXBfYTNjMmE4ZmI5N2MxNGU0M2JmMTVmMzNmMjZjZWM0ODcuc2V0Q29udGVudChodG1sXzVhN2ZiNWRmMDM5MjQxYzRhYWE0NzdmNGM5MTIwMDZjKTsKICAgICAgICAgICAgCgogICAgICAgICAgICBjaXJjbGVfbWFya2VyX2U3YTRmMzdmOWI2ODRmYTRiZDdmZGNhYmMyYjdkMzNiLmJpbmRQb3B1cChwb3B1cF9hM2MyYThmYjk3YzE0ZTQzYmYxNWYzM2YyNmNlYzQ4NykKICAgICAgICAgICAgOwoKICAgICAgICAgICAgCiAgICAgICAgCiAgICAKICAgICAgICAgICAgdmFyIGNpcmNsZV9tYXJrZXJfZDExMzliMTA0ZTA5NGJjODk3MmY3ZWY2ODA2YzEzM2QgPSBMLmNpcmNsZU1hcmtlcigKICAgICAgICAgICAgICAgIFs0OS4xNTYxMzM5MjY0OTM0MywgLTEyMS45NjE1NTkxMTkxMjRdLAogICAgICAgICAgICAgICAgewogICJidWJibGluZ01vdXNlRXZlbnRzIjogdHJ1ZSwKICAiY29sb3IiOiAiYmx1ZSIsCiAgImRhc2hBcnJheSI6IG51bGwsCiAgImRhc2hPZmZzZXQiOiBudWxsLAogICJmaWxsIjogdHJ1ZSwKICAiZmlsbENvbG9yIjogIiMzMTg2Y2MiLAogICJmaWxsT3BhY2l0eSI6IDAuNywKICAiZmlsbFJ1bGUiOiAiZXZlbm9kZCIsCiAgImxpbmVDYXAiOiAicm91bmQiLAogICJsaW5lSm9pbiI6ICJyb3VuZCIsCiAgIm9wYWNpdHkiOiAxLjAsCiAgInJhZGl1cyI6IDUsCiAgInN0cm9rZSI6IHRydWUsCiAgIndlaWdodCI6IDMKfQogICAgICAgICAgICAgICAgKQogICAgICAgICAgICAgICAgLmFkZFRvKG1hcF9jODAxOGM2YmM4MzU0NWE5OGI1MDgzYTdlOTA3OWFiMSk7CiAgICAgICAgICAgIAogICAgCiAgICAgICAgICAgIHZhciBwb3B1cF81MjYxZjgxM2VlZmI0MjY2OTgyMTcyMTViOTJmYTFhNCA9IEwucG9wdXAoe21heFdpZHRoOiAnMTAwJScKICAgICAgICAgICAgCiAgICAgICAgICAgIH0pOwoKICAgICAgICAgICAgCiAgICAgICAgICAgICAgICB2YXIgaHRtbF80NmM5MDlmMWNmYmU0ODQ3YWNkYTYzNmVmYzIwOTcxNyA9ICQoYDxkaXYgaWQ9Imh0bWxfNDZjOTA5ZjFjZmJlNDg0N2FjZGE2MzZlZmMyMDk3MTciIHN0eWxlPSJ3aWR0aDogMTAwLjAlOyBoZWlnaHQ6IDEwMC4wJTsiPkNhc2NhZGUgQ2hyaXN0aWFuIFNjaG9vbDwvZGl2PmApWzBdOwogICAgICAgICAgICAgICAgcG9wdXBfNTI2MWY4MTNlZWZiNDI2Njk4MjE3MjE1YjkyZmExYTQuc2V0Q29udGVudChodG1sXzQ2YzkwOWYxY2ZiZTQ4NDdhY2RhNjM2ZWZjMjA5NzE3KTsKICAgICAgICAgICAgCgogICAgICAgICAgICBjaXJjbGVfbWFya2VyX2QxMTM5YjEwNGUwOTRiYzg5NzJmN2VmNjgwNmMxMzNkLmJpbmRQb3B1cChwb3B1cF81MjYxZjgxM2VlZmI0MjY2OTgyMTcyMTViOTJmYTFhNCkKICAgICAgICAgICAgOwoKICAgICAgICAgICAgCiAgICAgICAgCiAgICAKICAgICAgICAgICAgdmFyIGNpcmNsZV9tYXJrZXJfNGNlMTQ4ZjQ2YzZiNGZhNjlkMDYyMjYzMWU1MzE5MmIgPSBMLmNpcmNsZU1hcmtlcigKICAgICAgICAgICAgICAgIFs0OS4xNzc0NDY0MjI2MzkzNSwgLTEyMS45NjgzMzg5NzE3ODgyM10sCiAgICAgICAgICAgICAgICB7CiAgImJ1YmJsaW5nTW91c2VFdmVudHMiOiB0cnVlLAogICJjb2xvciI6ICJibHVlIiwKICAiZGFzaEFycmF5IjogbnVsbCwKICAiZGFzaE9mZnNldCI6IG51bGwsCiAgImZpbGwiOiB0cnVlLAogICJmaWxsQ29sb3IiOiAiIzMxODZjYyIsCiAgImZpbGxPcGFjaXR5IjogMC43LAogICJmaWxsUnVsZSI6ICJldmVub2RkIiwKICAibGluZUNhcCI6ICJyb3VuZCIsCiAgImxpbmVKb2luIjogInJvdW5kIiwKICAib3BhY2l0eSI6IDEuMCwKICAicmFkaXVzIjogNSwKICAic3Ryb2tlIjogdHJ1ZSwKICAid2VpZ2h0IjogMwp9CiAgICAgICAgICAgICAgICApCiAgICAgICAgICAgICAgICAuYWRkVG8obWFwX2M4MDE4YzZiYzgzNTQ1YTk4YjUwODNhN2U5MDc5YWIxKTsKICAgICAgICAgICAgCiAgICAKICAgICAgICAgICAgdmFyIHBvcHVwXzI4NTc3NDFlNzlmODQ0MWM5NWI5MzZhNTc1NjY3ZTg5ID0gTC5wb3B1cCh7bWF4V2lkdGg6ICcxMDAlJwogICAgICAgICAgICAKICAgICAgICAgICAgfSk7CgogICAgICAgICAgICAKICAgICAgICAgICAgICAgIHZhciBodG1sXzk2ODJlNzIzNWZkZTRiNmJiYTEyMjQ3N2E1YTJjM2Y3ID0gJChgPGRpdiBpZD0iaHRtbF85NjgyZTcyMzVmZGU0YjZiYmExMjI0NzdhNWEyYzNmNyIgc3R5bGU9IndpZHRoOiAxMDAuMCU7IGhlaWdodDogMTAwLjAlOyI+TWNDYW1tb24gVHJhZGl0aW9uYWwgRWxlbWVudGFyeTwvZGl2PmApWzBdOwogICAgICAgICAgICAgICAgcG9wdXBfMjg1Nzc0MWU3OWY4NDQxYzk1YjkzNmE1NzU2NjdlODkuc2V0Q29udGVudChodG1sXzk2ODJlNzIzNWZkZTRiNmJiYTEyMjQ3N2E1YTJjM2Y3KTsKICAgICAgICAgICAgCgogICAgICAgICAgICBjaXJjbGVfbWFya2VyXzRjZTE0OGY0NmM2YjRmYTY5ZDA2MjI2MzFlNTMxOTJiLmJpbmRQb3B1cChwb3B1cF8yODU3NzQxZTc5Zjg0NDFjOTViOTM2YTU3NTY2N2U4OSkKICAgICAgICAgICAgOwoKICAgICAgICAgICAgCiAgICAgICAgCiAgICAKICAgICAgICAgICAgdmFyIGNpcmNsZV9tYXJrZXJfNzZjNGZlYjVhYWQwNDY3ZmFiMWRhYjkwZmE0MzVjMjggPSBMLmNpcmNsZU1hcmtlcigKICAgICAgICAgICAgICAgIFs0OS4xNTc4MjA2NjU4NjIxNSwgLTEyMS45NDY5MzQ3NzI2NjY2XSwKICAgICAgICAgICAgICAgIHsKICAiYnViYmxpbmdNb3VzZUV2ZW50cyI6IHRydWUsCiAgImNvbG9yIjogImJsdWUiLAogICJkYXNoQXJyYXkiOiBudWxsLAogICJkYXNoT2Zmc2V0IjogbnVsbCwKICAiZmlsbCI6IHRydWUsCiAgImZpbGxDb2xvciI6ICIjMzE4NmNjIiwKICAiZmlsbE9wYWNpdHkiOiAwLjcsCiAgImZpbGxSdWxlIjogImV2ZW5vZGQiLAogICJsaW5lQ2FwIjogInJvdW5kIiwKICAibGluZUpvaW4iOiAicm91bmQiLAogICJvcGFjaXR5IjogMS4wLAogICJyYWRpdXMiOiA1LAogICJzdHJva2UiOiB0cnVlLAogICJ3ZWlnaHQiOiAzCn0KICAgICAgICAgICAgICAgICkKICAgICAgICAgICAgICAgIC5hZGRUbyhtYXBfYzgwMThjNmJjODM1NDVhOThiNTA4M2E3ZTkwNzlhYjEpOwogICAgICAgICAgICAKICAgIAogICAgICAgICAgICB2YXIgcG9wdXBfYmNjNDJhZDM5YzBhNDgyYThlNTI1N2MwZjBiNTU3MzYgPSBMLnBvcHVwKHttYXhXaWR0aDogJzEwMCUnCiAgICAgICAgICAgIAogICAgICAgICAgICB9KTsKCiAgICAgICAgICAgIAogICAgICAgICAgICAgICAgdmFyIGh0bWxfYzhhNWZjYjA3MThkNDVlOTllOWFhMTg3NzFjM2IxNmQgPSAkKGA8ZGl2IGlkPSJodG1sX2M4YTVmY2IwNzE4ZDQ1ZTk5ZTlhYTE4NzcxYzNiMTZkIiBzdHlsZT0id2lkdGg6IDEwMC4wJTsgaGVpZ2h0OiAxMDAuMCU7Ij5Sb2JlcnRzb24gRWxlbWVudGFyeTwvZGl2PmApWzBdOwogICAgICAgICAgICAgICAgcG9wdXBfYmNjNDJhZDM5YzBhNDgyYThlNTI1N2MwZjBiNTU3MzYuc2V0Q29udGVudChodG1sX2M4YTVmY2IwNzE4ZDQ1ZTk5ZTlhYTE4NzcxYzNiMTZkKTsKICAgICAgICAgICAgCgogICAgICAgICAgICBjaXJjbGVfbWFya2VyXzc2YzRmZWI1YWFkMDQ2N2ZhYjFkYWI5MGZhNDM1YzI4LmJpbmRQb3B1cChwb3B1cF9iY2M0MmFkMzljMGE0ODJhOGU1MjU3YzBmMGI1NTczNikKICAgICAgICAgICAgOwoKICAgICAgICAgICAgCiAgICAgICAgCiAgICAKICAgICAgICAgICAgdmFyIGNpcmNsZV9tYXJrZXJfNzJkNzhiMjViOTc5NDQ1YTlkMWJhYzRhM2Y2OGYyN2YgPSBMLmNpcmNsZU1hcmtlcigKICAgICAgICAgICAgICAgIFs0OS4xNzM1MzQ1MjEyNzY0LCAtMTIxLjk0MzY3MjU2NzU3OTddLAogICAgICAgICAgICAgICAgewogICJidWJibGluZ01vdXNlRXZlbnRzIjogdHJ1ZSwKICAiY29sb3IiOiAiYmx1ZSIsCiAgImRhc2hBcnJheSI6IG51bGwsCiAgImRhc2hPZmZzZXQiOiBudWxsLAogICJmaWxsIjogdHJ1ZSwKICAiZmlsbENvbG9yIjogIiMzMTg2Y2MiLAogICJmaWxsT3BhY2l0eSI6IDAuNywKICAiZmlsbFJ1bGUiOiAiZXZlbm9kZCIsCiAgImxpbmVDYXAiOiAicm91bmQiLAogICJsaW5lSm9pbiI6ICJyb3VuZCIsCiAgIm9wYWNpdHkiOiAxLjAsCiAgInJhZGl1cyI6IDUsCiAgInN0cm9rZSI6IHRydWUsCiAgIndlaWdodCI6IDMKfQogICAgICAgICAgICAgICAgKQogICAgICAgICAgICAgICAgLmFkZFRvKG1hcF9jODAxOGM2YmM4MzU0NWE5OGI1MDgzYTdlOTA3OWFiMSk7CiAgICAgICAgICAgIAogICAgCiAgICAgICAgICAgIHZhciBwb3B1cF8wNjBiN2Y0YWVjMTk0ODA0ODA2NmUzYzViNmE5ZGVmZiA9IEwucG9wdXAoe21heFdpZHRoOiAnMTAwJScKICAgICAgICAgICAgCiAgICAgICAgICAgIH0pOwoKICAgICAgICAgICAgCiAgICAgICAgICAgICAgICB2YXIgaHRtbF85Mzk2NTQzMDVlNDQ0NTMzYjkxYzAzNzc5MTViYjU1YiA9ICQoYDxkaXYgaWQ9Imh0bWxfOTM5NjU0MzA1ZTQ0NDUzM2I5MWMwMzc3OTE1YmI1NWIiIHN0eWxlPSJ3aWR0aDogMTAwLjAlOyBoZWlnaHQ6IDEwMC4wJTsiPkNoaWxsaXdhY2sgTWlkZGxlPC9kaXY+YClbMF07CiAgICAgICAgICAgICAgICBwb3B1cF8wNjBiN2Y0YWVjMTk0ODA0ODA2NmUzYzViNmE5ZGVmZi5zZXRDb250ZW50KGh0bWxfOTM5NjU0MzA1ZTQ0NDUzM2I5MWMwMzc3OTE1YmI1NWIpOwogICAgICAgICAgICAKCiAgICAgICAgICAgIGNpcmNsZV9tYXJrZXJfNzJkNzhiMjViOTc5NDQ1YTlkMWJhYzRhM2Y2OGYyN2YuYmluZFBvcHVwKHBvcHVwXzA2MGI3ZjRhZWMxOTQ4MDQ4MDY2ZTNjNWI2YTlkZWZmKQogICAgICAgICAgICA7CgogICAgICAgICAgICAKICAgICAgICAKICAgIAogICAgICAgICAgICB2YXIgY2lyY2xlX21hcmtlcl9hYzE0NGM3MjY5NzU0YjJkOWQ0MjFmNWQzZWZjMzNmMiA9IEwuY2lyY2xlTWFya2VyKAogICAgICAgICAgICAgICAgWzQ5LjExNjQ5OTE3NzU0MzM0LCAtMTIxLjk2MzU2ODQ4Mjg1MjNdLAogICAgICAgICAgICAgICAgewogICJidWJibGluZ01vdXNlRXZlbnRzIjogdHJ1ZSwKICAiY29sb3IiOiAiYmx1ZSIsCiAgImRhc2hBcnJheSI6IG51bGwsCiAgImRhc2hPZmZzZXQiOiBudWxsLAogICJmaWxsIjogdHJ1ZSwKICAiZmlsbENvbG9yIjogIiMzMTg2Y2MiLAogICJmaWxsT3BhY2l0eSI6IDAuNywKICAiZmlsbFJ1bGUiOiAiZXZlbm9kZCIsCiAgImxpbmVDYXAiOiAicm91bmQiLAogICJsaW5lSm9pbiI6ICJyb3VuZCIsCiAgIm9wYWNpdHkiOiAxLjAsCiAgInJhZGl1cyI6IDUsCiAgInN0cm9rZSI6IHRydWUsCiAgIndlaWdodCI6IDMKfQogICAgICAgICAgICAgICAgKQogICAgICAgICAgICAgICAgLmFkZFRvKG1hcF9jODAxOGM2YmM4MzU0NWE5OGI1MDgzYTdlOTA3OWFiMSk7CiAgICAgICAgICAgIAogICAgCiAgICAgICAgICAgIHZhciBwb3B1cF9jNGZiOWI5MTJkMTI0ZWY1YTVkNTJkMWI2ZDgyODM0NiA9IEwucG9wdXAoe21heFdpZHRoOiAnMTAwJScKICAgICAgICAgICAgCiAgICAgICAgICAgIH0pOwoKICAgICAgICAgICAgCiAgICAgICAgICAgICAgICB2YXIgaHRtbF80NzVkMTk3MDk3OTA0MDcyYTk2ZGE0MDMwM2NkOGZhZSA9ICQoYDxkaXYgaWQ9Imh0bWxfNDc1ZDE5NzA5NzkwNDA3MmE5NmRhNDAzMDNjZDhmYWUiIHN0eWxlPSJ3aWR0aDogMTAwLjAlOyBoZWlnaHQ6IDEwMC4wJTsiPlZlZGRlciBNaWRkbGU8L2Rpdj5gKVswXTsKICAgICAgICAgICAgICAgIHBvcHVwX2M0ZmI5YjkxMmQxMjRlZjVhNWQ1MmQxYjZkODI4MzQ2LnNldENvbnRlbnQoaHRtbF80NzVkMTk3MDk3OTA0MDcyYTk2ZGE0MDMwM2NkOGZhZSk7CiAgICAgICAgICAgIAoKICAgICAgICAgICAgY2lyY2xlX21hcmtlcl9hYzE0NGM3MjY5NzU0YjJkOWQ0MjFmNWQzZWZjMzNmMi5iaW5kUG9wdXAocG9wdXBfYzRmYjliOTEyZDEyNGVmNWE1ZDUyZDFiNmQ4MjgzNDYpCiAgICAgICAgICAgIDsKCiAgICAgICAgICAgIAogICAgICAgIAogICAgCiAgICAgICAgICAgIHZhciBjaXJjbGVfbWFya2VyX2Q4M2UwMzZhMTk2MzRiY2Y4MTU5YTRiOGYwMzE3NjA1ID0gTC5jaXJjbGVNYXJrZXIoCiAgICAgICAgICAgICAgICBbNDkuMTU2Nzg2MTg3OTU2NTksIC0xMjEuODE0NzAzMzc4OTkyNDZdLAogICAgICAgICAgICAgICAgewogICJidWJibGluZ01vdXNlRXZlbnRzIjogdHJ1ZSwKICAiY29sb3IiOiAiYmx1ZSIsCiAgImRhc2hBcnJheSI6IG51bGwsCiAgImRhc2hPZmZzZXQiOiBudWxsLAogICJmaWxsIjogdHJ1ZSwKICAiZmlsbENvbG9yIjogIiMzMTg2Y2MiLAogICJmaWxsT3BhY2l0eSI6IDAuNywKICAiZmlsbFJ1bGUiOiAiZXZlbm9kZCIsCiAgImxpbmVDYXAiOiAicm91bmQiLAogICJsaW5lSm9pbiI6ICJyb3VuZCIsCiAgIm9wYWNpdHkiOiAxLjAsCiAgInJhZGl1cyI6IDUsCiAgInN0cm9rZSI6IHRydWUsCiAgIndlaWdodCI6IDMKfQogICAgICAgICAgICAgICAgKQogICAgICAgICAgICAgICAgLmFkZFRvKG1hcF9jODAxOGM2YmM4MzU0NWE5OGI1MDgzYTdlOTA3OWFiMSk7CiAgICAgICAgICAgIAogICAgCiAgICAgICAgICAgIHZhciBwb3B1cF9mYjVhYmQ3NDQ3YWM0MTEyOWRjYWU5MWExZDljNzY2NSA9IEwucG9wdXAoe21heFdpZHRoOiAnMTAwJScKICAgICAgICAgICAgCiAgICAgICAgICAgIH0pOwoKICAgICAgICAgICAgCiAgICAgICAgICAgICAgICB2YXIgaHRtbF9kZGY2MjQxOGRlMTM0YzMxYTdhZTY3NDkyZWI5N2UwMyA9ICQoYDxkaXYgaWQ9Imh0bWxfZGRmNjI0MThkZTEzNGMzMWE3YWU2NzQ5MmViOTdlMDMiIHN0eWxlPSJ3aWR0aDogMTAwLjAlOyBoZWlnaHQ6IDEwMC4wJTsiPlVuaXR5IENocmlzdGlhbiBTY2hvb2w8L2Rpdj5gKVswXTsKICAgICAgICAgICAgICAgIHBvcHVwX2ZiNWFiZDc0NDdhYzQxMTI5ZGNhZTkxYTFkOWM3NjY1LnNldENvbnRlbnQoaHRtbF9kZGY2MjQxOGRlMTM0YzMxYTdhZTY3NDkyZWI5N2UwMyk7CiAgICAgICAgICAgIAoKICAgICAgICAgICAgY2lyY2xlX21hcmtlcl9kODNlMDM2YTE5NjM0YmNmODE1OWE0YjhmMDMxNzYwNS5iaW5kUG9wdXAocG9wdXBfZmI1YWJkNzQ0N2FjNDExMjlkY2FlOTFhMWQ5Yzc2NjUpCiAgICAgICAgICAgIDsKCiAgICAgICAgICAgIAogICAgICAgIAogICAgCiAgICAgICAgICAgIHZhciBjaXJjbGVfbWFya2VyXzFiNTMwZjFhMzI5YTQ5MmM5M2Q2YzY2OWExMDJhYTQxID0gTC5jaXJjbGVNYXJrZXIoCiAgICAgICAgICAgICAgICBbNDkuMTA3NzkxOTE4MTMxODMsIC0xMjEuOTUzMjA3NTQ0MTIxNDddLAogICAgICAgICAgICAgICAgewogICJidWJibGluZ01vdXNlRXZlbnRzIjogdHJ1ZSwKICAiY29sb3IiOiAiYmx1ZSIsCiAgImRhc2hBcnJheSI6IG51bGwsCiAgImRhc2hPZmZzZXQiOiBudWxsLAogICJmaWxsIjogdHJ1ZSwKICAiZmlsbENvbG9yIjogIiMzMTg2Y2MiLAogICJmaWxsT3BhY2l0eSI6IDAuNywKICAiZmlsbFJ1bGUiOiAiZXZlbm9kZCIsCiAgImxpbmVDYXAiOiAicm91bmQiLAogICJsaW5lSm9pbiI6ICJyb3VuZCIsCiAgIm9wYWNpdHkiOiAxLjAsCiAgInJhZGl1cyI6IDUsCiAgInN0cm9rZSI6IHRydWUsCiAgIndlaWdodCI6IDMKfQogICAgICAgICAgICAgICAgKQogICAgICAgICAgICAgICAgLmFkZFRvKG1hcF9jODAxOGM2YmM4MzU0NWE5OGI1MDgzYTdlOTA3OWFiMSk7CiAgICAgICAgICAgIAogICAgCiAgICAgICAgICAgIHZhciBwb3B1cF9jM2I1YmJkYjQzMTU0MDAzODY2OTEwMjBmMjkyNzdlMiA9IEwucG9wdXAoe21heFdpZHRoOiAnMTAwJScKICAgICAgICAgICAgCiAgICAgICAgICAgIH0pOwoKICAgICAgICAgICAgCiAgICAgICAgICAgICAgICB2YXIgaHRtbF85MzI1ZTRjOGE0MTg0ODI0OWNmZDdkNThlMTc4ODBmNiA9ICQoYDxkaXYgaWQ9Imh0bWxfOTMyNWU0YzhhNDE4NDgyNDljZmQ3ZDU4ZTE3ODgwZjYiIHN0eWxlPSJ3aWR0aDogMTAwLjAlOyBoZWlnaHQ6IDEwMC4wJTsiPkcuVy4gR3JhaGFtIE1pZGRsZS1TZWNvbmRhcnk8L2Rpdj5gKVswXTsKICAgICAgICAgICAgICAgIHBvcHVwX2MzYjViYmRiNDMxNTQwMDM4NjY5MTAyMGYyOTI3N2UyLnNldENvbnRlbnQoaHRtbF85MzI1ZTRjOGE0MTg0ODI0OWNmZDdkNThlMTc4ODBmNik7CiAgICAgICAgICAgIAoKICAgICAgICAgICAgY2lyY2xlX21hcmtlcl8xYjUzMGYxYTMyOWE0OTJjOTNkNmM2NjlhMTAyYWE0MS5iaW5kUG9wdXAocG9wdXBfYzNiNWJiZGI0MzE1NDAwMzg2NjkxMDIwZjI5Mjc3ZTIpCiAgICAgICAgICAgIDsKCiAgICAgICAgICAgIAogICAgICAgIAogICAgCiAgICAgICAgICAgIHZhciBjaXJjbGVfbWFya2VyXzUwMTFjYmI3MmE0ZjQ1NDBiZjJhZTg1NWFhYjUyMGJhID0gTC5jaXJjbGVNYXJrZXIoCiAgICAgICAgICAgICAgICBbNDkuMTEwNDQ1MDQ1MDA2NDMsIC0xMjEuOTU0ODM5NTM3NzQ3NDddLAogICAgICAgICAgICAgICAgewogICJidWJibGluZ01vdXNlRXZlbnRzIjogdHJ1ZSwKICAiY29sb3IiOiAiYmx1ZSIsCiAgImRhc2hBcnJheSI6IG51bGwsCiAgImRhc2hPZmZzZXQiOiBudWxsLAogICJmaWxsIjogdHJ1ZSwKICAiZmlsbENvbG9yIjogIiMzMTg2Y2MiLAogICJmaWxsT3BhY2l0eSI6IDAuNywKICAiZmlsbFJ1bGUiOiAiZXZlbm9kZCIsCiAgImxpbmVDYXAiOiAicm91bmQiLAogICJsaW5lSm9pbiI6ICJyb3VuZCIsCiAgIm9wYWNpdHkiOiAxLjAsCiAgInJhZGl1cyI6IDUsCiAgInN0cm9rZSI6IHRydWUsCiAgIndlaWdodCI6IDMKfQogICAgICAgICAgICAgICAgKQogICAgICAgICAgICAgICAgLmFkZFRvKG1hcF9jODAxOGM2YmM4MzU0NWE5OGI1MDgzYTdlOTA3OWFiMSk7CiAgICAgICAgICAgIAogICAgCiAgICAgICAgICAgIHZhciBwb3B1cF80YWI1NDBhMmJlODE0NmY3YTI0NDQ4MDFjYTk0ZmYxOSA9IEwucG9wdXAoe21heFdpZHRoOiAnMTAwJScKICAgICAgICAgICAgCiAgICAgICAgICAgIH0pOwoKICAgICAgICAgICAgCiAgICAgICAgICAgICAgICB2YXIgaHRtbF9hODJhNWE0Zjk2YTc0OWYxYjM2ZDg3ZDBkYmMxOWU5MCA9ICQoYDxkaXYgaWQ9Imh0bWxfYTgyYTVhNGY5NmE3NDlmMWIzNmQ4N2QwZGJjMTllOTAiIHN0eWxlPSJ3aWR0aDogMTAwLjAlOyBoZWlnaHQ6IDEwMC4wJTsiPlZlZGRlciBFbGVtZW50YXJ5PC9kaXY+YClbMF07CiAgICAgICAgICAgICAgICBwb3B1cF80YWI1NDBhMmJlODE0NmY3YTI0NDQ4MDFjYTk0ZmYxOS5zZXRDb250ZW50KGh0bWxfYTgyYTVhNGY5NmE3NDlmMWIzNmQ4N2QwZGJjMTllOTApOwogICAgICAgICAgICAKCiAgICAgICAgICAgIGNpcmNsZV9tYXJrZXJfNTAxMWNiYjcyYTRmNDU0MGJmMmFlODU1YWFiNTIwYmEuYmluZFBvcHVwKHBvcHVwXzRhYjU0MGEyYmU4MTQ2ZjdhMjQ0NDgwMWNhOTRmZjE5KQogICAgICAgICAgICA7CgogICAgICAgICAgICAKICAgICAgICAKPC9zY3JpcHQ+ onload=\"this.contentDocument.open();this.contentDocument.write(atob(this.getAttribute('data-html')));this.contentDocument.close();\" allowfullscreen webkitallowfullscreen mozallowfullscreen></iframe></div></div>"
            ],
            "text/plain": [
              "<folium.folium.Map at 0x7fdfef83bba8>"
            ]
          },
          "metadata": {
            "tags": []
          },
          "execution_count": 43
        }
      ]
    },
    {
      "cell_type": "code",
      "metadata": {
        "colab": {
          "base_uri": "https://localhost:8080/"
        },
        "id": "U_1vFPu6DYxt",
        "outputId": "f0a18afd-8b4e-4956-aab2-1465104dcdea"
      },
      "source": [
        "chilliwack_schools = getNearbyVenues(names=ds_geo['NAME'],\r\n",
        "                                   latitudes=ds_geo['latitude'],\r\n",
        "                                   longitudes=ds_geo['longitude'],\r\n",
        "                                   categoryID='4bf58dd8d48988d13b941735'\r\n",
        "                                  )"
      ],
      "execution_count": 44,
      "outputs": [
        {
          "output_type": "stream",
          "text": [
            "Chilliwack Proper\n",
            "Rosedale\n",
            "Sardis - Vedder\n",
            "Yarrow\n",
            "Village West\n",
            "Greendale\n",
            "Cattermole\n",
            "Chilliwack Mountain\n",
            "Ryder Lake\n",
            "Eastern Hillsides\n",
            "Promontory\n"
          ],
          "name": "stdout"
        }
      ]
    },
    {
      "cell_type": "code",
      "metadata": {
        "colab": {
          "base_uri": "https://localhost:8080/"
        },
        "id": "BjqB6xgCEV3U",
        "outputId": "a90dbf7a-dc50-42b4-d430-efb9b4af3d3b"
      },
      "source": [
        "chilliwack_schools.shape"
      ],
      "execution_count": 45,
      "outputs": [
        {
          "output_type": "execute_result",
          "data": {
            "text/plain": [
              "(3, 7)"
            ]
          },
          "metadata": {
            "tags": []
          },
          "execution_count": 45
        }
      ]
    },
    {
      "cell_type": "code",
      "metadata": {
        "colab": {
          "base_uri": "https://localhost:8080/",
          "height": 142
        },
        "id": "NhPCghZ4EX6m",
        "outputId": "79e118cc-f139-4416-dca1-c449d2da8a63"
      },
      "source": [
        "chilliwack_schools.head()"
      ],
      "execution_count": 46,
      "outputs": [
        {
          "output_type": "execute_result",
          "data": {
            "text/html": [
              "<div>\n",
              "<style scoped>\n",
              "    .dataframe tbody tr th:only-of-type {\n",
              "        vertical-align: middle;\n",
              "    }\n",
              "\n",
              "    .dataframe tbody tr th {\n",
              "        vertical-align: top;\n",
              "    }\n",
              "\n",
              "    .dataframe thead th {\n",
              "        text-align: right;\n",
              "    }\n",
              "</style>\n",
              "<table border=\"1\" class=\"dataframe\">\n",
              "  <thead>\n",
              "    <tr style=\"text-align: right;\">\n",
              "      <th></th>\n",
              "      <th>Neighborhood</th>\n",
              "      <th>Neighborhood Latitude</th>\n",
              "      <th>Neighborhood Longitude</th>\n",
              "      <th>Venue</th>\n",
              "      <th>Venue Latitude</th>\n",
              "      <th>Venue Longitude</th>\n",
              "      <th>Venue Category</th>\n",
              "    </tr>\n",
              "  </thead>\n",
              "  <tbody>\n",
              "    <tr>\n",
              "      <th>0</th>\n",
              "      <td>Chilliwack Proper</td>\n",
              "      <td>49.172067</td>\n",
              "      <td>-121.944413</td>\n",
              "      <td>Chilliwack Senior Secondary School</td>\n",
              "      <td>49.174939</td>\n",
              "      <td>-121.943110</td>\n",
              "      <td>High School</td>\n",
              "    </tr>\n",
              "    <tr>\n",
              "      <th>1</th>\n",
              "      <td>Sardis - Vedder</td>\n",
              "      <td>49.118807</td>\n",
              "      <td>-121.966648</td>\n",
              "      <td>Vedder Middle School</td>\n",
              "      <td>49.117895</td>\n",
              "      <td>-121.964202</td>\n",
              "      <td>High School</td>\n",
              "    </tr>\n",
              "    <tr>\n",
              "      <th>2</th>\n",
              "      <td>Sardis - Vedder</td>\n",
              "      <td>49.118807</td>\n",
              "      <td>-121.966648</td>\n",
              "      <td>Sardis Secondary School</td>\n",
              "      <td>49.122155</td>\n",
              "      <td>-121.967356</td>\n",
              "      <td>High School</td>\n",
              "    </tr>\n",
              "  </tbody>\n",
              "</table>\n",
              "</div>"
            ],
            "text/plain": [
              "        Neighborhood  Neighborhood Latitude  Neighborhood Longitude  \\\n",
              "0  Chilliwack Proper              49.172067             -121.944413   \n",
              "1    Sardis - Vedder              49.118807             -121.966648   \n",
              "2    Sardis - Vedder              49.118807             -121.966648   \n",
              "\n",
              "                                Venue  Venue Latitude  Venue Longitude  \\\n",
              "0  Chilliwack Senior Secondary School       49.174939      -121.943110   \n",
              "1                Vedder Middle School       49.117895      -121.964202   \n",
              "2             Sardis Secondary School       49.122155      -121.967356   \n",
              "\n",
              "  Venue Category  \n",
              "0    High School  \n",
              "1    High School  \n",
              "2    High School  "
            ]
          },
          "metadata": {
            "tags": []
          },
          "execution_count": 46
        }
      ]
    }
  ]
}