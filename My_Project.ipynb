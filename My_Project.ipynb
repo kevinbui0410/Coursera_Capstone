{
  "nbformat": 4,
  "nbformat_minor": 0,
  "metadata": {
    "colab": {
      "name": "My Project.ipynb",
      "provenance": [],
      "authorship_tag": "ABX9TyN3epDqtmybQmrrBHnG2c30",
      "include_colab_link": true
    },
    "kernelspec": {
      "name": "python3",
      "display_name": "Python 3"
    }
  },
  "cells": [
    {
      "cell_type": "markdown",
      "metadata": {
        "id": "view-in-github",
        "colab_type": "text"
      },
      "source": [
        "<a href=\"https://colab.research.google.com/github/kevinbui0410/Coursera_Capstone/blob/main/My_Project.ipynb\" target=\"_parent\"><img src=\"https://colab.research.google.com/assets/colab-badge.svg\" alt=\"Open In Colab\"/></a>"
      ]
    },
    {
      "cell_type": "markdown",
      "metadata": {
        "id": "4I7L08aAjh4u"
      },
      "source": [
        "# Coursera_Capstone\r\n",
        "\r\n",
        "**City Segmentation Project**\r\n",
        "\r\n",
        "This project will segment a city in Canada into different neighborhoods using the geographical coordinates of the center of each neighborhood. And then, using a combination of location data and machine learning, it will group the neighborhoods into clusters."
      ]
    },
    {
      "cell_type": "code",
      "metadata": {
        "id": "zsrrMHqAjepY"
      },
      "source": [
        "import pandas as pd\r\n",
        "import numpy as np"
      ],
      "execution_count": 1,
      "outputs": []
    },
    {
      "cell_type": "code",
      "metadata": {
        "colab": {
          "base_uri": "https://localhost:8080/"
        },
        "id": "MS4-dVBMj0zH",
        "outputId": "de2463d8-5ba5-4e3d-a2e6-5b0b8513ba08"
      },
      "source": [
        "print('Hello Capstone Project Course!')"
      ],
      "execution_count": 2,
      "outputs": [
        {
          "output_type": "stream",
          "text": [
            "Hello Capstone Project Course!\n"
          ],
          "name": "stdout"
        }
      ]
    },
    {
      "cell_type": "code",
      "metadata": {
        "id": "qjddPw8Yj43d"
      },
      "source": [
        ""
      ],
      "execution_count": null,
      "outputs": []
    }
  ]
}